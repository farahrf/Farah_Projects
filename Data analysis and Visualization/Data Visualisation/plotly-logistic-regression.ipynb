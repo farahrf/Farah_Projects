{
 "cells": [
  {
   "cell_type": "code",
   "execution_count": 1,
   "id": "2007a998",
   "metadata": {
    "execution": {
     "iopub.execute_input": "2023-09-14T08:51:23.652502Z",
     "iopub.status.busy": "2023-09-14T08:51:23.652085Z",
     "iopub.status.idle": "2023-09-14T08:51:24.769984Z",
     "shell.execute_reply": "2023-09-14T08:51:24.769023Z"
    },
    "papermill": {
     "duration": 1.136311,
     "end_time": "2023-09-14T08:51:24.772432",
     "exception": false,
     "start_time": "2023-09-14T08:51:23.636121",
     "status": "completed"
    },
    "tags": []
   },
   "outputs": [
    {
     "name": "stderr",
     "output_type": "stream",
     "text": [
      "/opt/conda/lib/python3.10/site-packages/scipy/__init__.py:146: UserWarning: A NumPy version >=1.16.5 and <1.23.0 is required for this version of SciPy (detected version 1.23.5\n",
      "  warnings.warn(f\"A NumPy version >={np_minversion} and <{np_maxversion}\"\n"
     ]
    }
   ],
   "source": [
    "import numpy as np\n",
    "import pandas as pd\n",
    "\n",
    "import seaborn as sns\n",
    "\n",
    "import warnings\n",
    "warnings.filterwarnings(\"ignore\")\n"
   ]
  },
  {
   "cell_type": "code",
   "execution_count": 2,
   "id": "c5c312cb",
   "metadata": {
    "execution": {
     "iopub.execute_input": "2023-09-14T08:51:24.802288Z",
     "iopub.status.busy": "2023-09-14T08:51:24.801997Z",
     "iopub.status.idle": "2023-09-14T08:51:24.813409Z",
     "shell.execute_reply": "2023-09-14T08:51:24.812532Z"
    },
    "papermill": {
     "duration": 0.026199,
     "end_time": "2023-09-14T08:51:24.815488",
     "exception": false,
     "start_time": "2023-09-14T08:51:24.789289",
     "status": "completed"
    },
    "tags": []
   },
   "outputs": [
    {
     "data": {
      "text/plain": [
       "['fitness_class_2212.csv']"
      ]
     },
     "execution_count": 2,
     "metadata": {},
     "output_type": "execute_result"
    }
   ],
   "source": [
    "import os\n",
    "os.listdir('/kaggle/input/datacamps-data-science-associate-certification')"
   ]
  },
  {
   "cell_type": "markdown",
   "id": "99b04355",
   "metadata": {
    "papermill": {
     "duration": 0.011282,
     "end_time": "2023-09-14T08:51:24.838338",
     "exception": false,
     "start_time": "2023-09-14T08:51:24.827056",
     "status": "completed"
    },
    "tags": []
   },
   "source": [
    "Data Preprocssing"
   ]
  },
  {
   "cell_type": "code",
   "execution_count": 3,
   "id": "7f33e251",
   "metadata": {
    "execution": {
     "iopub.execute_input": "2023-09-14T08:51:24.863092Z",
     "iopub.status.busy": "2023-09-14T08:51:24.862295Z",
     "iopub.status.idle": "2023-09-14T08:51:24.890129Z",
     "shell.execute_reply": "2023-09-14T08:51:24.889055Z"
    },
    "papermill": {
     "duration": 0.042593,
     "end_time": "2023-09-14T08:51:24.892561",
     "exception": false,
     "start_time": "2023-09-14T08:51:24.849968",
     "status": "completed"
    },
    "tags": []
   },
   "outputs": [
    {
     "data": {
      "text/html": [
       "<div>\n",
       "<style scoped>\n",
       "    .dataframe tbody tr th:only-of-type {\n",
       "        vertical-align: middle;\n",
       "    }\n",
       "\n",
       "    .dataframe tbody tr th {\n",
       "        vertical-align: top;\n",
       "    }\n",
       "\n",
       "    .dataframe thead th {\n",
       "        text-align: right;\n",
       "    }\n",
       "</style>\n",
       "<table border=\"1\" class=\"dataframe\">\n",
       "  <thead>\n",
       "    <tr style=\"text-align: right;\">\n",
       "      <th></th>\n",
       "      <th>booking_id</th>\n",
       "      <th>months_as_member</th>\n",
       "      <th>weight</th>\n",
       "      <th>days_before</th>\n",
       "      <th>day_of_week</th>\n",
       "      <th>time</th>\n",
       "      <th>category</th>\n",
       "      <th>attended</th>\n",
       "    </tr>\n",
       "  </thead>\n",
       "  <tbody>\n",
       "    <tr>\n",
       "      <th>0</th>\n",
       "      <td>1</td>\n",
       "      <td>17</td>\n",
       "      <td>79.56</td>\n",
       "      <td>8</td>\n",
       "      <td>Wed</td>\n",
       "      <td>PM</td>\n",
       "      <td>Strength</td>\n",
       "      <td>0</td>\n",
       "    </tr>\n",
       "    <tr>\n",
       "      <th>1</th>\n",
       "      <td>2</td>\n",
       "      <td>10</td>\n",
       "      <td>79.01</td>\n",
       "      <td>2</td>\n",
       "      <td>Mon</td>\n",
       "      <td>AM</td>\n",
       "      <td>HIIT</td>\n",
       "      <td>0</td>\n",
       "    </tr>\n",
       "    <tr>\n",
       "      <th>2</th>\n",
       "      <td>3</td>\n",
       "      <td>16</td>\n",
       "      <td>74.53</td>\n",
       "      <td>14</td>\n",
       "      <td>Sun</td>\n",
       "      <td>AM</td>\n",
       "      <td>Strength</td>\n",
       "      <td>0</td>\n",
       "    </tr>\n",
       "    <tr>\n",
       "      <th>3</th>\n",
       "      <td>4</td>\n",
       "      <td>5</td>\n",
       "      <td>86.12</td>\n",
       "      <td>10</td>\n",
       "      <td>Fri</td>\n",
       "      <td>AM</td>\n",
       "      <td>Cycling</td>\n",
       "      <td>0</td>\n",
       "    </tr>\n",
       "    <tr>\n",
       "      <th>4</th>\n",
       "      <td>5</td>\n",
       "      <td>15</td>\n",
       "      <td>69.29</td>\n",
       "      <td>8</td>\n",
       "      <td>Thu</td>\n",
       "      <td>AM</td>\n",
       "      <td>HIIT</td>\n",
       "      <td>0</td>\n",
       "    </tr>\n",
       "  </tbody>\n",
       "</table>\n",
       "</div>"
      ],
      "text/plain": [
       "   booking_id  months_as_member  weight days_before day_of_week time  \\\n",
       "0           1                17   79.56           8         Wed   PM   \n",
       "1           2                10   79.01           2         Mon   AM   \n",
       "2           3                16   74.53          14         Sun   AM   \n",
       "3           4                 5   86.12          10         Fri   AM   \n",
       "4           5                15   69.29           8         Thu   AM   \n",
       "\n",
       "   category  attended  \n",
       "0  Strength         0  \n",
       "1      HIIT         0  \n",
       "2  Strength         0  \n",
       "3   Cycling         0  \n",
       "4      HIIT         0  "
      ]
     },
     "execution_count": 3,
     "metadata": {},
     "output_type": "execute_result"
    }
   ],
   "source": [
    "df = pd.read_csv('/kaggle/input/datacamps-data-science-associate-certification/fitness_class_2212.csv') \n",
    "df.head()"
   ]
  },
  {
   "cell_type": "code",
   "execution_count": 4,
   "id": "933ce10b",
   "metadata": {
    "execution": {
     "iopub.execute_input": "2023-09-14T08:51:24.917138Z",
     "iopub.status.busy": "2023-09-14T08:51:24.916872Z",
     "iopub.status.idle": "2023-09-14T08:51:24.922294Z",
     "shell.execute_reply": "2023-09-14T08:51:24.921425Z"
    },
    "papermill": {
     "duration": 0.019909,
     "end_time": "2023-09-14T08:51:24.924217",
     "exception": false,
     "start_time": "2023-09-14T08:51:24.904308",
     "status": "completed"
    },
    "tags": []
   },
   "outputs": [
    {
     "data": {
      "text/plain": [
       "(1500, 8)"
      ]
     },
     "execution_count": 4,
     "metadata": {},
     "output_type": "execute_result"
    }
   ],
   "source": [
    "df.shape"
   ]
  },
  {
   "cell_type": "code",
   "execution_count": 5,
   "id": "fe1f032f",
   "metadata": {
    "execution": {
     "iopub.execute_input": "2023-09-14T08:51:24.949795Z",
     "iopub.status.busy": "2023-09-14T08:51:24.949018Z",
     "iopub.status.idle": "2023-09-14T08:51:24.970127Z",
     "shell.execute_reply": "2023-09-14T08:51:24.969247Z"
    },
    "outputsMetadata": {
     "0": {
      "height": 317,
      "type": "stream"
     }
    },
    "papermill": {
     "duration": 0.035796,
     "end_time": "2023-09-14T08:51:24.972173",
     "exception": false,
     "start_time": "2023-09-14T08:51:24.936377",
     "status": "completed"
    },
    "tags": []
   },
   "outputs": [
    {
     "name": "stdout",
     "output_type": "stream",
     "text": [
      "<class 'pandas.core.frame.DataFrame'>\n",
      "RangeIndex: 1500 entries, 0 to 1499\n",
      "Data columns (total 8 columns):\n",
      " #   Column            Non-Null Count  Dtype  \n",
      "---  ------            --------------  -----  \n",
      " 0   booking_id        1500 non-null   int64  \n",
      " 1   months_as_member  1500 non-null   int64  \n",
      " 2   weight            1480 non-null   float64\n",
      " 3   days_before       1500 non-null   object \n",
      " 4   day_of_week       1500 non-null   object \n",
      " 5   time              1500 non-null   object \n",
      " 6   category          1500 non-null   object \n",
      " 7   attended          1500 non-null   int64  \n",
      "dtypes: float64(1), int64(3), object(4)\n",
      "memory usage: 93.9+ KB\n"
     ]
    }
   ],
   "source": [
    "df.info()"
   ]
  },
  {
   "cell_type": "code",
   "execution_count": 6,
   "id": "fd5cee67",
   "metadata": {
    "execution": {
     "iopub.execute_input": "2023-09-14T08:51:24.997591Z",
     "iopub.status.busy": "2023-09-14T08:51:24.996831Z",
     "iopub.status.idle": "2023-09-14T08:51:25.003799Z",
     "shell.execute_reply": "2023-09-14T08:51:25.002722Z"
    },
    "papermill": {
     "duration": 0.022676,
     "end_time": "2023-09-14T08:51:25.006624",
     "exception": false,
     "start_time": "2023-09-14T08:51:24.983948",
     "status": "completed"
    },
    "tags": []
   },
   "outputs": [
    {
     "data": {
      "text/plain": [
       "array([ 17,  10,  16,   5,  15,   7,  11,   9,  23,  13,   8,  22,   6,\n",
       "        33,  24,  14,   2,  12,  26,  28,  27,   1,   3,  21,  18,  19,\n",
       "        53,  20,  34,  25,  32,  73,  55,   4,  35,  54,  76,  62,  42,\n",
       "       105,  90,  29,  60,  30, 107,  52,  37,  38,  48,  51,  40,  89,\n",
       "        57,  36,  44,  39,  41,  47,  58,  66,  45,  43,  61,  50,  65,\n",
       "        31,  97,  59,  93, 148, 111,  69])"
      ]
     },
     "execution_count": 6,
     "metadata": {},
     "output_type": "execute_result"
    }
   ],
   "source": [
    "df.months_as_member.unique()"
   ]
  },
  {
   "cell_type": "markdown",
   "id": "d463fd2b",
   "metadata": {
    "jupyter": {
     "outputs_hidden": false
    },
    "papermill": {
     "duration": 0.011797,
     "end_time": "2023-09-14T08:51:25.031033",
     "exception": false,
     "start_time": "2023-09-14T08:51:25.019236",
     "status": "completed"
    },
    "tags": []
   },
   "source": [
    "This data seems fine"
   ]
  },
  {
   "cell_type": "code",
   "execution_count": 7,
   "id": "d636b7f4",
   "metadata": {
    "execution": {
     "iopub.execute_input": "2023-09-14T08:51:25.056441Z",
     "iopub.status.busy": "2023-09-14T08:51:25.056177Z",
     "iopub.status.idle": "2023-09-14T08:51:25.064087Z",
     "shell.execute_reply": "2023-09-14T08:51:25.063233Z"
    },
    "papermill": {
     "duration": 0.023054,
     "end_time": "2023-09-14T08:51:25.066060",
     "exception": false,
     "start_time": "2023-09-14T08:51:25.043006",
     "status": "completed"
    },
    "tags": []
   },
   "outputs": [
    {
     "data": {
      "text/plain": [
       "array(['8', '2', '14', '10', '6', '4', '9', '12', '5', '3', '7', '13',\n",
       "       '12 days', '20', '1', '15', '6 days', '11', '13 days', '3 days',\n",
       "       '16', '1 days', '7 days', '8 days', '10 days', '14 days', '17',\n",
       "       '5 days', '2 days', '4 days', '29'], dtype=object)"
      ]
     },
     "execution_count": 7,
     "metadata": {},
     "output_type": "execute_result"
    }
   ],
   "source": [
    "df.days_before.unique()"
   ]
  },
  {
   "cell_type": "markdown",
   "id": "1b31e667",
   "metadata": {
    "jupyter": {
     "outputs_hidden": false
    },
    "papermill": {
     "duration": 0.012617,
     "end_time": "2023-09-14T08:51:25.090840",
     "exception": false,
     "start_time": "2023-09-14T08:51:25.078223",
     "status": "completed"
    },
    "tags": []
   },
   "source": [
    "- We see that this include days mentioned resulting it as Object type. Let's fix it\n"
   ]
  },
  {
   "cell_type": "code",
   "execution_count": 8,
   "id": "6fdb063a",
   "metadata": {
    "execution": {
     "iopub.execute_input": "2023-09-14T08:51:25.116923Z",
     "iopub.status.busy": "2023-09-14T08:51:25.116654Z",
     "iopub.status.idle": "2023-09-14T08:51:25.123328Z",
     "shell.execute_reply": "2023-09-14T08:51:25.122395Z"
    },
    "papermill": {
     "duration": 0.022134,
     "end_time": "2023-09-14T08:51:25.125328",
     "exception": false,
     "start_time": "2023-09-14T08:51:25.103194",
     "status": "completed"
    },
    "tags": []
   },
   "outputs": [],
   "source": [
    "df['days_before'] = df['days_before'].str.replace(' days', '').astype(int)\n"
   ]
  },
  {
   "cell_type": "code",
   "execution_count": 9,
   "id": "1e1dc4a4",
   "metadata": {
    "execution": {
     "iopub.execute_input": "2023-09-14T08:51:25.151072Z",
     "iopub.status.busy": "2023-09-14T08:51:25.150804Z",
     "iopub.status.idle": "2023-09-14T08:51:25.158064Z",
     "shell.execute_reply": "2023-09-14T08:51:25.157063Z"
    },
    "papermill": {
     "duration": 0.023693,
     "end_time": "2023-09-14T08:51:25.161189",
     "exception": false,
     "start_time": "2023-09-14T08:51:25.137496",
     "status": "completed"
    },
    "tags": []
   },
   "outputs": [
    {
     "data": {
      "text/plain": [
       "Int64Index([1, 2, 3, 4, 5, 6, 7, 8, 9, 10, 11, 12, 13, 14, 15, 16, 17, 20, 29], dtype='int64')"
      ]
     },
     "execution_count": 9,
     "metadata": {},
     "output_type": "execute_result"
    }
   ],
   "source": [
    "df['days_before'].value_counts().index.sort_values()"
   ]
  },
  {
   "cell_type": "code",
   "execution_count": 10,
   "id": "a5317e7b",
   "metadata": {
    "execution": {
     "iopub.execute_input": "2023-09-14T08:51:25.187331Z",
     "iopub.status.busy": "2023-09-14T08:51:25.186604Z",
     "iopub.status.idle": "2023-09-14T08:51:25.193147Z",
     "shell.execute_reply": "2023-09-14T08:51:25.192268Z"
    },
    "papermill": {
     "duration": 0.021524,
     "end_time": "2023-09-14T08:51:25.195016",
     "exception": false,
     "start_time": "2023-09-14T08:51:25.173492",
     "status": "completed"
    },
    "tags": []
   },
   "outputs": [
    {
     "data": {
      "text/plain": [
       "array(['Wed', 'Mon', 'Sun', 'Fri', 'Thu', 'Wednesday', 'Fri.', 'Tue',\n",
       "       'Sat', 'Monday'], dtype=object)"
      ]
     },
     "execution_count": 10,
     "metadata": {},
     "output_type": "execute_result"
    }
   ],
   "source": [
    "df.day_of_week.unique()"
   ]
  },
  {
   "cell_type": "code",
   "execution_count": 11,
   "id": "ede849b9",
   "metadata": {
    "execution": {
     "iopub.execute_input": "2023-09-14T08:51:25.221340Z",
     "iopub.status.busy": "2023-09-14T08:51:25.221069Z",
     "iopub.status.idle": "2023-09-14T08:51:25.226651Z",
     "shell.execute_reply": "2023-09-14T08:51:25.225793Z"
    },
    "papermill": {
     "duration": 0.020967,
     "end_time": "2023-09-14T08:51:25.228739",
     "exception": false,
     "start_time": "2023-09-14T08:51:25.207772",
     "status": "completed"
    },
    "tags": []
   },
   "outputs": [],
   "source": [
    "df['day_of_week'] = df['day_of_week'].str.replace('.', '')\n"
   ]
  },
  {
   "cell_type": "code",
   "execution_count": 12,
   "id": "8a611555",
   "metadata": {
    "execution": {
     "iopub.execute_input": "2023-09-14T08:51:25.256238Z",
     "iopub.status.busy": "2023-09-14T08:51:25.254603Z",
     "iopub.status.idle": "2023-09-14T08:51:25.261461Z",
     "shell.execute_reply": "2023-09-14T08:51:25.260611Z"
    },
    "papermill": {
     "duration": 0.02239,
     "end_time": "2023-09-14T08:51:25.263479",
     "exception": false,
     "start_time": "2023-09-14T08:51:25.241089",
     "status": "completed"
    },
    "tags": []
   },
   "outputs": [],
   "source": [
    "day_mapping = {\n",
    "    'Wednesday': 'Wed',\n",
    "    'Monday': 'Mon'\n",
    "}\n",
    "\n",
    "df['day_of_week'] = df['day_of_week'].replace(day_mapping)"
   ]
  },
  {
   "cell_type": "code",
   "execution_count": 13,
   "id": "040bb0c5",
   "metadata": {
    "execution": {
     "iopub.execute_input": "2023-09-14T08:51:25.290504Z",
     "iopub.status.busy": "2023-09-14T08:51:25.289732Z",
     "iopub.status.idle": "2023-09-14T08:51:25.296395Z",
     "shell.execute_reply": "2023-09-14T08:51:25.295391Z"
    },
    "papermill": {
     "duration": 0.022408,
     "end_time": "2023-09-14T08:51:25.298400",
     "exception": false,
     "start_time": "2023-09-14T08:51:25.275992",
     "status": "completed"
    },
    "tags": []
   },
   "outputs": [
    {
     "data": {
      "text/plain": [
       "array(['Wed', 'Mon', 'Sun', 'Fri', 'Thu', 'Tue', 'Sat'], dtype=object)"
      ]
     },
     "execution_count": 13,
     "metadata": {},
     "output_type": "execute_result"
    }
   ],
   "source": [
    "df.day_of_week.unique()"
   ]
  },
  {
   "cell_type": "code",
   "execution_count": 14,
   "id": "75f92442",
   "metadata": {
    "execution": {
     "iopub.execute_input": "2023-09-14T08:51:25.325215Z",
     "iopub.status.busy": "2023-09-14T08:51:25.324453Z",
     "iopub.status.idle": "2023-09-14T08:51:25.331149Z",
     "shell.execute_reply": "2023-09-14T08:51:25.330156Z"
    },
    "papermill": {
     "duration": 0.02225,
     "end_time": "2023-09-14T08:51:25.333255",
     "exception": false,
     "start_time": "2023-09-14T08:51:25.311005",
     "status": "completed"
    },
    "tags": []
   },
   "outputs": [
    {
     "data": {
      "text/plain": [
       "array(['Strength', 'HIIT', 'Cycling', 'Yoga', '-', 'Aqua'], dtype=object)"
      ]
     },
     "execution_count": 14,
     "metadata": {},
     "output_type": "execute_result"
    }
   ],
   "source": [
    "df.category.unique()"
   ]
  },
  {
   "cell_type": "code",
   "execution_count": 15,
   "id": "d341120b",
   "metadata": {
    "execution": {
     "iopub.execute_input": "2023-09-14T08:51:25.360871Z",
     "iopub.status.busy": "2023-09-14T08:51:25.360070Z",
     "iopub.status.idle": "2023-09-14T08:51:25.365923Z",
     "shell.execute_reply": "2023-09-14T08:51:25.365003Z"
    },
    "papermill": {
     "duration": 0.021664,
     "end_time": "2023-09-14T08:51:25.367807",
     "exception": false,
     "start_time": "2023-09-14T08:51:25.346143",
     "status": "completed"
    },
    "tags": []
   },
   "outputs": [],
   "source": [
    "df['category']=df['category'].replace('-', np.nan)"
   ]
  },
  {
   "cell_type": "code",
   "execution_count": 16,
   "id": "2b894358",
   "metadata": {
    "execution": {
     "iopub.execute_input": "2023-09-14T08:51:25.395083Z",
     "iopub.status.busy": "2023-09-14T08:51:25.394801Z",
     "iopub.status.idle": "2023-09-14T08:51:25.402590Z",
     "shell.execute_reply": "2023-09-14T08:51:25.401705Z"
    },
    "papermill": {
     "duration": 0.023915,
     "end_time": "2023-09-14T08:51:25.404547",
     "exception": false,
     "start_time": "2023-09-14T08:51:25.380632",
     "status": "completed"
    },
    "tags": []
   },
   "outputs": [
    {
     "data": {
      "text/plain": [
       "HIIT        667\n",
       "Cycling     376\n",
       "Strength    233\n",
       "Yoga        135\n",
       "Aqua         76\n",
       "Name: category, dtype: int64"
      ]
     },
     "execution_count": 16,
     "metadata": {},
     "output_type": "execute_result"
    }
   ],
   "source": [
    "df.category.value_counts()"
   ]
  },
  {
   "cell_type": "code",
   "execution_count": 17,
   "id": "42f16a4f",
   "metadata": {
    "execution": {
     "iopub.execute_input": "2023-09-14T08:51:25.431963Z",
     "iopub.status.busy": "2023-09-14T08:51:25.431411Z",
     "iopub.status.idle": "2023-09-14T08:51:25.441687Z",
     "shell.execute_reply": "2023-09-14T08:51:25.440602Z"
    },
    "papermill": {
     "duration": 0.026281,
     "end_time": "2023-09-14T08:51:25.443857",
     "exception": false,
     "start_time": "2023-09-14T08:51:25.417576",
     "status": "completed"
    },
    "tags": []
   },
   "outputs": [
    {
     "data": {
      "text/plain": [
       "booking_id           0\n",
       "months_as_member     0\n",
       "weight              20\n",
       "days_before          0\n",
       "day_of_week          0\n",
       "time                 0\n",
       "category            13\n",
       "attended             0\n",
       "dtype: int64"
      ]
     },
     "execution_count": 17,
     "metadata": {},
     "output_type": "execute_result"
    }
   ],
   "source": [
    "df.isnull().sum()"
   ]
  },
  {
   "cell_type": "code",
   "execution_count": 18,
   "id": "7c0809ad",
   "metadata": {
    "execution": {
     "iopub.execute_input": "2023-09-14T08:51:25.471393Z",
     "iopub.status.busy": "2023-09-14T08:51:25.470640Z",
     "iopub.status.idle": "2023-09-14T08:51:25.819697Z",
     "shell.execute_reply": "2023-09-14T08:51:25.818684Z"
    },
    "papermill": {
     "duration": 0.365513,
     "end_time": "2023-09-14T08:51:25.822328",
     "exception": false,
     "start_time": "2023-09-14T08:51:25.456815",
     "status": "completed"
    },
    "tags": []
   },
   "outputs": [],
   "source": [
    "from sklearn.impute import SimpleImputer\n",
    "\n",
    "imputer = SimpleImputer(strategy='mean')\n",
    "df['weight'] = imputer.fit_transform(df[['weight']])\n",
    "imputer=SimpleImputer(strategy='most_frequent')\n",
    "df['category'] = imputer.fit_transform(df[['category']])"
   ]
  },
  {
   "cell_type": "code",
   "execution_count": 19,
   "id": "a4f40350",
   "metadata": {
    "execution": {
     "iopub.execute_input": "2023-09-14T08:51:25.850817Z",
     "iopub.status.busy": "2023-09-14T08:51:25.850056Z",
     "iopub.status.idle": "2023-09-14T08:51:25.861388Z",
     "shell.execute_reply": "2023-09-14T08:51:25.860508Z"
    },
    "papermill": {
     "duration": 0.027622,
     "end_time": "2023-09-14T08:51:25.863456",
     "exception": false,
     "start_time": "2023-09-14T08:51:25.835834",
     "status": "completed"
    },
    "tags": []
   },
   "outputs": [
    {
     "data": {
      "text/plain": [
       "booking_id          0\n",
       "months_as_member    0\n",
       "weight              0\n",
       "days_before         0\n",
       "day_of_week         0\n",
       "time                0\n",
       "category            0\n",
       "attended            0\n",
       "dtype: int64"
      ]
     },
     "execution_count": 19,
     "metadata": {},
     "output_type": "execute_result"
    }
   ],
   "source": [
    "df.isnull().sum()"
   ]
  },
  {
   "cell_type": "code",
   "execution_count": 20,
   "id": "3aeeedc2",
   "metadata": {
    "execution": {
     "iopub.execute_input": "2023-09-14T08:51:25.891321Z",
     "iopub.status.busy": "2023-09-14T08:51:25.891044Z",
     "iopub.status.idle": "2023-09-14T08:51:25.896773Z",
     "shell.execute_reply": "2023-09-14T08:51:25.895802Z"
    },
    "papermill": {
     "duration": 0.02202,
     "end_time": "2023-09-14T08:51:25.898757",
     "exception": false,
     "start_time": "2023-09-14T08:51:25.876737",
     "status": "completed"
    },
    "tags": []
   },
   "outputs": [],
   "source": [
    "from sklearn.preprocessing import LabelEncoder\n",
    "label_encoder = LabelEncoder()\n",
    "df['day_of_week'] = label_encoder.fit_transform(df['day_of_week'])"
   ]
  },
  {
   "cell_type": "code",
   "execution_count": 21,
   "id": "2eb6de37",
   "metadata": {
    "execution": {
     "iopub.execute_input": "2023-09-14T08:51:25.926662Z",
     "iopub.status.busy": "2023-09-14T08:51:25.925890Z",
     "iopub.status.idle": "2023-09-14T08:51:25.934149Z",
     "shell.execute_reply": "2023-09-14T08:51:25.933126Z"
    },
    "papermill": {
     "duration": 0.024136,
     "end_time": "2023-09-14T08:51:25.936138",
     "exception": false,
     "start_time": "2023-09-14T08:51:25.912002",
     "status": "completed"
    },
    "tags": []
   },
   "outputs": [
    {
     "data": {
      "text/plain": [
       "0"
      ]
     },
     "execution_count": 21,
     "metadata": {},
     "output_type": "execute_result"
    }
   ],
   "source": [
    "df.duplicated().sum()"
   ]
  },
  {
   "cell_type": "code",
   "execution_count": 22,
   "id": "7a23320d",
   "metadata": {
    "execution": {
     "iopub.execute_input": "2023-09-14T08:51:25.964374Z",
     "iopub.status.busy": "2023-09-14T08:51:25.963608Z",
     "iopub.status.idle": "2023-09-14T08:51:25.992460Z",
     "shell.execute_reply": "2023-09-14T08:51:25.991478Z"
    },
    "outputsMetadata": {
     "0": {
      "height": 218,
      "type": "dataFrame"
     }
    },
    "papermill": {
     "duration": 0.045486,
     "end_time": "2023-09-14T08:51:25.994735",
     "exception": false,
     "start_time": "2023-09-14T08:51:25.949249",
     "status": "completed"
    },
    "tags": []
   },
   "outputs": [
    {
     "data": {
      "text/html": [
       "<div>\n",
       "<style scoped>\n",
       "    .dataframe tbody tr th:only-of-type {\n",
       "        vertical-align: middle;\n",
       "    }\n",
       "\n",
       "    .dataframe tbody tr th {\n",
       "        vertical-align: top;\n",
       "    }\n",
       "\n",
       "    .dataframe thead th {\n",
       "        text-align: right;\n",
       "    }\n",
       "</style>\n",
       "<table border=\"1\" class=\"dataframe\">\n",
       "  <thead>\n",
       "    <tr style=\"text-align: right;\">\n",
       "      <th></th>\n",
       "      <th>booking_id</th>\n",
       "      <th>months_as_member</th>\n",
       "      <th>weight</th>\n",
       "      <th>days_before</th>\n",
       "      <th>day_of_week</th>\n",
       "      <th>attended</th>\n",
       "    </tr>\n",
       "  </thead>\n",
       "  <tbody>\n",
       "    <tr>\n",
       "      <th>count</th>\n",
       "      <td>1500.000000</td>\n",
       "      <td>1500.000000</td>\n",
       "      <td>1500.000000</td>\n",
       "      <td>1500.000000</td>\n",
       "      <td>1500.000000</td>\n",
       "      <td>1500.000000</td>\n",
       "    </tr>\n",
       "    <tr>\n",
       "      <th>mean</th>\n",
       "      <td>750.500000</td>\n",
       "      <td>15.628667</td>\n",
       "      <td>82.610378</td>\n",
       "      <td>8.346667</td>\n",
       "      <td>2.604000</td>\n",
       "      <td>0.302667</td>\n",
       "    </tr>\n",
       "    <tr>\n",
       "      <th>std</th>\n",
       "      <td>433.157015</td>\n",
       "      <td>12.926543</td>\n",
       "      <td>12.680411</td>\n",
       "      <td>4.077938</td>\n",
       "      <td>1.948088</td>\n",
       "      <td>0.459565</td>\n",
       "    </tr>\n",
       "    <tr>\n",
       "      <th>min</th>\n",
       "      <td>1.000000</td>\n",
       "      <td>1.000000</td>\n",
       "      <td>55.410000</td>\n",
       "      <td>1.000000</td>\n",
       "      <td>0.000000</td>\n",
       "      <td>0.000000</td>\n",
       "    </tr>\n",
       "    <tr>\n",
       "      <th>25%</th>\n",
       "      <td>375.750000</td>\n",
       "      <td>8.000000</td>\n",
       "      <td>73.562500</td>\n",
       "      <td>4.000000</td>\n",
       "      <td>1.000000</td>\n",
       "      <td>0.000000</td>\n",
       "    </tr>\n",
       "    <tr>\n",
       "      <th>50%</th>\n",
       "      <td>750.500000</td>\n",
       "      <td>12.000000</td>\n",
       "      <td>81.035000</td>\n",
       "      <td>9.000000</td>\n",
       "      <td>3.000000</td>\n",
       "      <td>0.000000</td>\n",
       "    </tr>\n",
       "    <tr>\n",
       "      <th>75%</th>\n",
       "      <td>1125.250000</td>\n",
       "      <td>19.000000</td>\n",
       "      <td>89.382500</td>\n",
       "      <td>12.000000</td>\n",
       "      <td>4.000000</td>\n",
       "      <td>1.000000</td>\n",
       "    </tr>\n",
       "    <tr>\n",
       "      <th>max</th>\n",
       "      <td>1500.000000</td>\n",
       "      <td>148.000000</td>\n",
       "      <td>170.520000</td>\n",
       "      <td>29.000000</td>\n",
       "      <td>6.000000</td>\n",
       "      <td>1.000000</td>\n",
       "    </tr>\n",
       "  </tbody>\n",
       "</table>\n",
       "</div>"
      ],
      "text/plain": [
       "        booking_id  months_as_member       weight  days_before  day_of_week  \\\n",
       "count  1500.000000       1500.000000  1500.000000  1500.000000  1500.000000   \n",
       "mean    750.500000         15.628667    82.610378     8.346667     2.604000   \n",
       "std     433.157015         12.926543    12.680411     4.077938     1.948088   \n",
       "min       1.000000          1.000000    55.410000     1.000000     0.000000   \n",
       "25%     375.750000          8.000000    73.562500     4.000000     1.000000   \n",
       "50%     750.500000         12.000000    81.035000     9.000000     3.000000   \n",
       "75%    1125.250000         19.000000    89.382500    12.000000     4.000000   \n",
       "max    1500.000000        148.000000   170.520000    29.000000     6.000000   \n",
       "\n",
       "          attended  \n",
       "count  1500.000000  \n",
       "mean      0.302667  \n",
       "std       0.459565  \n",
       "min       0.000000  \n",
       "25%       0.000000  \n",
       "50%       0.000000  \n",
       "75%       1.000000  \n",
       "max       1.000000  "
      ]
     },
     "execution_count": 22,
     "metadata": {},
     "output_type": "execute_result"
    }
   ],
   "source": [
    "df.describe()"
   ]
  },
  {
   "cell_type": "code",
   "execution_count": 23,
   "id": "25df567d",
   "metadata": {
    "execution": {
     "iopub.execute_input": "2023-09-14T08:51:26.024438Z",
     "iopub.status.busy": "2023-09-14T08:51:26.023681Z",
     "iopub.status.idle": "2023-09-14T08:51:28.031392Z",
     "shell.execute_reply": "2023-09-14T08:51:28.030462Z"
    },
    "papermill": {
     "duration": 2.024013,
     "end_time": "2023-09-14T08:51:28.033377",
     "exception": false,
     "start_time": "2023-09-14T08:51:26.009364",
     "status": "completed"
    },
    "tags": []
   },
   "outputs": [
    {
     "data": {
      "text/html": [
       "        <script type=\"text/javascript\">\n",
       "        window.PlotlyConfig = {MathJaxConfig: 'local'};\n",
       "        if (window.MathJax && window.MathJax.Hub && window.MathJax.Hub.Config) {window.MathJax.Hub.Config({SVG: {font: \"STIX-Web\"}});}\n",
       "        if (typeof require !== 'undefined') {\n",
       "        require.undef(\"plotly\");\n",
       "        requirejs.config({\n",
       "            paths: {\n",
       "                'plotly': ['https://cdn.plot.ly/plotly-2.24.1.min']\n",
       "            }\n",
       "        });\n",
       "        require(['plotly'], function(Plotly) {\n",
       "            window._Plotly = Plotly;\n",
       "        });\n",
       "        }\n",
       "        </script>\n",
       "        "
      ]
     },
     "metadata": {},
     "output_type": "display_data"
    },
    {
     "data": {
      "text/html": [
       "<div>                            <div id=\"de44fe20-6430-4b67-b00a-15431adf59f1\" class=\"plotly-graph-div\" style=\"height:525px; width:100%;\"></div>            <script type=\"text/javascript\">                require([\"plotly\"], function(Plotly) {                    window.PLOTLYENV=window.PLOTLYENV || {};                                    if (document.getElementById(\"de44fe20-6430-4b67-b00a-15431adf59f1\")) {                    Plotly.newPlot(                        \"de44fe20-6430-4b67-b00a-15431adf59f1\",                        [{\"alignmentgroup\":\"True\",\"hovertemplate\":\"Category=%{x}\\u003cbr\\u003eCount=%{y}\\u003cextra\\u003e\\u003c\\u002fextra\\u003e\",\"legendgroup\":\"HIIT\",\"marker\":{\"color\":\"#636efa\",\"pattern\":{\"shape\":\"\"}},\"name\":\"HIIT\",\"offsetgroup\":\"HIIT\",\"orientation\":\"v\",\"showlegend\":true,\"textposition\":\"outside\",\"x\":[\"HIIT\"],\"xaxis\":\"x\",\"y\":[680],\"yaxis\":\"y\",\"type\":\"bar\",\"texttemplate\":\"%{y}\"},{\"alignmentgroup\":\"True\",\"hovertemplate\":\"Category=%{x}\\u003cbr\\u003eCount=%{y}\\u003cextra\\u003e\\u003c\\u002fextra\\u003e\",\"legendgroup\":\"Cycling\",\"marker\":{\"color\":\"#EF553B\",\"pattern\":{\"shape\":\"\"}},\"name\":\"Cycling\",\"offsetgroup\":\"Cycling\",\"orientation\":\"v\",\"showlegend\":true,\"textposition\":\"outside\",\"x\":[\"Cycling\"],\"xaxis\":\"x\",\"y\":[376],\"yaxis\":\"y\",\"type\":\"bar\",\"texttemplate\":\"%{y}\"},{\"alignmentgroup\":\"True\",\"hovertemplate\":\"Category=%{x}\\u003cbr\\u003eCount=%{y}\\u003cextra\\u003e\\u003c\\u002fextra\\u003e\",\"legendgroup\":\"Strength\",\"marker\":{\"color\":\"#00cc96\",\"pattern\":{\"shape\":\"\"}},\"name\":\"Strength\",\"offsetgroup\":\"Strength\",\"orientation\":\"v\",\"showlegend\":true,\"textposition\":\"outside\",\"x\":[\"Strength\"],\"xaxis\":\"x\",\"y\":[233],\"yaxis\":\"y\",\"type\":\"bar\",\"texttemplate\":\"%{y}\"},{\"alignmentgroup\":\"True\",\"hovertemplate\":\"Category=%{x}\\u003cbr\\u003eCount=%{y}\\u003cextra\\u003e\\u003c\\u002fextra\\u003e\",\"legendgroup\":\"Yoga\",\"marker\":{\"color\":\"#ab63fa\",\"pattern\":{\"shape\":\"\"}},\"name\":\"Yoga\",\"offsetgroup\":\"Yoga\",\"orientation\":\"v\",\"showlegend\":true,\"textposition\":\"outside\",\"x\":[\"Yoga\"],\"xaxis\":\"x\",\"y\":[135],\"yaxis\":\"y\",\"type\":\"bar\",\"texttemplate\":\"%{y}\"},{\"alignmentgroup\":\"True\",\"hovertemplate\":\"Category=%{x}\\u003cbr\\u003eCount=%{y}\\u003cextra\\u003e\\u003c\\u002fextra\\u003e\",\"legendgroup\":\"Aqua\",\"marker\":{\"color\":\"#FFA15A\",\"pattern\":{\"shape\":\"\"}},\"name\":\"Aqua\",\"offsetgroup\":\"Aqua\",\"orientation\":\"v\",\"showlegend\":true,\"textposition\":\"outside\",\"x\":[\"Aqua\"],\"xaxis\":\"x\",\"y\":[76],\"yaxis\":\"y\",\"type\":\"bar\",\"texttemplate\":\"%{y}\"}],                        {\"template\":{\"data\":{\"histogram2dcontour\":[{\"type\":\"histogram2dcontour\",\"colorbar\":{\"outlinewidth\":0,\"ticks\":\"\"},\"colorscale\":[[0.0,\"#0d0887\"],[0.1111111111111111,\"#46039f\"],[0.2222222222222222,\"#7201a8\"],[0.3333333333333333,\"#9c179e\"],[0.4444444444444444,\"#bd3786\"],[0.5555555555555556,\"#d8576b\"],[0.6666666666666666,\"#ed7953\"],[0.7777777777777778,\"#fb9f3a\"],[0.8888888888888888,\"#fdca26\"],[1.0,\"#f0f921\"]]}],\"choropleth\":[{\"type\":\"choropleth\",\"colorbar\":{\"outlinewidth\":0,\"ticks\":\"\"}}],\"histogram2d\":[{\"type\":\"histogram2d\",\"colorbar\":{\"outlinewidth\":0,\"ticks\":\"\"},\"colorscale\":[[0.0,\"#0d0887\"],[0.1111111111111111,\"#46039f\"],[0.2222222222222222,\"#7201a8\"],[0.3333333333333333,\"#9c179e\"],[0.4444444444444444,\"#bd3786\"],[0.5555555555555556,\"#d8576b\"],[0.6666666666666666,\"#ed7953\"],[0.7777777777777778,\"#fb9f3a\"],[0.8888888888888888,\"#fdca26\"],[1.0,\"#f0f921\"]]}],\"heatmap\":[{\"type\":\"heatmap\",\"colorbar\":{\"outlinewidth\":0,\"ticks\":\"\"},\"colorscale\":[[0.0,\"#0d0887\"],[0.1111111111111111,\"#46039f\"],[0.2222222222222222,\"#7201a8\"],[0.3333333333333333,\"#9c179e\"],[0.4444444444444444,\"#bd3786\"],[0.5555555555555556,\"#d8576b\"],[0.6666666666666666,\"#ed7953\"],[0.7777777777777778,\"#fb9f3a\"],[0.8888888888888888,\"#fdca26\"],[1.0,\"#f0f921\"]]}],\"heatmapgl\":[{\"type\":\"heatmapgl\",\"colorbar\":{\"outlinewidth\":0,\"ticks\":\"\"},\"colorscale\":[[0.0,\"#0d0887\"],[0.1111111111111111,\"#46039f\"],[0.2222222222222222,\"#7201a8\"],[0.3333333333333333,\"#9c179e\"],[0.4444444444444444,\"#bd3786\"],[0.5555555555555556,\"#d8576b\"],[0.6666666666666666,\"#ed7953\"],[0.7777777777777778,\"#fb9f3a\"],[0.8888888888888888,\"#fdca26\"],[1.0,\"#f0f921\"]]}],\"contourcarpet\":[{\"type\":\"contourcarpet\",\"colorbar\":{\"outlinewidth\":0,\"ticks\":\"\"}}],\"contour\":[{\"type\":\"contour\",\"colorbar\":{\"outlinewidth\":0,\"ticks\":\"\"},\"colorscale\":[[0.0,\"#0d0887\"],[0.1111111111111111,\"#46039f\"],[0.2222222222222222,\"#7201a8\"],[0.3333333333333333,\"#9c179e\"],[0.4444444444444444,\"#bd3786\"],[0.5555555555555556,\"#d8576b\"],[0.6666666666666666,\"#ed7953\"],[0.7777777777777778,\"#fb9f3a\"],[0.8888888888888888,\"#fdca26\"],[1.0,\"#f0f921\"]]}],\"surface\":[{\"type\":\"surface\",\"colorbar\":{\"outlinewidth\":0,\"ticks\":\"\"},\"colorscale\":[[0.0,\"#0d0887\"],[0.1111111111111111,\"#46039f\"],[0.2222222222222222,\"#7201a8\"],[0.3333333333333333,\"#9c179e\"],[0.4444444444444444,\"#bd3786\"],[0.5555555555555556,\"#d8576b\"],[0.6666666666666666,\"#ed7953\"],[0.7777777777777778,\"#fb9f3a\"],[0.8888888888888888,\"#fdca26\"],[1.0,\"#f0f921\"]]}],\"mesh3d\":[{\"type\":\"mesh3d\",\"colorbar\":{\"outlinewidth\":0,\"ticks\":\"\"}}],\"scatter\":[{\"fillpattern\":{\"fillmode\":\"overlay\",\"size\":10,\"solidity\":0.2},\"type\":\"scatter\"}],\"parcoords\":[{\"type\":\"parcoords\",\"line\":{\"colorbar\":{\"outlinewidth\":0,\"ticks\":\"\"}}}],\"scatterpolargl\":[{\"type\":\"scatterpolargl\",\"marker\":{\"colorbar\":{\"outlinewidth\":0,\"ticks\":\"\"}}}],\"bar\":[{\"error_x\":{\"color\":\"#2a3f5f\"},\"error_y\":{\"color\":\"#2a3f5f\"},\"marker\":{\"line\":{\"color\":\"#E5ECF6\",\"width\":0.5},\"pattern\":{\"fillmode\":\"overlay\",\"size\":10,\"solidity\":0.2}},\"type\":\"bar\"}],\"scattergeo\":[{\"type\":\"scattergeo\",\"marker\":{\"colorbar\":{\"outlinewidth\":0,\"ticks\":\"\"}}}],\"scatterpolar\":[{\"type\":\"scatterpolar\",\"marker\":{\"colorbar\":{\"outlinewidth\":0,\"ticks\":\"\"}}}],\"histogram\":[{\"marker\":{\"pattern\":{\"fillmode\":\"overlay\",\"size\":10,\"solidity\":0.2}},\"type\":\"histogram\"}],\"scattergl\":[{\"type\":\"scattergl\",\"marker\":{\"colorbar\":{\"outlinewidth\":0,\"ticks\":\"\"}}}],\"scatter3d\":[{\"type\":\"scatter3d\",\"line\":{\"colorbar\":{\"outlinewidth\":0,\"ticks\":\"\"}},\"marker\":{\"colorbar\":{\"outlinewidth\":0,\"ticks\":\"\"}}}],\"scattermapbox\":[{\"type\":\"scattermapbox\",\"marker\":{\"colorbar\":{\"outlinewidth\":0,\"ticks\":\"\"}}}],\"scatterternary\":[{\"type\":\"scatterternary\",\"marker\":{\"colorbar\":{\"outlinewidth\":0,\"ticks\":\"\"}}}],\"scattercarpet\":[{\"type\":\"scattercarpet\",\"marker\":{\"colorbar\":{\"outlinewidth\":0,\"ticks\":\"\"}}}],\"carpet\":[{\"aaxis\":{\"endlinecolor\":\"#2a3f5f\",\"gridcolor\":\"white\",\"linecolor\":\"white\",\"minorgridcolor\":\"white\",\"startlinecolor\":\"#2a3f5f\"},\"baxis\":{\"endlinecolor\":\"#2a3f5f\",\"gridcolor\":\"white\",\"linecolor\":\"white\",\"minorgridcolor\":\"white\",\"startlinecolor\":\"#2a3f5f\"},\"type\":\"carpet\"}],\"table\":[{\"cells\":{\"fill\":{\"color\":\"#EBF0F8\"},\"line\":{\"color\":\"white\"}},\"header\":{\"fill\":{\"color\":\"#C8D4E3\"},\"line\":{\"color\":\"white\"}},\"type\":\"table\"}],\"barpolar\":[{\"marker\":{\"line\":{\"color\":\"#E5ECF6\",\"width\":0.5},\"pattern\":{\"fillmode\":\"overlay\",\"size\":10,\"solidity\":0.2}},\"type\":\"barpolar\"}],\"pie\":[{\"automargin\":true,\"type\":\"pie\"}]},\"layout\":{\"autotypenumbers\":\"strict\",\"colorway\":[\"#636efa\",\"#EF553B\",\"#00cc96\",\"#ab63fa\",\"#FFA15A\",\"#19d3f3\",\"#FF6692\",\"#B6E880\",\"#FF97FF\",\"#FECB52\"],\"font\":{\"color\":\"#2a3f5f\"},\"hovermode\":\"closest\",\"hoverlabel\":{\"align\":\"left\"},\"paper_bgcolor\":\"white\",\"plot_bgcolor\":\"#E5ECF6\",\"polar\":{\"bgcolor\":\"#E5ECF6\",\"angularaxis\":{\"gridcolor\":\"white\",\"linecolor\":\"white\",\"ticks\":\"\"},\"radialaxis\":{\"gridcolor\":\"white\",\"linecolor\":\"white\",\"ticks\":\"\"}},\"ternary\":{\"bgcolor\":\"#E5ECF6\",\"aaxis\":{\"gridcolor\":\"white\",\"linecolor\":\"white\",\"ticks\":\"\"},\"baxis\":{\"gridcolor\":\"white\",\"linecolor\":\"white\",\"ticks\":\"\"},\"caxis\":{\"gridcolor\":\"white\",\"linecolor\":\"white\",\"ticks\":\"\"}},\"coloraxis\":{\"colorbar\":{\"outlinewidth\":0,\"ticks\":\"\"}},\"colorscale\":{\"sequential\":[[0.0,\"#0d0887\"],[0.1111111111111111,\"#46039f\"],[0.2222222222222222,\"#7201a8\"],[0.3333333333333333,\"#9c179e\"],[0.4444444444444444,\"#bd3786\"],[0.5555555555555556,\"#d8576b\"],[0.6666666666666666,\"#ed7953\"],[0.7777777777777778,\"#fb9f3a\"],[0.8888888888888888,\"#fdca26\"],[1.0,\"#f0f921\"]],\"sequentialminus\":[[0.0,\"#0d0887\"],[0.1111111111111111,\"#46039f\"],[0.2222222222222222,\"#7201a8\"],[0.3333333333333333,\"#9c179e\"],[0.4444444444444444,\"#bd3786\"],[0.5555555555555556,\"#d8576b\"],[0.6666666666666666,\"#ed7953\"],[0.7777777777777778,\"#fb9f3a\"],[0.8888888888888888,\"#fdca26\"],[1.0,\"#f0f921\"]],\"diverging\":[[0,\"#8e0152\"],[0.1,\"#c51b7d\"],[0.2,\"#de77ae\"],[0.3,\"#f1b6da\"],[0.4,\"#fde0ef\"],[0.5,\"#f7f7f7\"],[0.6,\"#e6f5d0\"],[0.7,\"#b8e186\"],[0.8,\"#7fbc41\"],[0.9,\"#4d9221\"],[1,\"#276419\"]]},\"xaxis\":{\"gridcolor\":\"white\",\"linecolor\":\"white\",\"ticks\":\"\",\"title\":{\"standoff\":15},\"zerolinecolor\":\"white\",\"automargin\":true,\"zerolinewidth\":2},\"yaxis\":{\"gridcolor\":\"white\",\"linecolor\":\"white\",\"ticks\":\"\",\"title\":{\"standoff\":15},\"zerolinecolor\":\"white\",\"automargin\":true,\"zerolinewidth\":2},\"scene\":{\"xaxis\":{\"backgroundcolor\":\"#E5ECF6\",\"gridcolor\":\"white\",\"linecolor\":\"white\",\"showbackground\":true,\"ticks\":\"\",\"zerolinecolor\":\"white\",\"gridwidth\":2},\"yaxis\":{\"backgroundcolor\":\"#E5ECF6\",\"gridcolor\":\"white\",\"linecolor\":\"white\",\"showbackground\":true,\"ticks\":\"\",\"zerolinecolor\":\"white\",\"gridwidth\":2},\"zaxis\":{\"backgroundcolor\":\"#E5ECF6\",\"gridcolor\":\"white\",\"linecolor\":\"white\",\"showbackground\":true,\"ticks\":\"\",\"zerolinecolor\":\"white\",\"gridwidth\":2}},\"shapedefaults\":{\"line\":{\"color\":\"#2a3f5f\"}},\"annotationdefaults\":{\"arrowcolor\":\"#2a3f5f\",\"arrowhead\":0,\"arrowwidth\":1},\"geo\":{\"bgcolor\":\"white\",\"landcolor\":\"#E5ECF6\",\"subunitcolor\":\"white\",\"showland\":true,\"showlakes\":true,\"lakecolor\":\"white\"},\"title\":{\"x\":0.05},\"mapbox\":{\"style\":\"light\"}}},\"xaxis\":{\"anchor\":\"y\",\"domain\":[0.0,1.0],\"title\":{\"text\":\"Category\"},\"categoryorder\":\"total descending\",\"categoryarray\":[\"HIIT\",\"Cycling\",\"Strength\",\"Yoga\",\"Aqua\"]},\"yaxis\":{\"anchor\":\"x\",\"domain\":[0.0,1.0],\"title\":{\"text\":\"Count\"}},\"legend\":{\"title\":{\"text\":\"Attended\"},\"tracegroupgap\":0,\"x\":0,\"y\":1.15},\"title\":{\"text\":\"Count of Attendance by Category\"},\"barmode\":\"relative\"},                        {\"responsive\": true}                    ).then(function(){\n",
       "                            \n",
       "var gd = document.getElementById('de44fe20-6430-4b67-b00a-15431adf59f1');\n",
       "var x = new MutationObserver(function (mutations, observer) {{\n",
       "        var display = window.getComputedStyle(gd).display;\n",
       "        if (!display || display === 'none') {{\n",
       "            console.log([gd, 'removed!']);\n",
       "            Plotly.purge(gd);\n",
       "            observer.disconnect();\n",
       "        }}\n",
       "}});\n",
       "\n",
       "// Listen for the removal of the full notebook cells\n",
       "var notebookContainer = gd.closest('#notebook-container');\n",
       "if (notebookContainer) {{\n",
       "    x.observe(notebookContainer, {childList: true});\n",
       "}}\n",
       "\n",
       "// Listen for the clearing of the current output cell\n",
       "var outputEl = gd.closest('.output');\n",
       "if (outputEl) {{\n",
       "    x.observe(outputEl, {childList: true});\n",
       "}}\n",
       "\n",
       "                        })                };                });            </script>        </div>"
      ]
     },
     "metadata": {},
     "output_type": "display_data"
    }
   ],
   "source": [
    "import plotly.express as px\n",
    "\n",
    "category_counts = df['category'].value_counts().reset_index()\n",
    "category_counts.columns = ['category', 'count']\n",
    "category_counts = category_counts.sort_values(by='count', ascending=False)\n",
    "\n",
    "fig = px.bar(category_counts, x='category', y='count', color='category', \n",
    "             labels={'category': 'Category', 'count': 'Count'},\n",
    "             title='Count of Attendance by Category')\n",
    "\n",
    "fig.update_traces(texttemplate='%{y}', textposition='outside')\n",
    "fig.update_xaxes(categoryorder='total descending')\n",
    "fig.update_layout(xaxis_title='Category', yaxis_title='Count', legend_title='Attended',\n",
    "                  legend=dict(x=0, y=1.15))\n",
    "\n",
    "fig.show()"
   ]
  },
  {
   "cell_type": "code",
   "execution_count": 24,
   "id": "65c65133",
   "metadata": {
    "execution": {
     "iopub.execute_input": "2023-09-14T08:51:28.062760Z",
     "iopub.status.busy": "2023-09-14T08:51:28.062457Z",
     "iopub.status.idle": "2023-09-14T08:51:28.102396Z",
     "shell.execute_reply": "2023-09-14T08:51:28.101487Z"
    },
    "papermill": {
     "duration": 0.056834,
     "end_time": "2023-09-14T08:51:28.104538",
     "exception": false,
     "start_time": "2023-09-14T08:51:28.047704",
     "status": "completed"
    },
    "tags": []
   },
   "outputs": [
    {
     "data": {
      "text/html": [
       "<div>                            <div id=\"85074e34-2ef5-44ab-99e5-998071b36076\" class=\"plotly-graph-div\" style=\"height:525px; width:100%;\"></div>            <script type=\"text/javascript\">                require([\"plotly\"], function(Plotly) {                    window.PLOTLYENV=window.PLOTLYENV || {};                                    if (document.getElementById(\"85074e34-2ef5-44ab-99e5-998071b36076\")) {                    Plotly.newPlot(                        \"85074e34-2ef5-44ab-99e5-998071b36076\",                        [{\"colorscale\":[[0.0,\"rgb(255,255,217)\"],[0.125,\"rgb(237,248,177)\"],[0.25,\"rgb(199,233,180)\"],[0.375,\"rgb(127,205,187)\"],[0.5,\"rgb(65,182,196)\"],[0.625,\"rgb(29,145,192)\"],[0.75,\"rgb(34,94,168)\"],[0.875,\"rgb(37,52,148)\"],[1.0,\"rgb(8,29,88)\"]],\"hovertemplate\":\"Category: %{y}\\u003cbr\\u003eAttended: %{x}\\u003cbr\\u003ePercentage: %{text}%\",\"text\":[[67.1,32.9],[70.7,29.3],[68.4,31.6],[73.4,26.6],[68.9,31.1]],\"x\":[0,1],\"y\":[\"Aqua\",\"Cycling\",\"HIIT\",\"Strength\",\"Yoga\"],\"z\":[[67.10526315789474,32.89473684210527],[70.74468085106383,29.25531914893617],[68.38235294117648,31.61764705882353],[73.39055793991416,26.609442060085836],[68.88888888888889,31.11111111111111]],\"type\":\"heatmap\"}],                        {\"template\":{\"data\":{\"histogram2dcontour\":[{\"type\":\"histogram2dcontour\",\"colorbar\":{\"outlinewidth\":0,\"ticks\":\"\"},\"colorscale\":[[0.0,\"#0d0887\"],[0.1111111111111111,\"#46039f\"],[0.2222222222222222,\"#7201a8\"],[0.3333333333333333,\"#9c179e\"],[0.4444444444444444,\"#bd3786\"],[0.5555555555555556,\"#d8576b\"],[0.6666666666666666,\"#ed7953\"],[0.7777777777777778,\"#fb9f3a\"],[0.8888888888888888,\"#fdca26\"],[1.0,\"#f0f921\"]]}],\"choropleth\":[{\"type\":\"choropleth\",\"colorbar\":{\"outlinewidth\":0,\"ticks\":\"\"}}],\"histogram2d\":[{\"type\":\"histogram2d\",\"colorbar\":{\"outlinewidth\":0,\"ticks\":\"\"},\"colorscale\":[[0.0,\"#0d0887\"],[0.1111111111111111,\"#46039f\"],[0.2222222222222222,\"#7201a8\"],[0.3333333333333333,\"#9c179e\"],[0.4444444444444444,\"#bd3786\"],[0.5555555555555556,\"#d8576b\"],[0.6666666666666666,\"#ed7953\"],[0.7777777777777778,\"#fb9f3a\"],[0.8888888888888888,\"#fdca26\"],[1.0,\"#f0f921\"]]}],\"heatmap\":[{\"type\":\"heatmap\",\"colorbar\":{\"outlinewidth\":0,\"ticks\":\"\"},\"colorscale\":[[0.0,\"#0d0887\"],[0.1111111111111111,\"#46039f\"],[0.2222222222222222,\"#7201a8\"],[0.3333333333333333,\"#9c179e\"],[0.4444444444444444,\"#bd3786\"],[0.5555555555555556,\"#d8576b\"],[0.6666666666666666,\"#ed7953\"],[0.7777777777777778,\"#fb9f3a\"],[0.8888888888888888,\"#fdca26\"],[1.0,\"#f0f921\"]]}],\"heatmapgl\":[{\"type\":\"heatmapgl\",\"colorbar\":{\"outlinewidth\":0,\"ticks\":\"\"},\"colorscale\":[[0.0,\"#0d0887\"],[0.1111111111111111,\"#46039f\"],[0.2222222222222222,\"#7201a8\"],[0.3333333333333333,\"#9c179e\"],[0.4444444444444444,\"#bd3786\"],[0.5555555555555556,\"#d8576b\"],[0.6666666666666666,\"#ed7953\"],[0.7777777777777778,\"#fb9f3a\"],[0.8888888888888888,\"#fdca26\"],[1.0,\"#f0f921\"]]}],\"contourcarpet\":[{\"type\":\"contourcarpet\",\"colorbar\":{\"outlinewidth\":0,\"ticks\":\"\"}}],\"contour\":[{\"type\":\"contour\",\"colorbar\":{\"outlinewidth\":0,\"ticks\":\"\"},\"colorscale\":[[0.0,\"#0d0887\"],[0.1111111111111111,\"#46039f\"],[0.2222222222222222,\"#7201a8\"],[0.3333333333333333,\"#9c179e\"],[0.4444444444444444,\"#bd3786\"],[0.5555555555555556,\"#d8576b\"],[0.6666666666666666,\"#ed7953\"],[0.7777777777777778,\"#fb9f3a\"],[0.8888888888888888,\"#fdca26\"],[1.0,\"#f0f921\"]]}],\"surface\":[{\"type\":\"surface\",\"colorbar\":{\"outlinewidth\":0,\"ticks\":\"\"},\"colorscale\":[[0.0,\"#0d0887\"],[0.1111111111111111,\"#46039f\"],[0.2222222222222222,\"#7201a8\"],[0.3333333333333333,\"#9c179e\"],[0.4444444444444444,\"#bd3786\"],[0.5555555555555556,\"#d8576b\"],[0.6666666666666666,\"#ed7953\"],[0.7777777777777778,\"#fb9f3a\"],[0.8888888888888888,\"#fdca26\"],[1.0,\"#f0f921\"]]}],\"mesh3d\":[{\"type\":\"mesh3d\",\"colorbar\":{\"outlinewidth\":0,\"ticks\":\"\"}}],\"scatter\":[{\"fillpattern\":{\"fillmode\":\"overlay\",\"size\":10,\"solidity\":0.2},\"type\":\"scatter\"}],\"parcoords\":[{\"type\":\"parcoords\",\"line\":{\"colorbar\":{\"outlinewidth\":0,\"ticks\":\"\"}}}],\"scatterpolargl\":[{\"type\":\"scatterpolargl\",\"marker\":{\"colorbar\":{\"outlinewidth\":0,\"ticks\":\"\"}}}],\"bar\":[{\"error_x\":{\"color\":\"#2a3f5f\"},\"error_y\":{\"color\":\"#2a3f5f\"},\"marker\":{\"line\":{\"color\":\"#E5ECF6\",\"width\":0.5},\"pattern\":{\"fillmode\":\"overlay\",\"size\":10,\"solidity\":0.2}},\"type\":\"bar\"}],\"scattergeo\":[{\"type\":\"scattergeo\",\"marker\":{\"colorbar\":{\"outlinewidth\":0,\"ticks\":\"\"}}}],\"scatterpolar\":[{\"type\":\"scatterpolar\",\"marker\":{\"colorbar\":{\"outlinewidth\":0,\"ticks\":\"\"}}}],\"histogram\":[{\"marker\":{\"pattern\":{\"fillmode\":\"overlay\",\"size\":10,\"solidity\":0.2}},\"type\":\"histogram\"}],\"scattergl\":[{\"type\":\"scattergl\",\"marker\":{\"colorbar\":{\"outlinewidth\":0,\"ticks\":\"\"}}}],\"scatter3d\":[{\"type\":\"scatter3d\",\"line\":{\"colorbar\":{\"outlinewidth\":0,\"ticks\":\"\"}},\"marker\":{\"colorbar\":{\"outlinewidth\":0,\"ticks\":\"\"}}}],\"scattermapbox\":[{\"type\":\"scattermapbox\",\"marker\":{\"colorbar\":{\"outlinewidth\":0,\"ticks\":\"\"}}}],\"scatterternary\":[{\"type\":\"scatterternary\",\"marker\":{\"colorbar\":{\"outlinewidth\":0,\"ticks\":\"\"}}}],\"scattercarpet\":[{\"type\":\"scattercarpet\",\"marker\":{\"colorbar\":{\"outlinewidth\":0,\"ticks\":\"\"}}}],\"carpet\":[{\"aaxis\":{\"endlinecolor\":\"#2a3f5f\",\"gridcolor\":\"white\",\"linecolor\":\"white\",\"minorgridcolor\":\"white\",\"startlinecolor\":\"#2a3f5f\"},\"baxis\":{\"endlinecolor\":\"#2a3f5f\",\"gridcolor\":\"white\",\"linecolor\":\"white\",\"minorgridcolor\":\"white\",\"startlinecolor\":\"#2a3f5f\"},\"type\":\"carpet\"}],\"table\":[{\"cells\":{\"fill\":{\"color\":\"#EBF0F8\"},\"line\":{\"color\":\"white\"}},\"header\":{\"fill\":{\"color\":\"#C8D4E3\"},\"line\":{\"color\":\"white\"}},\"type\":\"table\"}],\"barpolar\":[{\"marker\":{\"line\":{\"color\":\"#E5ECF6\",\"width\":0.5},\"pattern\":{\"fillmode\":\"overlay\",\"size\":10,\"solidity\":0.2}},\"type\":\"barpolar\"}],\"pie\":[{\"automargin\":true,\"type\":\"pie\"}]},\"layout\":{\"autotypenumbers\":\"strict\",\"colorway\":[\"#636efa\",\"#EF553B\",\"#00cc96\",\"#ab63fa\",\"#FFA15A\",\"#19d3f3\",\"#FF6692\",\"#B6E880\",\"#FF97FF\",\"#FECB52\"],\"font\":{\"color\":\"#2a3f5f\"},\"hovermode\":\"closest\",\"hoverlabel\":{\"align\":\"left\"},\"paper_bgcolor\":\"white\",\"plot_bgcolor\":\"#E5ECF6\",\"polar\":{\"bgcolor\":\"#E5ECF6\",\"angularaxis\":{\"gridcolor\":\"white\",\"linecolor\":\"white\",\"ticks\":\"\"},\"radialaxis\":{\"gridcolor\":\"white\",\"linecolor\":\"white\",\"ticks\":\"\"}},\"ternary\":{\"bgcolor\":\"#E5ECF6\",\"aaxis\":{\"gridcolor\":\"white\",\"linecolor\":\"white\",\"ticks\":\"\"},\"baxis\":{\"gridcolor\":\"white\",\"linecolor\":\"white\",\"ticks\":\"\"},\"caxis\":{\"gridcolor\":\"white\",\"linecolor\":\"white\",\"ticks\":\"\"}},\"coloraxis\":{\"colorbar\":{\"outlinewidth\":0,\"ticks\":\"\"}},\"colorscale\":{\"sequential\":[[0.0,\"#0d0887\"],[0.1111111111111111,\"#46039f\"],[0.2222222222222222,\"#7201a8\"],[0.3333333333333333,\"#9c179e\"],[0.4444444444444444,\"#bd3786\"],[0.5555555555555556,\"#d8576b\"],[0.6666666666666666,\"#ed7953\"],[0.7777777777777778,\"#fb9f3a\"],[0.8888888888888888,\"#fdca26\"],[1.0,\"#f0f921\"]],\"sequentialminus\":[[0.0,\"#0d0887\"],[0.1111111111111111,\"#46039f\"],[0.2222222222222222,\"#7201a8\"],[0.3333333333333333,\"#9c179e\"],[0.4444444444444444,\"#bd3786\"],[0.5555555555555556,\"#d8576b\"],[0.6666666666666666,\"#ed7953\"],[0.7777777777777778,\"#fb9f3a\"],[0.8888888888888888,\"#fdca26\"],[1.0,\"#f0f921\"]],\"diverging\":[[0,\"#8e0152\"],[0.1,\"#c51b7d\"],[0.2,\"#de77ae\"],[0.3,\"#f1b6da\"],[0.4,\"#fde0ef\"],[0.5,\"#f7f7f7\"],[0.6,\"#e6f5d0\"],[0.7,\"#b8e186\"],[0.8,\"#7fbc41\"],[0.9,\"#4d9221\"],[1,\"#276419\"]]},\"xaxis\":{\"gridcolor\":\"white\",\"linecolor\":\"white\",\"ticks\":\"\",\"title\":{\"standoff\":15},\"zerolinecolor\":\"white\",\"automargin\":true,\"zerolinewidth\":2},\"yaxis\":{\"gridcolor\":\"white\",\"linecolor\":\"white\",\"ticks\":\"\",\"title\":{\"standoff\":15},\"zerolinecolor\":\"white\",\"automargin\":true,\"zerolinewidth\":2},\"scene\":{\"xaxis\":{\"backgroundcolor\":\"#E5ECF6\",\"gridcolor\":\"white\",\"linecolor\":\"white\",\"showbackground\":true,\"ticks\":\"\",\"zerolinecolor\":\"white\",\"gridwidth\":2},\"yaxis\":{\"backgroundcolor\":\"#E5ECF6\",\"gridcolor\":\"white\",\"linecolor\":\"white\",\"showbackground\":true,\"ticks\":\"\",\"zerolinecolor\":\"white\",\"gridwidth\":2},\"zaxis\":{\"backgroundcolor\":\"#E5ECF6\",\"gridcolor\":\"white\",\"linecolor\":\"white\",\"showbackground\":true,\"ticks\":\"\",\"zerolinecolor\":\"white\",\"gridwidth\":2}},\"shapedefaults\":{\"line\":{\"color\":\"#2a3f5f\"}},\"annotationdefaults\":{\"arrowcolor\":\"#2a3f5f\",\"arrowhead\":0,\"arrowwidth\":1},\"geo\":{\"bgcolor\":\"white\",\"landcolor\":\"#E5ECF6\",\"subunitcolor\":\"white\",\"showland\":true,\"showlakes\":true,\"lakecolor\":\"white\"},\"title\":{\"x\":0.05},\"mapbox\":{\"style\":\"light\"}}},\"xaxis\":{\"title\":{\"text\":\"Attended\"},\"showgrid\":false},\"yaxis\":{\"title\":{\"text\":\"Category\"},\"showgrid\":false},\"title\":{\"text\":\"Percentage of Attendance by Category\"}},                        {\"responsive\": true}                    ).then(function(){\n",
       "                            \n",
       "var gd = document.getElementById('85074e34-2ef5-44ab-99e5-998071b36076');\n",
       "var x = new MutationObserver(function (mutations, observer) {{\n",
       "        var display = window.getComputedStyle(gd).display;\n",
       "        if (!display || display === 'none') {{\n",
       "            console.log([gd, 'removed!']);\n",
       "            Plotly.purge(gd);\n",
       "            observer.disconnect();\n",
       "        }}\n",
       "}});\n",
       "\n",
       "// Listen for the removal of the full notebook cells\n",
       "var notebookContainer = gd.closest('#notebook-container');\n",
       "if (notebookContainer) {{\n",
       "    x.observe(notebookContainer, {childList: true});\n",
       "}}\n",
       "\n",
       "// Listen for the clearing of the current output cell\n",
       "var outputEl = gd.closest('.output');\n",
       "if (outputEl) {{\n",
       "    x.observe(outputEl, {childList: true});\n",
       "}}\n",
       "\n",
       "                        })                };                });            </script>        </div>"
      ]
     },
     "metadata": {},
     "output_type": "display_data"
    }
   ],
   "source": [
    "import plotly.graph_objects as go\n",
    "import pandas as pd\n",
    "cross_tab = pd.crosstab(df['category'], df['attended'], normalize='index') * 100\n",
    "\n",
    "fig = go.Figure(data=go.Heatmap(\n",
    "    x=cross_tab.columns,\n",
    "    y=cross_tab.index,\n",
    "    z=cross_tab.values,\n",
    "    colorscale='YlGnBu',\n",
    "    text=cross_tab.values.round(1),\n",
    "    hovertemplate='Category: %{y}<br>Attended: %{x}<br>Percentage: %{text}%'\n",
    "))\n",
    "\n",
    "fig.update_xaxes(title='Attended')\n",
    "fig.update_yaxes(title='Category')\n",
    "fig.update_layout(title='Percentage of Attendance by Category', xaxis_showgrid=False, yaxis_showgrid=False)\n",
    "\n",
    "fig.show()\n"
   ]
  },
  {
   "cell_type": "code",
   "execution_count": 25,
   "id": "a99b3a2f",
   "metadata": {
    "execution": {
     "iopub.execute_input": "2023-09-14T08:51:28.134726Z",
     "iopub.status.busy": "2023-09-14T08:51:28.133921Z",
     "iopub.status.idle": "2023-09-14T08:51:28.268082Z",
     "shell.execute_reply": "2023-09-14T08:51:28.267026Z"
    },
    "papermill": {
     "duration": 0.151871,
     "end_time": "2023-09-14T08:51:28.270715",
     "exception": false,
     "start_time": "2023-09-14T08:51:28.118844",
     "status": "completed"
    },
    "tags": []
   },
   "outputs": [
    {
     "data": {
      "text/html": [
       "<div>                            <div id=\"fcc3d99e-2795-44dd-b59f-86d6856dac53\" class=\"plotly-graph-div\" style=\"height:525px; width:100%;\"></div>            <script type=\"text/javascript\">                require([\"plotly\"], function(Plotly) {                    window.PLOTLYENV=window.PLOTLYENV || {};                                    if (document.getElementById(\"fcc3d99e-2795-44dd-b59f-86d6856dac53\")) {                    Plotly.newPlot(                        \"fcc3d99e-2795-44dd-b59f-86d6856dac53\",                        [{\"alignmentgroup\":\"True\",\"bingroup\":\"x\",\"hovertemplate\":\"Months as Member=%{x}\\u003cbr\\u003ecount=%{y}\\u003cextra\\u003e\\u003c\\u002fextra\\u003e\",\"legendgroup\":\"\",\"marker\":{\"color\":\"#636efa\",\"opacity\":0.7,\"pattern\":{\"shape\":\"\"}},\"name\":\"\",\"nbinsx\":30,\"offsetgroup\":\"\",\"orientation\":\"v\",\"showlegend\":false,\"x\":[17,10,16,5,15,7,11,9,23,7,13,16,16,8,9,9,22,6,33,10,24,14,2,12,8,2,12,26,28,27,8,8,1,6,3,6,24,8,27,7,5,14,7,9,6,5,21,17,10,18,8,19,12,19,53,17,3,12,19,16,8,6,9,10,2,20,11,8,9,2,17,11,8,28,34,20,5,12,14,11,10,11,6,25,9,8,17,20,14,32,3,27,73,10,5,20,7,6,55,4,9,7,14,11,9,5,12,8,21,14,11,34,8,12,14,27,10,18,13,26,35,54,6,15,76,3,15,3,28,8,5,11,9,11,9,24,10,13,62,5,42,21,11,105,15,4,20,24,2,5,90,15,29,8,18,60,3,16,7,21,21,3,3,12,11,9,18,7,30,9,6,8,11,13,25,32,3,11,12,8,23,5,6,107,52,8,8,34,13,5,14,53,17,37,8,11,15,37,8,12,22,9,6,15,10,6,38,10,35,10,19,16,10,9,16,8,12,21,13,3,27,17,20,48,21,51,13,20,12,23,12,10,18,8,16,8,17,29,10,9,10,7,16,7,34,9,12,12,7,40,4,8,8,3,7,6,8,5,25,20,15,16,8,13,6,12,4,4,7,4,3,13,6,25,20,7,17,26,3,21,9,12,14,8,26,89,24,13,10,22,9,26,5,57,11,34,20,13,6,4,7,11,9,9,12,10,36,13,13,7,13,18,13,23,5,5,11,15,20,12,14,20,14,14,6,17,12,11,5,18,10,15,19,52,16,19,11,14,13,7,6,13,27,23,20,19,8,5,38,10,11,18,16,18,6,38,18,3,7,9,20,5,5,7,8,4,4,14,2,13,6,14,7,9,10,4,14,12,7,44,14,13,6,8,29,11,5,10,7,21,8,4,7,8,6,13,26,20,17,7,19,8,15,35,8,10,39,8,15,10,6,15,13,7,21,9,6,8,14,11,10,5,13,41,20,15,11,21,13,11,7,5,18,6,29,19,11,57,5,17,29,6,6,16,14,6,9,36,38,10,3,5,12,12,47,6,58,9,36,5,26,17,5,5,21,8,7,10,8,9,15,5,22,13,24,26,20,9,20,18,9,10,14,10,39,66,48,7,20,10,5,9,25,17,4,10,7,7,11,27,9,17,14,20,11,7,14,5,5,8,8,15,14,6,5,8,6,7,24,25,10,19,20,9,19,7,6,5,7,12,32,73,41,33,7,21,22,13,28,10,14,8,10,7,45,33,11,12,6,11,21,43,11,9,17,7,28,9,30,8,14,4,33,32,10,3,15,18,9,9,13,6,17,24,33,6,6,13,11,20,11,5,26,8,33,12,16,7,15,9,61,14,7,48,5,6,9,13,12,10,19,13,6,38,6,19,12,23,9,16,21,7,9,14,8,12,11,3,6,20,50,4,15,9,14,11,5,16,17,11,10,22,16,15,20,34,19,6,16,7,19,8,28,40,14,65,6,15,5,33,8,19,19,6,18,5,13,21,12,8,55,12,29,22,21,22,20,12,13,29,6,29,9,5,19,21,2,39,12,50,9,13,14,29,24,45,12,3,19,14,38,25,6,3,23,17,9,12,19,15,10,4,8,41,5,10,6,15,7,3,24,12,8,4,22,27,6,23,6,3,31,12,6,11,36,12,11,20,6,17,4,13,16,13,7,8,17,9,52,18,39,10,11,15,20,25,22,7,7,6,5,20,8,8,8,7,12,14,13,24,10,5,7,7,21,39,14,13,20,5,11,11,16,16,6,25,6,2,18,13,8,10,15,18,23,7,18,9,12,10,13,4,11,9,13,10,17,15,12,22,36,25,6,10,19,5,4,7,19,18,22,14,22,25,6,10,28,17,22,7,21,2,18,7,11,6,3,14,23,4,14,25,12,14,10,6,10,12,15,5,10,7,12,8,16,43,9,19,7,15,20,8,22,7,16,97,12,9,5,9,6,12,7,6,4,10,15,8,15,5,13,22,5,9,4,4,16,13,21,20,6,41,2,10,18,13,1,13,23,17,5,27,7,6,13,20,6,19,23,7,6,11,11,13,19,5,32,11,17,27,9,4,9,23,8,8,5,7,19,4,31,24,7,8,9,20,12,13,22,4,11,11,17,36,12,12,10,8,4,33,9,32,21,14,11,55,10,13,15,11,5,18,7,23,6,37,5,7,7,8,39,8,14,12,14,4,17,5,57,17,31,16,9,5,8,19,12,13,7,2,29,13,9,14,30,24,22,26,9,28,19,28,12,4,28,11,8,11,8,9,4,9,6,18,14,6,4,13,7,10,8,11,6,22,37,17,3,12,20,11,11,11,8,24,8,10,14,30,39,16,25,11,5,15,5,16,27,7,11,14,3,8,6,27,6,13,43,5,34,13,66,6,11,14,44,16,12,21,2,7,5,18,20,27,5,13,15,10,15,8,9,6,7,11,12,37,15,9,6,13,19,2,17,12,25,36,15,15,11,16,7,15,7,10,12,5,20,3,7,30,39,15,11,47,13,16,65,7,5,11,18,14,8,7,9,14,15,9,3,16,30,7,42,6,19,5,13,14,15,8,15,17,31,19,29,26,13,25,25,10,9,5,15,11,9,22,15,6,18,7,25,30,8,5,16,16,4,38,20,19,33,6,7,10,15,12,8,15,12,9,9,37,12,6,8,11,22,19,13,15,8,18,8,17,33,5,17,13,5,19,30,10,5,12,11,14,16,12,6,59,10,5,16,27,10,51,11,23,12,13,8,38,29,16,3,7,4,5,15,3,25,12,36,38,6,11,41,4,21,17,25,93,17,10,13,16,5,18,21,8,9,15,27,23,15,33,12,4,8,22,23,9,31,20,15,23,5,11,3,13,25,41,10,19,13,5,14,10,7,23,5,6,8,15,43,17,4,8,13,17,7,7,19,22,24,10,7,41,7,31,10,19,6,12,17,14,14,33,8,38,19,21,5,16,10,7,1,4,12,12,12,20,6,16,29,15,8,13,54,14,42,4,4,8,12,24,6,8,11,12,9,12,21,6,5,15,4,24,14,9,148,16,8,3,6,19,11,9,19,20,10,58,9,15,4,4,3,9,5,20,18,13,13,10,9,9,12,8,18,12,11,16,9,6,25,5,6,21,14,6,10,11,6,10,10,8,15,9,18,8,8,18,3,7,19,11,16,23,111,7,24,48,16,18,9,26,10,53,21,11,7,32,11,7,34,7,17,6,22,19,22,5,7,25,4,19,57,7,9,18,38,6,11,9,14,13,20,8,13,11,8,39,5,10,10,17,22,7,12,69,18,22,17,9,35,11,6,12,4,13,13,12,25,27,16,4,13,7,22,13,14,8,42,26,10,12,12,22,16,21,21,8,3,12,19,54,10,15,11,7,6,8,18,9,15,21,29,9,34,20],\"xaxis\":\"x\",\"yaxis\":\"y\",\"type\":\"histogram\"},{\"alignmentgroup\":\"True\",\"boxpoints\":\"all\",\"fillcolor\":\"rgba(255,255,255,0)\",\"hoveron\":\"points\",\"hovertemplate\":\"Months as Member=%{x}\\u003cextra\\u003e\\u003c\\u002fextra\\u003e\",\"jitter\":0,\"legendgroup\":\"\",\"line\":{\"color\":\"rgba(255,255,255,0)\"},\"marker\":{\"color\":\"#636efa\",\"symbol\":\"line-ns-open\"},\"name\":\"\",\"offsetgroup\":\"\",\"showlegend\":false,\"x\":[17,10,16,5,15,7,11,9,23,7,13,16,16,8,9,9,22,6,33,10,24,14,2,12,8,2,12,26,28,27,8,8,1,6,3,6,24,8,27,7,5,14,7,9,6,5,21,17,10,18,8,19,12,19,53,17,3,12,19,16,8,6,9,10,2,20,11,8,9,2,17,11,8,28,34,20,5,12,14,11,10,11,6,25,9,8,17,20,14,32,3,27,73,10,5,20,7,6,55,4,9,7,14,11,9,5,12,8,21,14,11,34,8,12,14,27,10,18,13,26,35,54,6,15,76,3,15,3,28,8,5,11,9,11,9,24,10,13,62,5,42,21,11,105,15,4,20,24,2,5,90,15,29,8,18,60,3,16,7,21,21,3,3,12,11,9,18,7,30,9,6,8,11,13,25,32,3,11,12,8,23,5,6,107,52,8,8,34,13,5,14,53,17,37,8,11,15,37,8,12,22,9,6,15,10,6,38,10,35,10,19,16,10,9,16,8,12,21,13,3,27,17,20,48,21,51,13,20,12,23,12,10,18,8,16,8,17,29,10,9,10,7,16,7,34,9,12,12,7,40,4,8,8,3,7,6,8,5,25,20,15,16,8,13,6,12,4,4,7,4,3,13,6,25,20,7,17,26,3,21,9,12,14,8,26,89,24,13,10,22,9,26,5,57,11,34,20,13,6,4,7,11,9,9,12,10,36,13,13,7,13,18,13,23,5,5,11,15,20,12,14,20,14,14,6,17,12,11,5,18,10,15,19,52,16,19,11,14,13,7,6,13,27,23,20,19,8,5,38,10,11,18,16,18,6,38,18,3,7,9,20,5,5,7,8,4,4,14,2,13,6,14,7,9,10,4,14,12,7,44,14,13,6,8,29,11,5,10,7,21,8,4,7,8,6,13,26,20,17,7,19,8,15,35,8,10,39,8,15,10,6,15,13,7,21,9,6,8,14,11,10,5,13,41,20,15,11,21,13,11,7,5,18,6,29,19,11,57,5,17,29,6,6,16,14,6,9,36,38,10,3,5,12,12,47,6,58,9,36,5,26,17,5,5,21,8,7,10,8,9,15,5,22,13,24,26,20,9,20,18,9,10,14,10,39,66,48,7,20,10,5,9,25,17,4,10,7,7,11,27,9,17,14,20,11,7,14,5,5,8,8,15,14,6,5,8,6,7,24,25,10,19,20,9,19,7,6,5,7,12,32,73,41,33,7,21,22,13,28,10,14,8,10,7,45,33,11,12,6,11,21,43,11,9,17,7,28,9,30,8,14,4,33,32,10,3,15,18,9,9,13,6,17,24,33,6,6,13,11,20,11,5,26,8,33,12,16,7,15,9,61,14,7,48,5,6,9,13,12,10,19,13,6,38,6,19,12,23,9,16,21,7,9,14,8,12,11,3,6,20,50,4,15,9,14,11,5,16,17,11,10,22,16,15,20,34,19,6,16,7,19,8,28,40,14,65,6,15,5,33,8,19,19,6,18,5,13,21,12,8,55,12,29,22,21,22,20,12,13,29,6,29,9,5,19,21,2,39,12,50,9,13,14,29,24,45,12,3,19,14,38,25,6,3,23,17,9,12,19,15,10,4,8,41,5,10,6,15,7,3,24,12,8,4,22,27,6,23,6,3,31,12,6,11,36,12,11,20,6,17,4,13,16,13,7,8,17,9,52,18,39,10,11,15,20,25,22,7,7,6,5,20,8,8,8,7,12,14,13,24,10,5,7,7,21,39,14,13,20,5,11,11,16,16,6,25,6,2,18,13,8,10,15,18,23,7,18,9,12,10,13,4,11,9,13,10,17,15,12,22,36,25,6,10,19,5,4,7,19,18,22,14,22,25,6,10,28,17,22,7,21,2,18,7,11,6,3,14,23,4,14,25,12,14,10,6,10,12,15,5,10,7,12,8,16,43,9,19,7,15,20,8,22,7,16,97,12,9,5,9,6,12,7,6,4,10,15,8,15,5,13,22,5,9,4,4,16,13,21,20,6,41,2,10,18,13,1,13,23,17,5,27,7,6,13,20,6,19,23,7,6,11,11,13,19,5,32,11,17,27,9,4,9,23,8,8,5,7,19,4,31,24,7,8,9,20,12,13,22,4,11,11,17,36,12,12,10,8,4,33,9,32,21,14,11,55,10,13,15,11,5,18,7,23,6,37,5,7,7,8,39,8,14,12,14,4,17,5,57,17,31,16,9,5,8,19,12,13,7,2,29,13,9,14,30,24,22,26,9,28,19,28,12,4,28,11,8,11,8,9,4,9,6,18,14,6,4,13,7,10,8,11,6,22,37,17,3,12,20,11,11,11,8,24,8,10,14,30,39,16,25,11,5,15,5,16,27,7,11,14,3,8,6,27,6,13,43,5,34,13,66,6,11,14,44,16,12,21,2,7,5,18,20,27,5,13,15,10,15,8,9,6,7,11,12,37,15,9,6,13,19,2,17,12,25,36,15,15,11,16,7,15,7,10,12,5,20,3,7,30,39,15,11,47,13,16,65,7,5,11,18,14,8,7,9,14,15,9,3,16,30,7,42,6,19,5,13,14,15,8,15,17,31,19,29,26,13,25,25,10,9,5,15,11,9,22,15,6,18,7,25,30,8,5,16,16,4,38,20,19,33,6,7,10,15,12,8,15,12,9,9,37,12,6,8,11,22,19,13,15,8,18,8,17,33,5,17,13,5,19,30,10,5,12,11,14,16,12,6,59,10,5,16,27,10,51,11,23,12,13,8,38,29,16,3,7,4,5,15,3,25,12,36,38,6,11,41,4,21,17,25,93,17,10,13,16,5,18,21,8,9,15,27,23,15,33,12,4,8,22,23,9,31,20,15,23,5,11,3,13,25,41,10,19,13,5,14,10,7,23,5,6,8,15,43,17,4,8,13,17,7,7,19,22,24,10,7,41,7,31,10,19,6,12,17,14,14,33,8,38,19,21,5,16,10,7,1,4,12,12,12,20,6,16,29,15,8,13,54,14,42,4,4,8,12,24,6,8,11,12,9,12,21,6,5,15,4,24,14,9,148,16,8,3,6,19,11,9,19,20,10,58,9,15,4,4,3,9,5,20,18,13,13,10,9,9,12,8,18,12,11,16,9,6,25,5,6,21,14,6,10,11,6,10,10,8,15,9,18,8,8,18,3,7,19,11,16,23,111,7,24,48,16,18,9,26,10,53,21,11,7,32,11,7,34,7,17,6,22,19,22,5,7,25,4,19,57,7,9,18,38,6,11,9,14,13,20,8,13,11,8,39,5,10,10,17,22,7,12,69,18,22,17,9,35,11,6,12,4,13,13,12,25,27,16,4,13,7,22,13,14,8,42,26,10,12,12,22,16,21,21,8,3,12,19,54,10,15,11,7,6,8,18,9,15,21,29,9,34,20],\"xaxis\":\"x2\",\"yaxis\":\"y2\",\"type\":\"box\"}],                        {\"template\":{\"data\":{\"histogram2dcontour\":[{\"type\":\"histogram2dcontour\",\"colorbar\":{\"outlinewidth\":0,\"ticks\":\"\"},\"colorscale\":[[0.0,\"#0d0887\"],[0.1111111111111111,\"#46039f\"],[0.2222222222222222,\"#7201a8\"],[0.3333333333333333,\"#9c179e\"],[0.4444444444444444,\"#bd3786\"],[0.5555555555555556,\"#d8576b\"],[0.6666666666666666,\"#ed7953\"],[0.7777777777777778,\"#fb9f3a\"],[0.8888888888888888,\"#fdca26\"],[1.0,\"#f0f921\"]]}],\"choropleth\":[{\"type\":\"choropleth\",\"colorbar\":{\"outlinewidth\":0,\"ticks\":\"\"}}],\"histogram2d\":[{\"type\":\"histogram2d\",\"colorbar\":{\"outlinewidth\":0,\"ticks\":\"\"},\"colorscale\":[[0.0,\"#0d0887\"],[0.1111111111111111,\"#46039f\"],[0.2222222222222222,\"#7201a8\"],[0.3333333333333333,\"#9c179e\"],[0.4444444444444444,\"#bd3786\"],[0.5555555555555556,\"#d8576b\"],[0.6666666666666666,\"#ed7953\"],[0.7777777777777778,\"#fb9f3a\"],[0.8888888888888888,\"#fdca26\"],[1.0,\"#f0f921\"]]}],\"heatmap\":[{\"type\":\"heatmap\",\"colorbar\":{\"outlinewidth\":0,\"ticks\":\"\"},\"colorscale\":[[0.0,\"#0d0887\"],[0.1111111111111111,\"#46039f\"],[0.2222222222222222,\"#7201a8\"],[0.3333333333333333,\"#9c179e\"],[0.4444444444444444,\"#bd3786\"],[0.5555555555555556,\"#d8576b\"],[0.6666666666666666,\"#ed7953\"],[0.7777777777777778,\"#fb9f3a\"],[0.8888888888888888,\"#fdca26\"],[1.0,\"#f0f921\"]]}],\"heatmapgl\":[{\"type\":\"heatmapgl\",\"colorbar\":{\"outlinewidth\":0,\"ticks\":\"\"},\"colorscale\":[[0.0,\"#0d0887\"],[0.1111111111111111,\"#46039f\"],[0.2222222222222222,\"#7201a8\"],[0.3333333333333333,\"#9c179e\"],[0.4444444444444444,\"#bd3786\"],[0.5555555555555556,\"#d8576b\"],[0.6666666666666666,\"#ed7953\"],[0.7777777777777778,\"#fb9f3a\"],[0.8888888888888888,\"#fdca26\"],[1.0,\"#f0f921\"]]}],\"contourcarpet\":[{\"type\":\"contourcarpet\",\"colorbar\":{\"outlinewidth\":0,\"ticks\":\"\"}}],\"contour\":[{\"type\":\"contour\",\"colorbar\":{\"outlinewidth\":0,\"ticks\":\"\"},\"colorscale\":[[0.0,\"#0d0887\"],[0.1111111111111111,\"#46039f\"],[0.2222222222222222,\"#7201a8\"],[0.3333333333333333,\"#9c179e\"],[0.4444444444444444,\"#bd3786\"],[0.5555555555555556,\"#d8576b\"],[0.6666666666666666,\"#ed7953\"],[0.7777777777777778,\"#fb9f3a\"],[0.8888888888888888,\"#fdca26\"],[1.0,\"#f0f921\"]]}],\"surface\":[{\"type\":\"surface\",\"colorbar\":{\"outlinewidth\":0,\"ticks\":\"\"},\"colorscale\":[[0.0,\"#0d0887\"],[0.1111111111111111,\"#46039f\"],[0.2222222222222222,\"#7201a8\"],[0.3333333333333333,\"#9c179e\"],[0.4444444444444444,\"#bd3786\"],[0.5555555555555556,\"#d8576b\"],[0.6666666666666666,\"#ed7953\"],[0.7777777777777778,\"#fb9f3a\"],[0.8888888888888888,\"#fdca26\"],[1.0,\"#f0f921\"]]}],\"mesh3d\":[{\"type\":\"mesh3d\",\"colorbar\":{\"outlinewidth\":0,\"ticks\":\"\"}}],\"scatter\":[{\"fillpattern\":{\"fillmode\":\"overlay\",\"size\":10,\"solidity\":0.2},\"type\":\"scatter\"}],\"parcoords\":[{\"type\":\"parcoords\",\"line\":{\"colorbar\":{\"outlinewidth\":0,\"ticks\":\"\"}}}],\"scatterpolargl\":[{\"type\":\"scatterpolargl\",\"marker\":{\"colorbar\":{\"outlinewidth\":0,\"ticks\":\"\"}}}],\"bar\":[{\"error_x\":{\"color\":\"#2a3f5f\"},\"error_y\":{\"color\":\"#2a3f5f\"},\"marker\":{\"line\":{\"color\":\"#E5ECF6\",\"width\":0.5},\"pattern\":{\"fillmode\":\"overlay\",\"size\":10,\"solidity\":0.2}},\"type\":\"bar\"}],\"scattergeo\":[{\"type\":\"scattergeo\",\"marker\":{\"colorbar\":{\"outlinewidth\":0,\"ticks\":\"\"}}}],\"scatterpolar\":[{\"type\":\"scatterpolar\",\"marker\":{\"colorbar\":{\"outlinewidth\":0,\"ticks\":\"\"}}}],\"histogram\":[{\"marker\":{\"pattern\":{\"fillmode\":\"overlay\",\"size\":10,\"solidity\":0.2}},\"type\":\"histogram\"}],\"scattergl\":[{\"type\":\"scattergl\",\"marker\":{\"colorbar\":{\"outlinewidth\":0,\"ticks\":\"\"}}}],\"scatter3d\":[{\"type\":\"scatter3d\",\"line\":{\"colorbar\":{\"outlinewidth\":0,\"ticks\":\"\"}},\"marker\":{\"colorbar\":{\"outlinewidth\":0,\"ticks\":\"\"}}}],\"scattermapbox\":[{\"type\":\"scattermapbox\",\"marker\":{\"colorbar\":{\"outlinewidth\":0,\"ticks\":\"\"}}}],\"scatterternary\":[{\"type\":\"scatterternary\",\"marker\":{\"colorbar\":{\"outlinewidth\":0,\"ticks\":\"\"}}}],\"scattercarpet\":[{\"type\":\"scattercarpet\",\"marker\":{\"colorbar\":{\"outlinewidth\":0,\"ticks\":\"\"}}}],\"carpet\":[{\"aaxis\":{\"endlinecolor\":\"#2a3f5f\",\"gridcolor\":\"white\",\"linecolor\":\"white\",\"minorgridcolor\":\"white\",\"startlinecolor\":\"#2a3f5f\"},\"baxis\":{\"endlinecolor\":\"#2a3f5f\",\"gridcolor\":\"white\",\"linecolor\":\"white\",\"minorgridcolor\":\"white\",\"startlinecolor\":\"#2a3f5f\"},\"type\":\"carpet\"}],\"table\":[{\"cells\":{\"fill\":{\"color\":\"#EBF0F8\"},\"line\":{\"color\":\"white\"}},\"header\":{\"fill\":{\"color\":\"#C8D4E3\"},\"line\":{\"color\":\"white\"}},\"type\":\"table\"}],\"barpolar\":[{\"marker\":{\"line\":{\"color\":\"#E5ECF6\",\"width\":0.5},\"pattern\":{\"fillmode\":\"overlay\",\"size\":10,\"solidity\":0.2}},\"type\":\"barpolar\"}],\"pie\":[{\"automargin\":true,\"type\":\"pie\"}]},\"layout\":{\"autotypenumbers\":\"strict\",\"colorway\":[\"#636efa\",\"#EF553B\",\"#00cc96\",\"#ab63fa\",\"#FFA15A\",\"#19d3f3\",\"#FF6692\",\"#B6E880\",\"#FF97FF\",\"#FECB52\"],\"font\":{\"color\":\"#2a3f5f\"},\"hovermode\":\"closest\",\"hoverlabel\":{\"align\":\"left\"},\"paper_bgcolor\":\"white\",\"plot_bgcolor\":\"#E5ECF6\",\"polar\":{\"bgcolor\":\"#E5ECF6\",\"angularaxis\":{\"gridcolor\":\"white\",\"linecolor\":\"white\",\"ticks\":\"\"},\"radialaxis\":{\"gridcolor\":\"white\",\"linecolor\":\"white\",\"ticks\":\"\"}},\"ternary\":{\"bgcolor\":\"#E5ECF6\",\"aaxis\":{\"gridcolor\":\"white\",\"linecolor\":\"white\",\"ticks\":\"\"},\"baxis\":{\"gridcolor\":\"white\",\"linecolor\":\"white\",\"ticks\":\"\"},\"caxis\":{\"gridcolor\":\"white\",\"linecolor\":\"white\",\"ticks\":\"\"}},\"coloraxis\":{\"colorbar\":{\"outlinewidth\":0,\"ticks\":\"\"}},\"colorscale\":{\"sequential\":[[0.0,\"#0d0887\"],[0.1111111111111111,\"#46039f\"],[0.2222222222222222,\"#7201a8\"],[0.3333333333333333,\"#9c179e\"],[0.4444444444444444,\"#bd3786\"],[0.5555555555555556,\"#d8576b\"],[0.6666666666666666,\"#ed7953\"],[0.7777777777777778,\"#fb9f3a\"],[0.8888888888888888,\"#fdca26\"],[1.0,\"#f0f921\"]],\"sequentialminus\":[[0.0,\"#0d0887\"],[0.1111111111111111,\"#46039f\"],[0.2222222222222222,\"#7201a8\"],[0.3333333333333333,\"#9c179e\"],[0.4444444444444444,\"#bd3786\"],[0.5555555555555556,\"#d8576b\"],[0.6666666666666666,\"#ed7953\"],[0.7777777777777778,\"#fb9f3a\"],[0.8888888888888888,\"#fdca26\"],[1.0,\"#f0f921\"]],\"diverging\":[[0,\"#8e0152\"],[0.1,\"#c51b7d\"],[0.2,\"#de77ae\"],[0.3,\"#f1b6da\"],[0.4,\"#fde0ef\"],[0.5,\"#f7f7f7\"],[0.6,\"#e6f5d0\"],[0.7,\"#b8e186\"],[0.8,\"#7fbc41\"],[0.9,\"#4d9221\"],[1,\"#276419\"]]},\"xaxis\":{\"gridcolor\":\"white\",\"linecolor\":\"white\",\"ticks\":\"\",\"title\":{\"standoff\":15},\"zerolinecolor\":\"white\",\"automargin\":true,\"zerolinewidth\":2},\"yaxis\":{\"gridcolor\":\"white\",\"linecolor\":\"white\",\"ticks\":\"\",\"title\":{\"standoff\":15},\"zerolinecolor\":\"white\",\"automargin\":true,\"zerolinewidth\":2},\"scene\":{\"xaxis\":{\"backgroundcolor\":\"#E5ECF6\",\"gridcolor\":\"white\",\"linecolor\":\"white\",\"showbackground\":true,\"ticks\":\"\",\"zerolinecolor\":\"white\",\"gridwidth\":2},\"yaxis\":{\"backgroundcolor\":\"#E5ECF6\",\"gridcolor\":\"white\",\"linecolor\":\"white\",\"showbackground\":true,\"ticks\":\"\",\"zerolinecolor\":\"white\",\"gridwidth\":2},\"zaxis\":{\"backgroundcolor\":\"#E5ECF6\",\"gridcolor\":\"white\",\"linecolor\":\"white\",\"showbackground\":true,\"ticks\":\"\",\"zerolinecolor\":\"white\",\"gridwidth\":2}},\"shapedefaults\":{\"line\":{\"color\":\"#2a3f5f\"}},\"annotationdefaults\":{\"arrowcolor\":\"#2a3f5f\",\"arrowhead\":0,\"arrowwidth\":1},\"geo\":{\"bgcolor\":\"white\",\"landcolor\":\"#E5ECF6\",\"subunitcolor\":\"white\",\"showland\":true,\"showlakes\":true,\"lakecolor\":\"white\"},\"title\":{\"x\":0.05},\"mapbox\":{\"style\":\"light\"}}},\"xaxis\":{\"anchor\":\"y\",\"domain\":[0.0,1.0],\"title\":{\"text\":\"Months as Member\"}},\"yaxis\":{\"anchor\":\"x\",\"domain\":[0.0,0.8316],\"title\":{\"text\":\"count\"}},\"xaxis2\":{\"anchor\":\"y2\",\"domain\":[0.0,1.0],\"matches\":\"x\",\"showticklabels\":false,\"showgrid\":true},\"yaxis2\":{\"anchor\":\"x2\",\"domain\":[0.8416,1.0],\"matches\":\"y2\",\"showticklabels\":false,\"showline\":false,\"ticks\":\"\",\"showgrid\":false},\"legend\":{\"tracegroupgap\":0},\"title\":{\"text\":\"Histogram with KDE for Months as Member\"},\"barmode\":\"relative\"},                        {\"responsive\": true}                    ).then(function(){\n",
       "                            \n",
       "var gd = document.getElementById('fcc3d99e-2795-44dd-b59f-86d6856dac53');\n",
       "var x = new MutationObserver(function (mutations, observer) {{\n",
       "        var display = window.getComputedStyle(gd).display;\n",
       "        if (!display || display === 'none') {{\n",
       "            console.log([gd, 'removed!']);\n",
       "            Plotly.purge(gd);\n",
       "            observer.disconnect();\n",
       "        }}\n",
       "}});\n",
       "\n",
       "// Listen for the removal of the full notebook cells\n",
       "var notebookContainer = gd.closest('#notebook-container');\n",
       "if (notebookContainer) {{\n",
       "    x.observe(notebookContainer, {childList: true});\n",
       "}}\n",
       "\n",
       "// Listen for the clearing of the current output cell\n",
       "var outputEl = gd.closest('.output');\n",
       "if (outputEl) {{\n",
       "    x.observe(outputEl, {childList: true});\n",
       "}}\n",
       "\n",
       "                        })                };                });            </script>        </div>"
      ]
     },
     "metadata": {},
     "output_type": "display_data"
    }
   ],
   "source": [
    "fig = px.histogram(\n",
    "    df,\n",
    "    x='months_as_member',\n",
    "    marginal='rug',\n",
    "    nbins=30,\n",
    "    title='Histogram with KDE for Months as Member',\n",
    "    labels={'months_as_member': 'Months as Member'},\n",
    "    opacity=0.7\n",
    ")\n",
    "fig.show()"
   ]
  },
  {
   "cell_type": "code",
   "execution_count": 26,
   "id": "853eb9c5",
   "metadata": {
    "execution": {
     "iopub.execute_input": "2023-09-14T08:51:28.301170Z",
     "iopub.status.busy": "2023-09-14T08:51:28.300881Z",
     "iopub.status.idle": "2023-09-14T08:51:28.363944Z",
     "shell.execute_reply": "2023-09-14T08:51:28.362903Z"
    },
    "papermill": {
     "duration": 0.080875,
     "end_time": "2023-09-14T08:51:28.366285",
     "exception": false,
     "start_time": "2023-09-14T08:51:28.285410",
     "status": "completed"
    },
    "tags": []
   },
   "outputs": [
    {
     "data": {
      "text/html": [
       "<div>                            <div id=\"3e1a0660-c434-4b70-a8bc-e003a8bf92e0\" class=\"plotly-graph-div\" style=\"height:525px; width:100%;\"></div>            <script type=\"text/javascript\">                require([\"plotly\"], function(Plotly) {                    window.PLOTLYENV=window.PLOTLYENV || {};                                    if (document.getElementById(\"3e1a0660-c434-4b70-a8bc-e003a8bf92e0\")) {                    Plotly.newPlot(                        \"3e1a0660-c434-4b70-a8bc-e003a8bf92e0\",                        [{\"alignmentgroup\":\"True\",\"hovertemplate\":\"Attendance=%{x}\\u003cbr\\u003eNumber of Months=%{y}\\u003cextra\\u003e\\u003c\\u002fextra\\u003e\",\"legendgroup\":\"\",\"marker\":{\"color\":\"#636efa\"},\"name\":\"\",\"notched\":false,\"offsetgroup\":\"\",\"orientation\":\"v\",\"showlegend\":false,\"x\":[0,0,0,0,0,0,0,0,1,0,0,0,1,0,0,1,1,0,1,1,1,1,0,0,0,0,1,0,1,1,1,0,0,0,0,0,1,0,1,0,0,0,0,0,0,0,0,0,0,0,0,0,0,1,1,0,0,0,0,0,0,0,0,0,0,0,0,1,0,0,0,0,0,1,0,0,0,1,1,0,0,0,0,1,0,0,0,1,0,0,0,1,1,1,0,1,1,0,1,0,0,0,0,1,0,0,0,0,0,1,0,1,0,0,0,1,0,1,1,0,1,1,0,0,1,0,0,0,1,0,0,0,0,0,0,1,0,0,1,0,1,1,0,1,0,0,1,0,0,0,1,0,1,0,0,1,0,1,0,0,0,0,0,0,0,0,1,0,1,0,0,0,0,0,0,0,0,0,0,0,0,0,0,1,1,0,0,0,1,0,1,1,0,1,0,0,0,1,0,0,1,0,0,0,0,0,1,0,1,0,0,0,0,0,0,0,0,1,0,0,1,1,1,1,1,1,0,1,0,0,0,0,0,1,0,0,1,1,0,0,1,0,0,0,1,0,0,0,0,1,0,1,0,0,0,0,0,0,1,1,0,0,0,0,0,0,0,0,0,0,0,0,0,0,0,0,1,1,0,0,0,0,0,0,0,1,1,1,0,1,0,1,0,1,1,1,1,1,0,0,0,1,0,1,0,0,1,0,1,0,0,0,1,1,0,0,0,0,0,1,0,0,1,0,0,1,0,0,0,0,0,1,0,1,1,0,0,0,0,0,0,0,1,1,1,1,0,0,0,0,0,1,0,0,0,0,1,0,0,0,0,0,0,0,0,0,0,0,0,1,0,1,0,0,0,0,0,0,0,1,0,1,0,0,1,0,0,0,1,0,0,0,0,0,0,0,0,0,0,0,0,0,0,1,0,0,0,0,0,0,0,0,0,0,0,0,0,0,1,0,0,0,0,1,0,0,0,1,0,0,0,0,1,0,1,1,0,0,0,0,0,0,0,1,0,0,0,1,1,0,0,0,0,1,0,0,1,0,1,0,1,0,1,0,0,1,0,0,0,0,0,0,1,1,0,1,0,0,0,1,0,0,0,1,0,1,1,0,1,0,0,0,1,1,0,0,0,0,0,1,0,0,0,0,0,0,0,0,0,0,0,0,0,0,1,0,0,0,1,0,0,0,0,0,1,0,0,0,0,1,1,1,1,1,0,1,1,0,0,0,1,0,1,0,1,1,0,1,0,0,1,1,0,0,1,0,1,0,0,0,1,0,0,1,0,0,1,1,0,0,0,0,1,1,0,0,0,0,0,1,1,0,1,0,1,0,0,0,0,0,1,0,0,1,0,0,1,1,0,0,0,0,0,0,0,1,0,1,0,1,1,0,1,0,0,1,0,0,0,1,1,0,0,0,0,1,0,0,0,0,0,1,1,1,1,0,0,0,0,0,1,0,1,1,0,1,0,0,0,0,0,1,0,0,0,0,0,0,0,0,1,0,1,0,1,0,1,1,1,1,0,1,1,0,0,1,0,1,0,1,0,0,0,1,1,1,0,0,1,1,1,1,0,0,1,0,0,1,0,0,1,0,0,1,0,0,0,1,1,0,1,0,0,0,1,0,0,1,0,0,0,0,0,1,1,1,0,1,0,1,0,0,0,0,0,0,0,0,1,0,1,0,0,0,1,0,1,0,0,0,0,0,0,0,0,0,0,0,0,1,0,0,0,1,1,1,1,0,0,0,0,1,1,0,0,0,0,0,0,0,0,0,0,1,0,0,0,0,1,0,0,0,0,0,0,0,0,0,0,1,0,1,0,0,0,0,0,0,0,1,1,0,0,1,0,0,0,1,1,1,1,0,1,0,0,0,0,0,1,0,1,0,1,0,0,0,0,0,0,0,0,0,0,0,0,1,1,1,1,0,0,1,1,0,0,1,0,0,0,0,0,0,0,0,0,0,0,0,0,1,0,1,0,0,0,0,0,0,1,0,0,0,0,0,0,1,0,1,1,0,0,1,1,0,0,0,0,1,1,0,0,0,0,1,0,1,1,0,0,1,0,0,0,1,0,0,0,1,0,0,1,1,0,0,0,1,1,0,0,0,0,0,1,0,0,0,0,0,0,1,0,0,0,0,0,1,0,1,0,0,0,0,0,0,0,1,0,1,0,0,1,0,0,0,0,0,0,0,1,1,0,1,0,0,0,0,0,1,0,0,1,1,0,1,0,1,0,1,0,1,0,1,1,0,0,0,0,0,0,0,0,0,0,1,1,0,0,0,0,1,0,0,0,1,1,0,0,0,1,0,0,0,0,1,0,1,0,1,1,1,0,0,0,0,0,0,1,0,0,0,0,0,0,1,0,0,0,0,1,0,1,0,0,0,1,1,1,0,0,0,0,0,1,1,0,1,0,0,0,1,0,0,0,0,0,1,0,1,0,0,0,0,0,1,0,1,0,1,1,1,0,0,0,0,1,0,0,0,0,0,1,0,0,1,0,1,1,0,0,1,0,1,0,0,0,0,1,0,0,1,1,0,0,1,0,0,0,0,0,0,0,0,0,0,1,0,0,0,0,0,0,0,0,0,0,0,0,0,1,0,1,1,0,0,1,0,1,1,1,1,1,0,0,1,0,1,0,0,1,0,0,0,0,0,0,1,0,1,0,1,0,0,0,0,0,0,0,0,0,0,1,0,0,0,1,0,1,0,1,1,0,0,1,0,1,1,0,0,1,0,0,1,1,0,0,0,0,0,0,0,1,0,0,1,0,0,1,0,0,1,1,1,1,0,0,0,0,0,0,1,0,0,1,0,0,1,0,0,0,1,0,0,1,0,1,0,0,0,0,0,1,1,0,0,1,0,0,0,0,0,0,0,0,0,1,0,0,0,0,0,0,0,0,1,0,0,0,1,0,0,0,0,0,0,0,0,0,1,0,1,1,0,0,0,0,0,0,0,0,0,0,1,0,1,1,1,1,0,1,1,1,0,0,0,0,1,0,0,0,0,0,1,0,0,0,1,1,1,0,1,1,1,0,0,0,0,0,1,1,0,0,1,0,0,0,0,0,0,0,1,1,0,0,0,0,0,0,0,1,0,1,1,0,0,1,0,0,1,0,0,0,0,0,0,1,0,0,1,0,0,0,1,0,0,1,1,1,1,1,0,1,1,0,1,0,0,0,0,1,0,0,0,0,0,1,0,0,0,0,1,1,0,1,1,0,0,1,0,1,1,0,0,0,0,0,0,1,0,1,0,0,1,0,0,1,1,0,0,0,1,1,0,0,0,1,0,1,0,0,0,0,0,1,1,1,0,0,0,0,0,1,0,1,1,0,1,1,0,0,1,1,0,0,0,1,1,0,0,0,0,0,0,0,0,1,0,0,0,0,1],\"x0\":\" \",\"xaxis\":\"x\",\"y\":[17,10,16,5,15,7,11,9,23,7,13,16,16,8,9,9,22,6,33,10,24,14,2,12,8,2,12,26,28,27,8,8,1,6,3,6,24,8,27,7,5,14,7,9,6,5,21,17,10,18,8,19,12,19,53,17,3,12,19,16,8,6,9,10,2,20,11,8,9,2,17,11,8,28,34,20,5,12,14,11,10,11,6,25,9,8,17,20,14,32,3,27,73,10,5,20,7,6,55,4,9,7,14,11,9,5,12,8,21,14,11,34,8,12,14,27,10,18,13,26,35,54,6,15,76,3,15,3,28,8,5,11,9,11,9,24,10,13,62,5,42,21,11,105,15,4,20,24,2,5,90,15,29,8,18,60,3,16,7,21,21,3,3,12,11,9,18,7,30,9,6,8,11,13,25,32,3,11,12,8,23,5,6,107,52,8,8,34,13,5,14,53,17,37,8,11,15,37,8,12,22,9,6,15,10,6,38,10,35,10,19,16,10,9,16,8,12,21,13,3,27,17,20,48,21,51,13,20,12,23,12,10,18,8,16,8,17,29,10,9,10,7,16,7,34,9,12,12,7,40,4,8,8,3,7,6,8,5,25,20,15,16,8,13,6,12,4,4,7,4,3,13,6,25,20,7,17,26,3,21,9,12,14,8,26,89,24,13,10,22,9,26,5,57,11,34,20,13,6,4,7,11,9,9,12,10,36,13,13,7,13,18,13,23,5,5,11,15,20,12,14,20,14,14,6,17,12,11,5,18,10,15,19,52,16,19,11,14,13,7,6,13,27,23,20,19,8,5,38,10,11,18,16,18,6,38,18,3,7,9,20,5,5,7,8,4,4,14,2,13,6,14,7,9,10,4,14,12,7,44,14,13,6,8,29,11,5,10,7,21,8,4,7,8,6,13,26,20,17,7,19,8,15,35,8,10,39,8,15,10,6,15,13,7,21,9,6,8,14,11,10,5,13,41,20,15,11,21,13,11,7,5,18,6,29,19,11,57,5,17,29,6,6,16,14,6,9,36,38,10,3,5,12,12,47,6,58,9,36,5,26,17,5,5,21,8,7,10,8,9,15,5,22,13,24,26,20,9,20,18,9,10,14,10,39,66,48,7,20,10,5,9,25,17,4,10,7,7,11,27,9,17,14,20,11,7,14,5,5,8,8,15,14,6,5,8,6,7,24,25,10,19,20,9,19,7,6,5,7,12,32,73,41,33,7,21,22,13,28,10,14,8,10,7,45,33,11,12,6,11,21,43,11,9,17,7,28,9,30,8,14,4,33,32,10,3,15,18,9,9,13,6,17,24,33,6,6,13,11,20,11,5,26,8,33,12,16,7,15,9,61,14,7,48,5,6,9,13,12,10,19,13,6,38,6,19,12,23,9,16,21,7,9,14,8,12,11,3,6,20,50,4,15,9,14,11,5,16,17,11,10,22,16,15,20,34,19,6,16,7,19,8,28,40,14,65,6,15,5,33,8,19,19,6,18,5,13,21,12,8,55,12,29,22,21,22,20,12,13,29,6,29,9,5,19,21,2,39,12,50,9,13,14,29,24,45,12,3,19,14,38,25,6,3,23,17,9,12,19,15,10,4,8,41,5,10,6,15,7,3,24,12,8,4,22,27,6,23,6,3,31,12,6,11,36,12,11,20,6,17,4,13,16,13,7,8,17,9,52,18,39,10,11,15,20,25,22,7,7,6,5,20,8,8,8,7,12,14,13,24,10,5,7,7,21,39,14,13,20,5,11,11,16,16,6,25,6,2,18,13,8,10,15,18,23,7,18,9,12,10,13,4,11,9,13,10,17,15,12,22,36,25,6,10,19,5,4,7,19,18,22,14,22,25,6,10,28,17,22,7,21,2,18,7,11,6,3,14,23,4,14,25,12,14,10,6,10,12,15,5,10,7,12,8,16,43,9,19,7,15,20,8,22,7,16,97,12,9,5,9,6,12,7,6,4,10,15,8,15,5,13,22,5,9,4,4,16,13,21,20,6,41,2,10,18,13,1,13,23,17,5,27,7,6,13,20,6,19,23,7,6,11,11,13,19,5,32,11,17,27,9,4,9,23,8,8,5,7,19,4,31,24,7,8,9,20,12,13,22,4,11,11,17,36,12,12,10,8,4,33,9,32,21,14,11,55,10,13,15,11,5,18,7,23,6,37,5,7,7,8,39,8,14,12,14,4,17,5,57,17,31,16,9,5,8,19,12,13,7,2,29,13,9,14,30,24,22,26,9,28,19,28,12,4,28,11,8,11,8,9,4,9,6,18,14,6,4,13,7,10,8,11,6,22,37,17,3,12,20,11,11,11,8,24,8,10,14,30,39,16,25,11,5,15,5,16,27,7,11,14,3,8,6,27,6,13,43,5,34,13,66,6,11,14,44,16,12,21,2,7,5,18,20,27,5,13,15,10,15,8,9,6,7,11,12,37,15,9,6,13,19,2,17,12,25,36,15,15,11,16,7,15,7,10,12,5,20,3,7,30,39,15,11,47,13,16,65,7,5,11,18,14,8,7,9,14,15,9,3,16,30,7,42,6,19,5,13,14,15,8,15,17,31,19,29,26,13,25,25,10,9,5,15,11,9,22,15,6,18,7,25,30,8,5,16,16,4,38,20,19,33,6,7,10,15,12,8,15,12,9,9,37,12,6,8,11,22,19,13,15,8,18,8,17,33,5,17,13,5,19,30,10,5,12,11,14,16,12,6,59,10,5,16,27,10,51,11,23,12,13,8,38,29,16,3,7,4,5,15,3,25,12,36,38,6,11,41,4,21,17,25,93,17,10,13,16,5,18,21,8,9,15,27,23,15,33,12,4,8,22,23,9,31,20,15,23,5,11,3,13,25,41,10,19,13,5,14,10,7,23,5,6,8,15,43,17,4,8,13,17,7,7,19,22,24,10,7,41,7,31,10,19,6,12,17,14,14,33,8,38,19,21,5,16,10,7,1,4,12,12,12,20,6,16,29,15,8,13,54,14,42,4,4,8,12,24,6,8,11,12,9,12,21,6,5,15,4,24,14,9,148,16,8,3,6,19,11,9,19,20,10,58,9,15,4,4,3,9,5,20,18,13,13,10,9,9,12,8,18,12,11,16,9,6,25,5,6,21,14,6,10,11,6,10,10,8,15,9,18,8,8,18,3,7,19,11,16,23,111,7,24,48,16,18,9,26,10,53,21,11,7,32,11,7,34,7,17,6,22,19,22,5,7,25,4,19,57,7,9,18,38,6,11,9,14,13,20,8,13,11,8,39,5,10,10,17,22,7,12,69,18,22,17,9,35,11,6,12,4,13,13,12,25,27,16,4,13,7,22,13,14,8,42,26,10,12,12,22,16,21,21,8,3,12,19,54,10,15,11,7,6,8,18,9,15,21,29,9,34,20],\"y0\":\" \",\"yaxis\":\"y\",\"type\":\"box\"}],                        {\"template\":{\"data\":{\"histogram2dcontour\":[{\"type\":\"histogram2dcontour\",\"colorbar\":{\"outlinewidth\":0,\"ticks\":\"\"},\"colorscale\":[[0.0,\"#0d0887\"],[0.1111111111111111,\"#46039f\"],[0.2222222222222222,\"#7201a8\"],[0.3333333333333333,\"#9c179e\"],[0.4444444444444444,\"#bd3786\"],[0.5555555555555556,\"#d8576b\"],[0.6666666666666666,\"#ed7953\"],[0.7777777777777778,\"#fb9f3a\"],[0.8888888888888888,\"#fdca26\"],[1.0,\"#f0f921\"]]}],\"choropleth\":[{\"type\":\"choropleth\",\"colorbar\":{\"outlinewidth\":0,\"ticks\":\"\"}}],\"histogram2d\":[{\"type\":\"histogram2d\",\"colorbar\":{\"outlinewidth\":0,\"ticks\":\"\"},\"colorscale\":[[0.0,\"#0d0887\"],[0.1111111111111111,\"#46039f\"],[0.2222222222222222,\"#7201a8\"],[0.3333333333333333,\"#9c179e\"],[0.4444444444444444,\"#bd3786\"],[0.5555555555555556,\"#d8576b\"],[0.6666666666666666,\"#ed7953\"],[0.7777777777777778,\"#fb9f3a\"],[0.8888888888888888,\"#fdca26\"],[1.0,\"#f0f921\"]]}],\"heatmap\":[{\"type\":\"heatmap\",\"colorbar\":{\"outlinewidth\":0,\"ticks\":\"\"},\"colorscale\":[[0.0,\"#0d0887\"],[0.1111111111111111,\"#46039f\"],[0.2222222222222222,\"#7201a8\"],[0.3333333333333333,\"#9c179e\"],[0.4444444444444444,\"#bd3786\"],[0.5555555555555556,\"#d8576b\"],[0.6666666666666666,\"#ed7953\"],[0.7777777777777778,\"#fb9f3a\"],[0.8888888888888888,\"#fdca26\"],[1.0,\"#f0f921\"]]}],\"heatmapgl\":[{\"type\":\"heatmapgl\",\"colorbar\":{\"outlinewidth\":0,\"ticks\":\"\"},\"colorscale\":[[0.0,\"#0d0887\"],[0.1111111111111111,\"#46039f\"],[0.2222222222222222,\"#7201a8\"],[0.3333333333333333,\"#9c179e\"],[0.4444444444444444,\"#bd3786\"],[0.5555555555555556,\"#d8576b\"],[0.6666666666666666,\"#ed7953\"],[0.7777777777777778,\"#fb9f3a\"],[0.8888888888888888,\"#fdca26\"],[1.0,\"#f0f921\"]]}],\"contourcarpet\":[{\"type\":\"contourcarpet\",\"colorbar\":{\"outlinewidth\":0,\"ticks\":\"\"}}],\"contour\":[{\"type\":\"contour\",\"colorbar\":{\"outlinewidth\":0,\"ticks\":\"\"},\"colorscale\":[[0.0,\"#0d0887\"],[0.1111111111111111,\"#46039f\"],[0.2222222222222222,\"#7201a8\"],[0.3333333333333333,\"#9c179e\"],[0.4444444444444444,\"#bd3786\"],[0.5555555555555556,\"#d8576b\"],[0.6666666666666666,\"#ed7953\"],[0.7777777777777778,\"#fb9f3a\"],[0.8888888888888888,\"#fdca26\"],[1.0,\"#f0f921\"]]}],\"surface\":[{\"type\":\"surface\",\"colorbar\":{\"outlinewidth\":0,\"ticks\":\"\"},\"colorscale\":[[0.0,\"#0d0887\"],[0.1111111111111111,\"#46039f\"],[0.2222222222222222,\"#7201a8\"],[0.3333333333333333,\"#9c179e\"],[0.4444444444444444,\"#bd3786\"],[0.5555555555555556,\"#d8576b\"],[0.6666666666666666,\"#ed7953\"],[0.7777777777777778,\"#fb9f3a\"],[0.8888888888888888,\"#fdca26\"],[1.0,\"#f0f921\"]]}],\"mesh3d\":[{\"type\":\"mesh3d\",\"colorbar\":{\"outlinewidth\":0,\"ticks\":\"\"}}],\"scatter\":[{\"fillpattern\":{\"fillmode\":\"overlay\",\"size\":10,\"solidity\":0.2},\"type\":\"scatter\"}],\"parcoords\":[{\"type\":\"parcoords\",\"line\":{\"colorbar\":{\"outlinewidth\":0,\"ticks\":\"\"}}}],\"scatterpolargl\":[{\"type\":\"scatterpolargl\",\"marker\":{\"colorbar\":{\"outlinewidth\":0,\"ticks\":\"\"}}}],\"bar\":[{\"error_x\":{\"color\":\"#2a3f5f\"},\"error_y\":{\"color\":\"#2a3f5f\"},\"marker\":{\"line\":{\"color\":\"#E5ECF6\",\"width\":0.5},\"pattern\":{\"fillmode\":\"overlay\",\"size\":10,\"solidity\":0.2}},\"type\":\"bar\"}],\"scattergeo\":[{\"type\":\"scattergeo\",\"marker\":{\"colorbar\":{\"outlinewidth\":0,\"ticks\":\"\"}}}],\"scatterpolar\":[{\"type\":\"scatterpolar\",\"marker\":{\"colorbar\":{\"outlinewidth\":0,\"ticks\":\"\"}}}],\"histogram\":[{\"marker\":{\"pattern\":{\"fillmode\":\"overlay\",\"size\":10,\"solidity\":0.2}},\"type\":\"histogram\"}],\"scattergl\":[{\"type\":\"scattergl\",\"marker\":{\"colorbar\":{\"outlinewidth\":0,\"ticks\":\"\"}}}],\"scatter3d\":[{\"type\":\"scatter3d\",\"line\":{\"colorbar\":{\"outlinewidth\":0,\"ticks\":\"\"}},\"marker\":{\"colorbar\":{\"outlinewidth\":0,\"ticks\":\"\"}}}],\"scattermapbox\":[{\"type\":\"scattermapbox\",\"marker\":{\"colorbar\":{\"outlinewidth\":0,\"ticks\":\"\"}}}],\"scatterternary\":[{\"type\":\"scatterternary\",\"marker\":{\"colorbar\":{\"outlinewidth\":0,\"ticks\":\"\"}}}],\"scattercarpet\":[{\"type\":\"scattercarpet\",\"marker\":{\"colorbar\":{\"outlinewidth\":0,\"ticks\":\"\"}}}],\"carpet\":[{\"aaxis\":{\"endlinecolor\":\"#2a3f5f\",\"gridcolor\":\"white\",\"linecolor\":\"white\",\"minorgridcolor\":\"white\",\"startlinecolor\":\"#2a3f5f\"},\"baxis\":{\"endlinecolor\":\"#2a3f5f\",\"gridcolor\":\"white\",\"linecolor\":\"white\",\"minorgridcolor\":\"white\",\"startlinecolor\":\"#2a3f5f\"},\"type\":\"carpet\"}],\"table\":[{\"cells\":{\"fill\":{\"color\":\"#EBF0F8\"},\"line\":{\"color\":\"white\"}},\"header\":{\"fill\":{\"color\":\"#C8D4E3\"},\"line\":{\"color\":\"white\"}},\"type\":\"table\"}],\"barpolar\":[{\"marker\":{\"line\":{\"color\":\"#E5ECF6\",\"width\":0.5},\"pattern\":{\"fillmode\":\"overlay\",\"size\":10,\"solidity\":0.2}},\"type\":\"barpolar\"}],\"pie\":[{\"automargin\":true,\"type\":\"pie\"}]},\"layout\":{\"autotypenumbers\":\"strict\",\"colorway\":[\"#636efa\",\"#EF553B\",\"#00cc96\",\"#ab63fa\",\"#FFA15A\",\"#19d3f3\",\"#FF6692\",\"#B6E880\",\"#FF97FF\",\"#FECB52\"],\"font\":{\"color\":\"#2a3f5f\"},\"hovermode\":\"closest\",\"hoverlabel\":{\"align\":\"left\"},\"paper_bgcolor\":\"white\",\"plot_bgcolor\":\"#E5ECF6\",\"polar\":{\"bgcolor\":\"#E5ECF6\",\"angularaxis\":{\"gridcolor\":\"white\",\"linecolor\":\"white\",\"ticks\":\"\"},\"radialaxis\":{\"gridcolor\":\"white\",\"linecolor\":\"white\",\"ticks\":\"\"}},\"ternary\":{\"bgcolor\":\"#E5ECF6\",\"aaxis\":{\"gridcolor\":\"white\",\"linecolor\":\"white\",\"ticks\":\"\"},\"baxis\":{\"gridcolor\":\"white\",\"linecolor\":\"white\",\"ticks\":\"\"},\"caxis\":{\"gridcolor\":\"white\",\"linecolor\":\"white\",\"ticks\":\"\"}},\"coloraxis\":{\"colorbar\":{\"outlinewidth\":0,\"ticks\":\"\"}},\"colorscale\":{\"sequential\":[[0.0,\"#0d0887\"],[0.1111111111111111,\"#46039f\"],[0.2222222222222222,\"#7201a8\"],[0.3333333333333333,\"#9c179e\"],[0.4444444444444444,\"#bd3786\"],[0.5555555555555556,\"#d8576b\"],[0.6666666666666666,\"#ed7953\"],[0.7777777777777778,\"#fb9f3a\"],[0.8888888888888888,\"#fdca26\"],[1.0,\"#f0f921\"]],\"sequentialminus\":[[0.0,\"#0d0887\"],[0.1111111111111111,\"#46039f\"],[0.2222222222222222,\"#7201a8\"],[0.3333333333333333,\"#9c179e\"],[0.4444444444444444,\"#bd3786\"],[0.5555555555555556,\"#d8576b\"],[0.6666666666666666,\"#ed7953\"],[0.7777777777777778,\"#fb9f3a\"],[0.8888888888888888,\"#fdca26\"],[1.0,\"#f0f921\"]],\"diverging\":[[0,\"#8e0152\"],[0.1,\"#c51b7d\"],[0.2,\"#de77ae\"],[0.3,\"#f1b6da\"],[0.4,\"#fde0ef\"],[0.5,\"#f7f7f7\"],[0.6,\"#e6f5d0\"],[0.7,\"#b8e186\"],[0.8,\"#7fbc41\"],[0.9,\"#4d9221\"],[1,\"#276419\"]]},\"xaxis\":{\"gridcolor\":\"white\",\"linecolor\":\"white\",\"ticks\":\"\",\"title\":{\"standoff\":15},\"zerolinecolor\":\"white\",\"automargin\":true,\"zerolinewidth\":2},\"yaxis\":{\"gridcolor\":\"white\",\"linecolor\":\"white\",\"ticks\":\"\",\"title\":{\"standoff\":15},\"zerolinecolor\":\"white\",\"automargin\":true,\"zerolinewidth\":2},\"scene\":{\"xaxis\":{\"backgroundcolor\":\"#E5ECF6\",\"gridcolor\":\"white\",\"linecolor\":\"white\",\"showbackground\":true,\"ticks\":\"\",\"zerolinecolor\":\"white\",\"gridwidth\":2},\"yaxis\":{\"backgroundcolor\":\"#E5ECF6\",\"gridcolor\":\"white\",\"linecolor\":\"white\",\"showbackground\":true,\"ticks\":\"\",\"zerolinecolor\":\"white\",\"gridwidth\":2},\"zaxis\":{\"backgroundcolor\":\"#E5ECF6\",\"gridcolor\":\"white\",\"linecolor\":\"white\",\"showbackground\":true,\"ticks\":\"\",\"zerolinecolor\":\"white\",\"gridwidth\":2}},\"shapedefaults\":{\"line\":{\"color\":\"#2a3f5f\"}},\"annotationdefaults\":{\"arrowcolor\":\"#2a3f5f\",\"arrowhead\":0,\"arrowwidth\":1},\"geo\":{\"bgcolor\":\"white\",\"landcolor\":\"#E5ECF6\",\"subunitcolor\":\"white\",\"showland\":true,\"showlakes\":true,\"lakecolor\":\"white\"},\"title\":{\"x\":0.05},\"mapbox\":{\"style\":\"light\"}}},\"xaxis\":{\"anchor\":\"y\",\"domain\":[0.0,1.0],\"title\":{\"text\":\"Attendance\"},\"gridcolor\":\"lightgray\"},\"yaxis\":{\"anchor\":\"x\",\"domain\":[0.0,1.0],\"title\":{\"text\":\"Number of Months\"},\"gridcolor\":\"lightgray\"},\"legend\":{\"tracegroupgap\":0},\"title\":{\"text\":\"Relationship between Attendance and Number of Months\"},\"boxmode\":\"group\",\"showlegend\":false},                        {\"responsive\": true}                    ).then(function(){\n",
       "                            \n",
       "var gd = document.getElementById('3e1a0660-c434-4b70-a8bc-e003a8bf92e0');\n",
       "var x = new MutationObserver(function (mutations, observer) {{\n",
       "        var display = window.getComputedStyle(gd).display;\n",
       "        if (!display || display === 'none') {{\n",
       "            console.log([gd, 'removed!']);\n",
       "            Plotly.purge(gd);\n",
       "            observer.disconnect();\n",
       "        }}\n",
       "}});\n",
       "\n",
       "// Listen for the removal of the full notebook cells\n",
       "var notebookContainer = gd.closest('#notebook-container');\n",
       "if (notebookContainer) {{\n",
       "    x.observe(notebookContainer, {childList: true});\n",
       "}}\n",
       "\n",
       "// Listen for the clearing of the current output cell\n",
       "var outputEl = gd.closest('.output');\n",
       "if (outputEl) {{\n",
       "    x.observe(outputEl, {childList: true});\n",
       "}}\n",
       "\n",
       "                        })                };                });            </script>        </div>"
      ]
     },
     "metadata": {},
     "output_type": "display_data"
    }
   ],
   "source": [
    "fig = px.box(\n",
    "    df,\n",
    "    x='attended',\n",
    "    y='months_as_member',\n",
    "    orientation='v',\n",
    "    labels={'attended': 'Attendance', 'months_as_member': 'Number of Months'},\n",
    "    title='Relationship between Attendance and Number of Months'\n",
    ")\n",
    "\n",
    "fig.update_xaxes(gridcolor='lightgray')\n",
    "fig.update_yaxes(gridcolor='lightgray')\n",
    "fig.update_layout(showlegend=False)\n",
    "\n",
    "fig.show()"
   ]
  },
  {
   "cell_type": "code",
   "execution_count": 27,
   "id": "f7f9c5d7",
   "metadata": {
    "execution": {
     "iopub.execute_input": "2023-09-14T08:51:28.397956Z",
     "iopub.status.busy": "2023-09-14T08:51:28.397056Z",
     "iopub.status.idle": "2023-09-14T08:51:28.404572Z",
     "shell.execute_reply": "2023-09-14T08:51:28.403712Z"
    },
    "papermill": {
     "duration": 0.025557,
     "end_time": "2023-09-14T08:51:28.406602",
     "exception": false,
     "start_time": "2023-09-14T08:51:28.381045",
     "status": "completed"
    },
    "tags": []
   },
   "outputs": [],
   "source": [
    "Q1 = df['months_as_member'].quantile(0.25)\n",
    "Q3 = df['months_as_member'].quantile(0.75)\n",
    "IQR = Q3 - Q1\n",
    "lower_bound = Q1 - 1.5 * IQR\n",
    "upper_bound = Q3 + 1.5 * IQR\n"
   ]
  },
  {
   "cell_type": "code",
   "execution_count": 28,
   "id": "33fddc64",
   "metadata": {
    "execution": {
     "iopub.execute_input": "2023-09-14T08:51:28.437276Z",
     "iopub.status.busy": "2023-09-14T08:51:28.436988Z",
     "iopub.status.idle": "2023-09-14T08:51:28.497294Z",
     "shell.execute_reply": "2023-09-14T08:51:28.496412Z"
    },
    "papermill": {
     "duration": 0.077967,
     "end_time": "2023-09-14T08:51:28.499319",
     "exception": false,
     "start_time": "2023-09-14T08:51:28.421352",
     "status": "completed"
    },
    "tags": []
   },
   "outputs": [
    {
     "data": {
      "text/html": [
       "<div>                            <div id=\"1b5c5448-fd80-4595-94a0-428ba7ca27ca\" class=\"plotly-graph-div\" style=\"height:525px; width:100%;\"></div>            <script type=\"text/javascript\">                require([\"plotly\"], function(Plotly) {                    window.PLOTLYENV=window.PLOTLYENV || {};                                    if (document.getElementById(\"1b5c5448-fd80-4595-94a0-428ba7ca27ca\")) {                    Plotly.newPlot(                        \"1b5c5448-fd80-4595-94a0-428ba7ca27ca\",                        [{\"alignmentgroup\":\"True\",\"hovertemplate\":\"Attendance=%{x}\\u003cbr\\u003eNumber of Months=%{y}\\u003cextra\\u003e\\u003c\\u002fextra\\u003e\",\"legendgroup\":\"\",\"marker\":{\"color\":\"#636efa\"},\"name\":\"\",\"notched\":false,\"offsetgroup\":\"\",\"orientation\":\"v\",\"showlegend\":false,\"x\":[0,0,0,0,0,0,0,0,1,0,0,0,1,0,0,1,1,0,1,1,1,1,0,0,0,0,1,0,1,1,1,0,0,0,0,0,1,0,1,0,0,0,0,0,0,0,0,0,0,0,0,0,0,1,0,0,0,0,0,0,0,0,0,0,0,0,1,0,0,0,0,0,1,0,0,0,1,1,0,0,0,0,1,0,0,0,1,0,0,0,1,1,0,1,1,0,0,0,0,0,1,0,0,0,0,0,1,0,1,0,0,0,1,0,1,1,0,1,0,0,0,0,0,1,0,0,0,0,0,0,1,0,0,0,1,0,0,0,1,0,0,0,0,1,0,0,0,1,0,0,0,0,0,0,0,0,1,0,1,0,0,0,0,0,0,0,0,0,0,0,0,0,0,0,0,0,1,0,1,0,0,0,0,0,0,1,0,0,0,0,0,0,1,0,0,0,0,0,0,0,0,1,0,0,1,1,1,1,0,1,0,0,0,0,0,1,0,0,1,1,0,0,1,0,0,0,1,0,0,0,0,0,1,0,0,0,0,0,0,1,1,0,0,0,0,0,0,0,0,0,0,0,0,0,0,0,0,1,1,0,0,0,0,0,0,0,1,1,0,1,0,1,0,1,1,1,1,0,0,0,1,0,1,0,0,0,1,0,0,0,1,1,0,0,0,0,0,1,0,0,1,0,0,1,0,0,0,0,0,1,0,1,0,0,0,0,0,0,0,1,1,1,1,0,0,0,0,1,0,0,0,1,0,0,0,0,0,0,0,0,0,0,0,0,1,0,1,0,0,0,0,0,0,0,0,1,0,0,1,0,0,0,1,0,0,0,0,0,0,0,0,0,0,0,0,0,0,1,0,0,0,0,0,0,0,0,0,0,0,0,0,1,0,0,0,0,0,0,0,1,0,0,0,0,1,0,1,1,0,0,0,0,0,0,1,0,0,0,0,0,0,0,1,0,0,0,1,0,1,0,0,1,0,0,0,0,0,0,1,1,0,1,0,0,0,1,0,0,0,1,0,1,0,0,0,1,1,0,0,0,0,0,1,0,0,0,0,0,0,0,0,0,0,0,0,0,0,1,0,0,0,1,0,0,0,0,0,1,0,0,0,0,1,1,1,0,1,1,0,0,0,1,0,1,0,1,0,1,0,0,1,0,0,1,0,1,0,0,0,1,0,0,1,0,0,1,1,0,0,0,0,1,1,0,0,0,0,0,1,1,0,1,0,1,0,0,0,0,0,0,0,0,0,1,1,0,0,0,0,0,0,1,0,1,0,1,1,0,1,0,0,1,0,0,0,1,0,0,0,0,1,0,0,0,0,0,1,1,1,1,0,0,0,0,0,1,0,1,0,0,0,0,0,0,1,0,0,0,0,0,0,0,0,0,1,0,1,0,1,1,1,1,0,1,1,0,0,1,0,0,0,0,0,1,1,0,0,1,1,1,0,0,1,0,0,1,0,0,1,0,0,0,0,0,1,1,0,1,0,0,0,1,0,0,1,0,0,0,0,0,1,1,0,1,0,1,0,0,0,0,0,0,0,0,0,0,0,0,1,0,1,0,0,0,0,0,0,0,0,0,0,0,0,1,0,0,0,1,1,1,0,0,0,0,1,1,0,0,0,0,0,0,0,0,0,0,1,0,0,0,0,1,0,0,0,0,0,0,0,0,0,0,1,1,0,0,0,0,0,0,0,1,1,0,0,1,0,0,0,1,1,1,1,0,1,0,0,0,0,0,1,0,1,0,1,0,0,0,0,0,0,0,0,0,0,0,0,1,1,1,0,0,1,1,0,0,0,0,0,0,0,0,0,0,0,0,0,0,0,1,0,1,0,0,0,0,0,0,1,0,0,0,0,0,1,0,1,1,0,0,1,1,0,0,0,0,1,1,0,0,0,0,1,0,1,1,0,0,1,0,0,0,1,0,0,0,1,0,0,1,1,0,0,0,1,1,0,0,0,0,0,1,0,0,0,0,0,1,0,0,0,0,0,0,1,0,0,0,0,0,0,0,0,1,0,0,0,0,0,0,0,0,0,1,0,1,0,0,0,0,0,1,0,0,1,1,0,1,0,1,0,1,0,1,0,1,1,0,0,0,0,0,0,0,0,0,0,1,1,0,0,0,0,1,0,0,0,1,0,0,0,1,0,0,0,0,1,0,1,0,1,1,0,0,0,0,0,0,1,0,0,0,0,0,0,1,0,0,0,1,0,0,0,0,1,1,0,0,0,0,0,1,1,0,1,0,0,0,1,0,0,0,0,0,0,1,0,0,0,0,0,1,0,0,1,1,1,0,0,0,0,1,0,0,0,0,0,0,0,0,1,0,0,1,0,1,0,0,0,0,1,0,0,1,1,0,1,0,0,0,0,0,0,0,0,0,0,1,0,0,0,0,0,0,0,0,0,0,0,0,0,1,0,1,1,0,0,1,0,1,1,1,1,0,0,1,0,1,0,0,1,0,0,0,0,0,1,0,1,0,1,0,0,0,0,0,0,0,0,0,0,1,0,0,0,1,0,1,0,1,0,0,1,0,1,0,0,1,0,0,1,0,0,0,0,0,0,0,1,0,0,0,0,0,1,1,1,0,0,0,0,0,0,1,0,0,1,0,0,1,0,0,0,1,0,0,1,0,1,0,0,0,0,0,1,0,0,1,0,0,0,0,0,0,0,0,0,0,0,0,0,0,0,0,0,1,0,0,0,0,0,0,0,0,0,0,0,0,1,0,1,0,0,0,0,0,0,0,0,0,0,1,0,1,1,1,1,0,1,0,0,0,0,1,0,0,0,0,0,1,0,0,0,1,1,1,0,1,1,0,0,0,0,0,1,1,0,0,0,0,0,0,0,0,0,1,1,0,0,0,0,0,0,0,1,0,1,1,0,0,1,0,0,1,0,0,0,0,0,0,1,0,0,1,0,0,0,1,0,0,1,1,1,1,0,1,0,1,0,0,0,1,0,0,0,0,0,1,0,0,0,0,1,1,0,1,1,0,0,0,1,1,0,0,0,0,0,1,0,1,0,0,0,0,1,1,0,0,0,1,0,0,0,1,0,1,0,0,0,0,0,1,1,1,0,0,0,0,0,1,0,1,0,1,1,0,0,1,1,0,0,0,1,0,0,0,0,0,0,0,0,1,0,0,0,0,1],\"x0\":\" \",\"xaxis\":\"x\",\"y\":[17,10,16,5,15,7,11,9,23,7,13,16,16,8,9,9,22,6,33,10,24,14,2,12,8,2,12,26,28,27,8,8,1,6,3,6,24,8,27,7,5,14,7,9,6,5,21,17,10,18,8,19,12,19,17,3,12,19,16,8,6,9,10,2,20,11,8,9,2,17,11,8,28,34,20,5,12,14,11,10,11,6,25,9,8,17,20,14,32,3,27,10,5,20,7,6,4,9,7,14,11,9,5,12,8,21,14,11,34,8,12,14,27,10,18,13,26,35,6,15,3,15,3,28,8,5,11,9,11,9,24,10,13,5,21,11,15,4,20,24,2,5,15,29,8,18,3,16,7,21,21,3,3,12,11,9,18,7,30,9,6,8,11,13,25,32,3,11,12,8,23,5,6,8,8,34,13,5,14,17,8,11,15,8,12,22,9,6,15,10,6,10,35,10,19,16,10,9,16,8,12,21,13,3,27,17,20,21,13,20,12,23,12,10,18,8,16,8,17,29,10,9,10,7,16,7,34,9,12,12,7,4,8,8,3,7,6,8,5,25,20,15,16,8,13,6,12,4,4,7,4,3,13,6,25,20,7,17,26,3,21,9,12,14,8,26,24,13,10,22,9,26,5,11,34,20,13,6,4,7,11,9,9,12,10,13,13,7,13,18,13,23,5,5,11,15,20,12,14,20,14,14,6,17,12,11,5,18,10,15,19,16,19,11,14,13,7,6,13,27,23,20,19,8,5,10,11,18,16,18,6,18,3,7,9,20,5,5,7,8,4,4,14,2,13,6,14,7,9,10,4,14,12,7,14,13,6,8,29,11,5,10,7,21,8,4,7,8,6,13,26,20,17,7,19,8,15,35,8,10,8,15,10,6,15,13,7,21,9,6,8,14,11,10,5,13,20,15,11,21,13,11,7,5,18,6,29,19,11,5,17,29,6,6,16,14,6,9,10,3,5,12,12,6,9,5,26,17,5,5,21,8,7,10,8,9,15,5,22,13,24,26,20,9,20,18,9,10,14,10,7,20,10,5,9,25,17,4,10,7,7,11,27,9,17,14,20,11,7,14,5,5,8,8,15,14,6,5,8,6,7,24,25,10,19,20,9,19,7,6,5,7,12,32,33,7,21,22,13,28,10,14,8,10,7,33,11,12,6,11,21,11,9,17,7,28,9,30,8,14,4,33,32,10,3,15,18,9,9,13,6,17,24,33,6,6,13,11,20,11,5,26,8,33,12,16,7,15,9,14,7,5,6,9,13,12,10,19,13,6,6,19,12,23,9,16,21,7,9,14,8,12,11,3,6,20,4,15,9,14,11,5,16,17,11,10,22,16,15,20,34,19,6,16,7,19,8,28,14,6,15,5,33,8,19,19,6,18,5,13,21,12,8,12,29,22,21,22,20,12,13,29,6,29,9,5,19,21,2,12,9,13,14,29,24,12,3,19,14,25,6,3,23,17,9,12,19,15,10,4,8,5,10,6,15,7,3,24,12,8,4,22,27,6,23,6,3,31,12,6,11,12,11,20,6,17,4,13,16,13,7,8,17,9,18,10,11,15,20,25,22,7,7,6,5,20,8,8,8,7,12,14,13,24,10,5,7,7,21,14,13,20,5,11,11,16,16,6,25,6,2,18,13,8,10,15,18,23,7,18,9,12,10,13,4,11,9,13,10,17,15,12,22,25,6,10,19,5,4,7,19,18,22,14,22,25,6,10,28,17,22,7,21,2,18,7,11,6,3,14,23,4,14,25,12,14,10,6,10,12,15,5,10,7,12,8,16,9,19,7,15,20,8,22,7,16,12,9,5,9,6,12,7,6,4,10,15,8,15,5,13,22,5,9,4,4,16,13,21,20,6,2,10,18,13,1,13,23,17,5,27,7,6,13,20,6,19,23,7,6,11,11,13,19,5,32,11,17,27,9,4,9,23,8,8,5,7,19,4,31,24,7,8,9,20,12,13,22,4,11,11,17,12,12,10,8,4,33,9,32,21,14,11,10,13,15,11,5,18,7,23,6,5,7,7,8,8,14,12,14,4,17,5,17,31,16,9,5,8,19,12,13,7,2,29,13,9,14,30,24,22,26,9,28,19,28,12,4,28,11,8,11,8,9,4,9,6,18,14,6,4,13,7,10,8,11,6,22,17,3,12,20,11,11,11,8,24,8,10,14,30,16,25,11,5,15,5,16,27,7,11,14,3,8,6,27,6,13,5,34,13,6,11,14,16,12,21,2,7,5,18,20,27,5,13,15,10,15,8,9,6,7,11,12,15,9,6,13,19,2,17,12,25,15,15,11,16,7,15,7,10,12,5,20,3,7,30,15,11,13,16,7,5,11,18,14,8,7,9,14,15,9,3,16,30,7,6,19,5,13,14,15,8,15,17,31,19,29,26,13,25,25,10,9,5,15,11,9,22,15,6,18,7,25,30,8,5,16,16,4,20,19,33,6,7,10,15,12,8,15,12,9,9,12,6,8,11,22,19,13,15,8,18,8,17,33,5,17,13,5,19,30,10,5,12,11,14,16,12,6,10,5,16,27,10,11,23,12,13,8,29,16,3,7,4,5,15,3,25,12,6,11,4,21,17,25,17,10,13,16,5,18,21,8,9,15,27,23,15,33,12,4,8,22,23,9,31,20,15,23,5,11,3,13,25,10,19,13,5,14,10,7,23,5,6,8,15,17,4,8,13,17,7,7,19,22,24,10,7,7,31,10,19,6,12,17,14,14,33,8,19,21,5,16,10,7,1,4,12,12,12,20,6,16,29,15,8,13,14,4,4,8,12,24,6,8,11,12,9,12,21,6,5,15,4,24,14,9,16,8,3,6,19,11,9,19,20,10,9,15,4,4,3,9,5,20,18,13,13,10,9,9,12,8,18,12,11,16,9,6,25,5,6,21,14,6,10,11,6,10,10,8,15,9,18,8,8,18,3,7,19,11,16,23,7,24,16,18,9,26,10,21,11,7,32,11,7,34,7,17,6,22,19,22,5,7,25,4,19,7,9,18,6,11,9,14,13,20,8,13,11,8,5,10,10,17,22,7,12,18,22,17,9,35,11,6,12,4,13,13,12,25,27,16,4,13,7,22,13,14,8,26,10,12,12,22,16,21,21,8,3,12,19,10,15,11,7,6,8,18,9,15,21,29,9,34,20],\"y0\":\" \",\"yaxis\":\"y\",\"type\":\"box\"}],                        {\"template\":{\"data\":{\"histogram2dcontour\":[{\"type\":\"histogram2dcontour\",\"colorbar\":{\"outlinewidth\":0,\"ticks\":\"\"},\"colorscale\":[[0.0,\"#0d0887\"],[0.1111111111111111,\"#46039f\"],[0.2222222222222222,\"#7201a8\"],[0.3333333333333333,\"#9c179e\"],[0.4444444444444444,\"#bd3786\"],[0.5555555555555556,\"#d8576b\"],[0.6666666666666666,\"#ed7953\"],[0.7777777777777778,\"#fb9f3a\"],[0.8888888888888888,\"#fdca26\"],[1.0,\"#f0f921\"]]}],\"choropleth\":[{\"type\":\"choropleth\",\"colorbar\":{\"outlinewidth\":0,\"ticks\":\"\"}}],\"histogram2d\":[{\"type\":\"histogram2d\",\"colorbar\":{\"outlinewidth\":0,\"ticks\":\"\"},\"colorscale\":[[0.0,\"#0d0887\"],[0.1111111111111111,\"#46039f\"],[0.2222222222222222,\"#7201a8\"],[0.3333333333333333,\"#9c179e\"],[0.4444444444444444,\"#bd3786\"],[0.5555555555555556,\"#d8576b\"],[0.6666666666666666,\"#ed7953\"],[0.7777777777777778,\"#fb9f3a\"],[0.8888888888888888,\"#fdca26\"],[1.0,\"#f0f921\"]]}],\"heatmap\":[{\"type\":\"heatmap\",\"colorbar\":{\"outlinewidth\":0,\"ticks\":\"\"},\"colorscale\":[[0.0,\"#0d0887\"],[0.1111111111111111,\"#46039f\"],[0.2222222222222222,\"#7201a8\"],[0.3333333333333333,\"#9c179e\"],[0.4444444444444444,\"#bd3786\"],[0.5555555555555556,\"#d8576b\"],[0.6666666666666666,\"#ed7953\"],[0.7777777777777778,\"#fb9f3a\"],[0.8888888888888888,\"#fdca26\"],[1.0,\"#f0f921\"]]}],\"heatmapgl\":[{\"type\":\"heatmapgl\",\"colorbar\":{\"outlinewidth\":0,\"ticks\":\"\"},\"colorscale\":[[0.0,\"#0d0887\"],[0.1111111111111111,\"#46039f\"],[0.2222222222222222,\"#7201a8\"],[0.3333333333333333,\"#9c179e\"],[0.4444444444444444,\"#bd3786\"],[0.5555555555555556,\"#d8576b\"],[0.6666666666666666,\"#ed7953\"],[0.7777777777777778,\"#fb9f3a\"],[0.8888888888888888,\"#fdca26\"],[1.0,\"#f0f921\"]]}],\"contourcarpet\":[{\"type\":\"contourcarpet\",\"colorbar\":{\"outlinewidth\":0,\"ticks\":\"\"}}],\"contour\":[{\"type\":\"contour\",\"colorbar\":{\"outlinewidth\":0,\"ticks\":\"\"},\"colorscale\":[[0.0,\"#0d0887\"],[0.1111111111111111,\"#46039f\"],[0.2222222222222222,\"#7201a8\"],[0.3333333333333333,\"#9c179e\"],[0.4444444444444444,\"#bd3786\"],[0.5555555555555556,\"#d8576b\"],[0.6666666666666666,\"#ed7953\"],[0.7777777777777778,\"#fb9f3a\"],[0.8888888888888888,\"#fdca26\"],[1.0,\"#f0f921\"]]}],\"surface\":[{\"type\":\"surface\",\"colorbar\":{\"outlinewidth\":0,\"ticks\":\"\"},\"colorscale\":[[0.0,\"#0d0887\"],[0.1111111111111111,\"#46039f\"],[0.2222222222222222,\"#7201a8\"],[0.3333333333333333,\"#9c179e\"],[0.4444444444444444,\"#bd3786\"],[0.5555555555555556,\"#d8576b\"],[0.6666666666666666,\"#ed7953\"],[0.7777777777777778,\"#fb9f3a\"],[0.8888888888888888,\"#fdca26\"],[1.0,\"#f0f921\"]]}],\"mesh3d\":[{\"type\":\"mesh3d\",\"colorbar\":{\"outlinewidth\":0,\"ticks\":\"\"}}],\"scatter\":[{\"fillpattern\":{\"fillmode\":\"overlay\",\"size\":10,\"solidity\":0.2},\"type\":\"scatter\"}],\"parcoords\":[{\"type\":\"parcoords\",\"line\":{\"colorbar\":{\"outlinewidth\":0,\"ticks\":\"\"}}}],\"scatterpolargl\":[{\"type\":\"scatterpolargl\",\"marker\":{\"colorbar\":{\"outlinewidth\":0,\"ticks\":\"\"}}}],\"bar\":[{\"error_x\":{\"color\":\"#2a3f5f\"},\"error_y\":{\"color\":\"#2a3f5f\"},\"marker\":{\"line\":{\"color\":\"#E5ECF6\",\"width\":0.5},\"pattern\":{\"fillmode\":\"overlay\",\"size\":10,\"solidity\":0.2}},\"type\":\"bar\"}],\"scattergeo\":[{\"type\":\"scattergeo\",\"marker\":{\"colorbar\":{\"outlinewidth\":0,\"ticks\":\"\"}}}],\"scatterpolar\":[{\"type\":\"scatterpolar\",\"marker\":{\"colorbar\":{\"outlinewidth\":0,\"ticks\":\"\"}}}],\"histogram\":[{\"marker\":{\"pattern\":{\"fillmode\":\"overlay\",\"size\":10,\"solidity\":0.2}},\"type\":\"histogram\"}],\"scattergl\":[{\"type\":\"scattergl\",\"marker\":{\"colorbar\":{\"outlinewidth\":0,\"ticks\":\"\"}}}],\"scatter3d\":[{\"type\":\"scatter3d\",\"line\":{\"colorbar\":{\"outlinewidth\":0,\"ticks\":\"\"}},\"marker\":{\"colorbar\":{\"outlinewidth\":0,\"ticks\":\"\"}}}],\"scattermapbox\":[{\"type\":\"scattermapbox\",\"marker\":{\"colorbar\":{\"outlinewidth\":0,\"ticks\":\"\"}}}],\"scatterternary\":[{\"type\":\"scatterternary\",\"marker\":{\"colorbar\":{\"outlinewidth\":0,\"ticks\":\"\"}}}],\"scattercarpet\":[{\"type\":\"scattercarpet\",\"marker\":{\"colorbar\":{\"outlinewidth\":0,\"ticks\":\"\"}}}],\"carpet\":[{\"aaxis\":{\"endlinecolor\":\"#2a3f5f\",\"gridcolor\":\"white\",\"linecolor\":\"white\",\"minorgridcolor\":\"white\",\"startlinecolor\":\"#2a3f5f\"},\"baxis\":{\"endlinecolor\":\"#2a3f5f\",\"gridcolor\":\"white\",\"linecolor\":\"white\",\"minorgridcolor\":\"white\",\"startlinecolor\":\"#2a3f5f\"},\"type\":\"carpet\"}],\"table\":[{\"cells\":{\"fill\":{\"color\":\"#EBF0F8\"},\"line\":{\"color\":\"white\"}},\"header\":{\"fill\":{\"color\":\"#C8D4E3\"},\"line\":{\"color\":\"white\"}},\"type\":\"table\"}],\"barpolar\":[{\"marker\":{\"line\":{\"color\":\"#E5ECF6\",\"width\":0.5},\"pattern\":{\"fillmode\":\"overlay\",\"size\":10,\"solidity\":0.2}},\"type\":\"barpolar\"}],\"pie\":[{\"automargin\":true,\"type\":\"pie\"}]},\"layout\":{\"autotypenumbers\":\"strict\",\"colorway\":[\"#636efa\",\"#EF553B\",\"#00cc96\",\"#ab63fa\",\"#FFA15A\",\"#19d3f3\",\"#FF6692\",\"#B6E880\",\"#FF97FF\",\"#FECB52\"],\"font\":{\"color\":\"#2a3f5f\"},\"hovermode\":\"closest\",\"hoverlabel\":{\"align\":\"left\"},\"paper_bgcolor\":\"white\",\"plot_bgcolor\":\"#E5ECF6\",\"polar\":{\"bgcolor\":\"#E5ECF6\",\"angularaxis\":{\"gridcolor\":\"white\",\"linecolor\":\"white\",\"ticks\":\"\"},\"radialaxis\":{\"gridcolor\":\"white\",\"linecolor\":\"white\",\"ticks\":\"\"}},\"ternary\":{\"bgcolor\":\"#E5ECF6\",\"aaxis\":{\"gridcolor\":\"white\",\"linecolor\":\"white\",\"ticks\":\"\"},\"baxis\":{\"gridcolor\":\"white\",\"linecolor\":\"white\",\"ticks\":\"\"},\"caxis\":{\"gridcolor\":\"white\",\"linecolor\":\"white\",\"ticks\":\"\"}},\"coloraxis\":{\"colorbar\":{\"outlinewidth\":0,\"ticks\":\"\"}},\"colorscale\":{\"sequential\":[[0.0,\"#0d0887\"],[0.1111111111111111,\"#46039f\"],[0.2222222222222222,\"#7201a8\"],[0.3333333333333333,\"#9c179e\"],[0.4444444444444444,\"#bd3786\"],[0.5555555555555556,\"#d8576b\"],[0.6666666666666666,\"#ed7953\"],[0.7777777777777778,\"#fb9f3a\"],[0.8888888888888888,\"#fdca26\"],[1.0,\"#f0f921\"]],\"sequentialminus\":[[0.0,\"#0d0887\"],[0.1111111111111111,\"#46039f\"],[0.2222222222222222,\"#7201a8\"],[0.3333333333333333,\"#9c179e\"],[0.4444444444444444,\"#bd3786\"],[0.5555555555555556,\"#d8576b\"],[0.6666666666666666,\"#ed7953\"],[0.7777777777777778,\"#fb9f3a\"],[0.8888888888888888,\"#fdca26\"],[1.0,\"#f0f921\"]],\"diverging\":[[0,\"#8e0152\"],[0.1,\"#c51b7d\"],[0.2,\"#de77ae\"],[0.3,\"#f1b6da\"],[0.4,\"#fde0ef\"],[0.5,\"#f7f7f7\"],[0.6,\"#e6f5d0\"],[0.7,\"#b8e186\"],[0.8,\"#7fbc41\"],[0.9,\"#4d9221\"],[1,\"#276419\"]]},\"xaxis\":{\"gridcolor\":\"white\",\"linecolor\":\"white\",\"ticks\":\"\",\"title\":{\"standoff\":15},\"zerolinecolor\":\"white\",\"automargin\":true,\"zerolinewidth\":2},\"yaxis\":{\"gridcolor\":\"white\",\"linecolor\":\"white\",\"ticks\":\"\",\"title\":{\"standoff\":15},\"zerolinecolor\":\"white\",\"automargin\":true,\"zerolinewidth\":2},\"scene\":{\"xaxis\":{\"backgroundcolor\":\"#E5ECF6\",\"gridcolor\":\"white\",\"linecolor\":\"white\",\"showbackground\":true,\"ticks\":\"\",\"zerolinecolor\":\"white\",\"gridwidth\":2},\"yaxis\":{\"backgroundcolor\":\"#E5ECF6\",\"gridcolor\":\"white\",\"linecolor\":\"white\",\"showbackground\":true,\"ticks\":\"\",\"zerolinecolor\":\"white\",\"gridwidth\":2},\"zaxis\":{\"backgroundcolor\":\"#E5ECF6\",\"gridcolor\":\"white\",\"linecolor\":\"white\",\"showbackground\":true,\"ticks\":\"\",\"zerolinecolor\":\"white\",\"gridwidth\":2}},\"shapedefaults\":{\"line\":{\"color\":\"#2a3f5f\"}},\"annotationdefaults\":{\"arrowcolor\":\"#2a3f5f\",\"arrowhead\":0,\"arrowwidth\":1},\"geo\":{\"bgcolor\":\"white\",\"landcolor\":\"#E5ECF6\",\"subunitcolor\":\"white\",\"showland\":true,\"showlakes\":true,\"lakecolor\":\"white\"},\"title\":{\"x\":0.05},\"mapbox\":{\"style\":\"light\"}}},\"xaxis\":{\"anchor\":\"y\",\"domain\":[0.0,1.0],\"title\":{\"text\":\"Attendance\"},\"gridcolor\":\"lightgray\"},\"yaxis\":{\"anchor\":\"x\",\"domain\":[0.0,1.0],\"title\":{\"text\":\"Number of Months\"},\"gridcolor\":\"lightgray\"},\"legend\":{\"tracegroupgap\":0},\"title\":{\"text\":\"Relationship between Attendance and Number of Months (Without Outliers)\"},\"boxmode\":\"group\",\"showlegend\":false},                        {\"responsive\": true}                    ).then(function(){\n",
       "                            \n",
       "var gd = document.getElementById('1b5c5448-fd80-4595-94a0-428ba7ca27ca');\n",
       "var x = new MutationObserver(function (mutations, observer) {{\n",
       "        var display = window.getComputedStyle(gd).display;\n",
       "        if (!display || display === 'none') {{\n",
       "            console.log([gd, 'removed!']);\n",
       "            Plotly.purge(gd);\n",
       "            observer.disconnect();\n",
       "        }}\n",
       "}});\n",
       "\n",
       "// Listen for the removal of the full notebook cells\n",
       "var notebookContainer = gd.closest('#notebook-container');\n",
       "if (notebookContainer) {{\n",
       "    x.observe(notebookContainer, {childList: true});\n",
       "}}\n",
       "\n",
       "// Listen for the clearing of the current output cell\n",
       "var outputEl = gd.closest('.output');\n",
       "if (outputEl) {{\n",
       "    x.observe(outputEl, {childList: true});\n",
       "}}\n",
       "\n",
       "                        })                };                });            </script>        </div>"
      ]
     },
     "metadata": {},
     "output_type": "display_data"
    }
   ],
   "source": [
    "\n",
    "df1 = df[(df['months_as_member'] >= lower_bound) & (df['months_as_member'] <= upper_bound)]\n",
    "\n",
    "fig = px.box(\n",
    "    df1,\n",
    "    x='attended',\n",
    "    y='months_as_member',\n",
    "    orientation='v',\n",
    "    labels={'attended': 'Attendance', 'months_as_member': 'Number of Months'},\n",
    "    title='Relationship between Attendance and Number of Months (Without Outliers)'\n",
    ")\n",
    "\n",
    "fig.update_xaxes(gridcolor='lightgray')\n",
    "fig.update_yaxes(gridcolor='lightgray')\n",
    "fig.update_layout(showlegend=False)\n",
    "\n",
    "fig.show()"
   ]
  },
  {
   "cell_type": "code",
   "execution_count": 29,
   "id": "cd018d92",
   "metadata": {
    "execution": {
     "iopub.execute_input": "2023-09-14T08:51:28.531645Z",
     "iopub.status.busy": "2023-09-14T08:51:28.530781Z",
     "iopub.status.idle": "2023-09-14T08:51:28.550148Z",
     "shell.execute_reply": "2023-09-14T08:51:28.549209Z"
    },
    "outputsMetadata": {
     "0": {
      "height": 316,
      "type": "dataFrame"
     }
    },
    "papermill": {
     "duration": 0.038159,
     "end_time": "2023-09-14T08:51:28.552545",
     "exception": false,
     "start_time": "2023-09-14T08:51:28.514386",
     "status": "completed"
    },
    "tags": []
   },
   "outputs": [
    {
     "data": {
      "text/html": [
       "<div>\n",
       "<style scoped>\n",
       "    .dataframe tbody tr th:only-of-type {\n",
       "        vertical-align: middle;\n",
       "    }\n",
       "\n",
       "    .dataframe tbody tr th {\n",
       "        vertical-align: top;\n",
       "    }\n",
       "\n",
       "    .dataframe thead th {\n",
       "        text-align: right;\n",
       "    }\n",
       "</style>\n",
       "<table border=\"1\" class=\"dataframe\">\n",
       "  <thead>\n",
       "    <tr style=\"text-align: right;\">\n",
       "      <th></th>\n",
       "      <th>booking_id</th>\n",
       "      <th>months_as_member</th>\n",
       "      <th>weight</th>\n",
       "      <th>days_before</th>\n",
       "      <th>day_of_week</th>\n",
       "      <th>attended</th>\n",
       "      <th>category_Cycling</th>\n",
       "      <th>category_HIIT</th>\n",
       "      <th>category_Strength</th>\n",
       "      <th>category_Yoga</th>\n",
       "      <th>time_PM</th>\n",
       "    </tr>\n",
       "  </thead>\n",
       "  <tbody>\n",
       "    <tr>\n",
       "      <th>0</th>\n",
       "      <td>1</td>\n",
       "      <td>17</td>\n",
       "      <td>79.56</td>\n",
       "      <td>8</td>\n",
       "      <td>6</td>\n",
       "      <td>0</td>\n",
       "      <td>0</td>\n",
       "      <td>0</td>\n",
       "      <td>1</td>\n",
       "      <td>0</td>\n",
       "      <td>1</td>\n",
       "    </tr>\n",
       "    <tr>\n",
       "      <th>1</th>\n",
       "      <td>2</td>\n",
       "      <td>10</td>\n",
       "      <td>79.01</td>\n",
       "      <td>2</td>\n",
       "      <td>1</td>\n",
       "      <td>0</td>\n",
       "      <td>0</td>\n",
       "      <td>1</td>\n",
       "      <td>0</td>\n",
       "      <td>0</td>\n",
       "      <td>0</td>\n",
       "    </tr>\n",
       "    <tr>\n",
       "      <th>2</th>\n",
       "      <td>3</td>\n",
       "      <td>16</td>\n",
       "      <td>74.53</td>\n",
       "      <td>14</td>\n",
       "      <td>3</td>\n",
       "      <td>0</td>\n",
       "      <td>0</td>\n",
       "      <td>0</td>\n",
       "      <td>1</td>\n",
       "      <td>0</td>\n",
       "      <td>0</td>\n",
       "    </tr>\n",
       "    <tr>\n",
       "      <th>3</th>\n",
       "      <td>4</td>\n",
       "      <td>5</td>\n",
       "      <td>86.12</td>\n",
       "      <td>10</td>\n",
       "      <td>0</td>\n",
       "      <td>0</td>\n",
       "      <td>1</td>\n",
       "      <td>0</td>\n",
       "      <td>0</td>\n",
       "      <td>0</td>\n",
       "      <td>0</td>\n",
       "    </tr>\n",
       "    <tr>\n",
       "      <th>4</th>\n",
       "      <td>5</td>\n",
       "      <td>15</td>\n",
       "      <td>69.29</td>\n",
       "      <td>8</td>\n",
       "      <td>4</td>\n",
       "      <td>0</td>\n",
       "      <td>0</td>\n",
       "      <td>1</td>\n",
       "      <td>0</td>\n",
       "      <td>0</td>\n",
       "      <td>0</td>\n",
       "    </tr>\n",
       "    <tr>\n",
       "      <th>...</th>\n",
       "      <td>...</td>\n",
       "      <td>...</td>\n",
       "      <td>...</td>\n",
       "      <td>...</td>\n",
       "      <td>...</td>\n",
       "      <td>...</td>\n",
       "      <td>...</td>\n",
       "      <td>...</td>\n",
       "      <td>...</td>\n",
       "      <td>...</td>\n",
       "      <td>...</td>\n",
       "    </tr>\n",
       "    <tr>\n",
       "      <th>1495</th>\n",
       "      <td>1496</td>\n",
       "      <td>21</td>\n",
       "      <td>79.51</td>\n",
       "      <td>10</td>\n",
       "      <td>0</td>\n",
       "      <td>0</td>\n",
       "      <td>0</td>\n",
       "      <td>1</td>\n",
       "      <td>0</td>\n",
       "      <td>0</td>\n",
       "      <td>0</td>\n",
       "    </tr>\n",
       "    <tr>\n",
       "      <th>1496</th>\n",
       "      <td>1497</td>\n",
       "      <td>29</td>\n",
       "      <td>89.55</td>\n",
       "      <td>2</td>\n",
       "      <td>1</td>\n",
       "      <td>0</td>\n",
       "      <td>0</td>\n",
       "      <td>0</td>\n",
       "      <td>1</td>\n",
       "      <td>0</td>\n",
       "      <td>0</td>\n",
       "    </tr>\n",
       "    <tr>\n",
       "      <th>1497</th>\n",
       "      <td>1498</td>\n",
       "      <td>9</td>\n",
       "      <td>87.38</td>\n",
       "      <td>4</td>\n",
       "      <td>5</td>\n",
       "      <td>0</td>\n",
       "      <td>0</td>\n",
       "      <td>1</td>\n",
       "      <td>0</td>\n",
       "      <td>0</td>\n",
       "      <td>0</td>\n",
       "    </tr>\n",
       "    <tr>\n",
       "      <th>1498</th>\n",
       "      <td>1499</td>\n",
       "      <td>34</td>\n",
       "      <td>68.64</td>\n",
       "      <td>14</td>\n",
       "      <td>3</td>\n",
       "      <td>0</td>\n",
       "      <td>0</td>\n",
       "      <td>0</td>\n",
       "      <td>0</td>\n",
       "      <td>0</td>\n",
       "      <td>0</td>\n",
       "    </tr>\n",
       "    <tr>\n",
       "      <th>1499</th>\n",
       "      <td>1500</td>\n",
       "      <td>20</td>\n",
       "      <td>94.39</td>\n",
       "      <td>8</td>\n",
       "      <td>4</td>\n",
       "      <td>1</td>\n",
       "      <td>1</td>\n",
       "      <td>0</td>\n",
       "      <td>0</td>\n",
       "      <td>0</td>\n",
       "      <td>0</td>\n",
       "    </tr>\n",
       "  </tbody>\n",
       "</table>\n",
       "<p>1500 rows × 11 columns</p>\n",
       "</div>"
      ],
      "text/plain": [
       "      booking_id  months_as_member  weight  days_before  day_of_week  \\\n",
       "0              1                17   79.56            8            6   \n",
       "1              2                10   79.01            2            1   \n",
       "2              3                16   74.53           14            3   \n",
       "3              4                 5   86.12           10            0   \n",
       "4              5                15   69.29            8            4   \n",
       "...          ...               ...     ...          ...          ...   \n",
       "1495        1496                21   79.51           10            0   \n",
       "1496        1497                29   89.55            2            1   \n",
       "1497        1498                 9   87.38            4            5   \n",
       "1498        1499                34   68.64           14            3   \n",
       "1499        1500                20   94.39            8            4   \n",
       "\n",
       "      attended  category_Cycling  category_HIIT  category_Strength  \\\n",
       "0            0                 0              0                  1   \n",
       "1            0                 0              1                  0   \n",
       "2            0                 0              0                  1   \n",
       "3            0                 1              0                  0   \n",
       "4            0                 0              1                  0   \n",
       "...        ...               ...            ...                ...   \n",
       "1495         0                 0              1                  0   \n",
       "1496         0                 0              0                  1   \n",
       "1497         0                 0              1                  0   \n",
       "1498         0                 0              0                  0   \n",
       "1499         1                 1              0                  0   \n",
       "\n",
       "      category_Yoga  time_PM  \n",
       "0                 0        1  \n",
       "1                 0        0  \n",
       "2                 0        0  \n",
       "3                 0        0  \n",
       "4                 0        0  \n",
       "...             ...      ...  \n",
       "1495              0        0  \n",
       "1496              0        0  \n",
       "1497              0        0  \n",
       "1498              0        0  \n",
       "1499              0        0  \n",
       "\n",
       "[1500 rows x 11 columns]"
      ]
     },
     "execution_count": 29,
     "metadata": {},
     "output_type": "execute_result"
    }
   ],
   "source": [
    "df1 = pd.get_dummies(df, columns=['category', 'time'],drop_first=True)\n",
    "df1"
   ]
  },
  {
   "cell_type": "code",
   "execution_count": 30,
   "id": "9fb8af5b",
   "metadata": {
    "collapsed": false,
    "execution": {
     "iopub.execute_input": "2023-09-14T08:51:28.584754Z",
     "iopub.status.busy": "2023-09-14T08:51:28.584194Z",
     "iopub.status.idle": "2023-09-14T08:51:28.589338Z",
     "shell.execute_reply": "2023-09-14T08:51:28.588502Z"
    },
    "executionCancelledAt": null,
    "executionTime": 483,
    "jupyter": {
     "outputs_hidden": false,
     "source_hidden": false
    },
    "lastExecutedAt": 1693468744426,
    "lastScheduledRunId": null,
    "lastSuccessfullyExecutedCode": "# Copy all the predictor variables into X dataframe\nX = df1.drop('attended', axis=1)  #df1 is the dataframe post pre-processing\n# Copy target into the y dataframe. \ny = df1[['attended']]\n",
    "papermill": {
     "duration": 0.023107,
     "end_time": "2023-09-14T08:51:28.591273",
     "exception": false,
     "start_time": "2023-09-14T08:51:28.568166",
     "status": "completed"
    },
    "tags": []
   },
   "outputs": [],
   "source": [
    "X =df1.copy()\n",
    "y=X.pop('attended')\n"
   ]
  },
  {
   "cell_type": "code",
   "execution_count": 31,
   "id": "52f805b0",
   "metadata": {
    "execution": {
     "iopub.execute_input": "2023-09-14T08:51:28.623375Z",
     "iopub.status.busy": "2023-09-14T08:51:28.622639Z",
     "iopub.status.idle": "2023-09-14T08:51:28.754748Z",
     "shell.execute_reply": "2023-09-14T08:51:28.753808Z"
    },
    "papermill": {
     "duration": 0.150641,
     "end_time": "2023-09-14T08:51:28.757039",
     "exception": false,
     "start_time": "2023-09-14T08:51:28.606398",
     "status": "completed"
    },
    "tags": []
   },
   "outputs": [],
   "source": [
    "from sklearn.linear_model import LogisticRegression\n",
    "from sklearn.ensemble import RandomForestClassifier\n",
    "from sklearn.model_selection import train_test_split\n",
    "from sklearn.metrics import precision_score, recall_score, f1_score\n",
    "from sklearn import metrics"
   ]
  },
  {
   "cell_type": "code",
   "execution_count": 32,
   "id": "354b39f0",
   "metadata": {
    "execution": {
     "iopub.execute_input": "2023-09-14T08:51:28.790269Z",
     "iopub.status.busy": "2023-09-14T08:51:28.789978Z",
     "iopub.status.idle": "2023-09-14T08:51:28.796878Z",
     "shell.execute_reply": "2023-09-14T08:51:28.796035Z"
    },
    "papermill": {
     "duration": 0.025945,
     "end_time": "2023-09-14T08:51:28.798807",
     "exception": false,
     "start_time": "2023-09-14T08:51:28.772862",
     "status": "completed"
    },
    "tags": []
   },
   "outputs": [],
   "source": [
    "X_train, X_test, y_train, y_test = train_test_split(X, y, test_size=0.30 , random_state=1)"
   ]
  },
  {
   "cell_type": "code",
   "execution_count": 33,
   "id": "8f44d48a",
   "metadata": {
    "collapsed": false,
    "execution": {
     "iopub.execute_input": "2023-09-14T08:51:28.831004Z",
     "iopub.status.busy": "2023-09-14T08:51:28.830246Z",
     "iopub.status.idle": "2023-09-14T08:51:28.893458Z",
     "shell.execute_reply": "2023-09-14T08:51:28.892300Z"
    },
    "executionCancelledAt": 1693468744421,
    "jupyter": {
     "outputs_hidden": false,
     "source_hidden": false
    },
    "papermill": {
     "duration": 0.082297,
     "end_time": "2023-09-14T08:51:28.896481",
     "exception": false,
     "start_time": "2023-09-14T08:51:28.814184",
     "status": "completed"
    },
    "tags": []
   },
   "outputs": [
    {
     "data": {
      "text/html": [
       "<style>#sk-container-id-1 {color: black;background-color: white;}#sk-container-id-1 pre{padding: 0;}#sk-container-id-1 div.sk-toggleable {background-color: white;}#sk-container-id-1 label.sk-toggleable__label {cursor: pointer;display: block;width: 100%;margin-bottom: 0;padding: 0.3em;box-sizing: border-box;text-align: center;}#sk-container-id-1 label.sk-toggleable__label-arrow:before {content: \"▸\";float: left;margin-right: 0.25em;color: #696969;}#sk-container-id-1 label.sk-toggleable__label-arrow:hover:before {color: black;}#sk-container-id-1 div.sk-estimator:hover label.sk-toggleable__label-arrow:before {color: black;}#sk-container-id-1 div.sk-toggleable__content {max-height: 0;max-width: 0;overflow: hidden;text-align: left;background-color: #f0f8ff;}#sk-container-id-1 div.sk-toggleable__content pre {margin: 0.2em;color: black;border-radius: 0.25em;background-color: #f0f8ff;}#sk-container-id-1 input.sk-toggleable__control:checked~div.sk-toggleable__content {max-height: 200px;max-width: 100%;overflow: auto;}#sk-container-id-1 input.sk-toggleable__control:checked~label.sk-toggleable__label-arrow:before {content: \"▾\";}#sk-container-id-1 div.sk-estimator input.sk-toggleable__control:checked~label.sk-toggleable__label {background-color: #d4ebff;}#sk-container-id-1 div.sk-label input.sk-toggleable__control:checked~label.sk-toggleable__label {background-color: #d4ebff;}#sk-container-id-1 input.sk-hidden--visually {border: 0;clip: rect(1px 1px 1px 1px);clip: rect(1px, 1px, 1px, 1px);height: 1px;margin: -1px;overflow: hidden;padding: 0;position: absolute;width: 1px;}#sk-container-id-1 div.sk-estimator {font-family: monospace;background-color: #f0f8ff;border: 1px dotted black;border-radius: 0.25em;box-sizing: border-box;margin-bottom: 0.5em;}#sk-container-id-1 div.sk-estimator:hover {background-color: #d4ebff;}#sk-container-id-1 div.sk-parallel-item::after {content: \"\";width: 100%;border-bottom: 1px solid gray;flex-grow: 1;}#sk-container-id-1 div.sk-label:hover label.sk-toggleable__label {background-color: #d4ebff;}#sk-container-id-1 div.sk-serial::before {content: \"\";position: absolute;border-left: 1px solid gray;box-sizing: border-box;top: 0;bottom: 0;left: 50%;z-index: 0;}#sk-container-id-1 div.sk-serial {display: flex;flex-direction: column;align-items: center;background-color: white;padding-right: 0.2em;padding-left: 0.2em;position: relative;}#sk-container-id-1 div.sk-item {position: relative;z-index: 1;}#sk-container-id-1 div.sk-parallel {display: flex;align-items: stretch;justify-content: center;background-color: white;position: relative;}#sk-container-id-1 div.sk-item::before, #sk-container-id-1 div.sk-parallel-item::before {content: \"\";position: absolute;border-left: 1px solid gray;box-sizing: border-box;top: 0;bottom: 0;left: 50%;z-index: -1;}#sk-container-id-1 div.sk-parallel-item {display: flex;flex-direction: column;z-index: 1;position: relative;background-color: white;}#sk-container-id-1 div.sk-parallel-item:first-child::after {align-self: flex-end;width: 50%;}#sk-container-id-1 div.sk-parallel-item:last-child::after {align-self: flex-start;width: 50%;}#sk-container-id-1 div.sk-parallel-item:only-child::after {width: 0;}#sk-container-id-1 div.sk-dashed-wrapped {border: 1px dashed gray;margin: 0 0.4em 0.5em 0.4em;box-sizing: border-box;padding-bottom: 0.4em;background-color: white;}#sk-container-id-1 div.sk-label label {font-family: monospace;font-weight: bold;display: inline-block;line-height: 1.2em;}#sk-container-id-1 div.sk-label-container {text-align: center;}#sk-container-id-1 div.sk-container {/* jupyter's `normalize.less` sets `[hidden] { display: none; }` but bootstrap.min.css set `[hidden] { display: none !important; }` so we also need the `!important` here to be able to override the default hidden behavior on the sphinx rendered scikit-learn.org. See: https://github.com/scikit-learn/scikit-learn/issues/21755 */display: inline-block !important;position: relative;}#sk-container-id-1 div.sk-text-repr-fallback {display: none;}</style><div id=\"sk-container-id-1\" class=\"sk-top-container\"><div class=\"sk-text-repr-fallback\"><pre>LogisticRegression()</pre><b>In a Jupyter environment, please rerun this cell to show the HTML representation or trust the notebook. <br />On GitHub, the HTML representation is unable to render, please try loading this page with nbviewer.org.</b></div><div class=\"sk-container\" hidden><div class=\"sk-item\"><div class=\"sk-estimator sk-toggleable\"><input class=\"sk-toggleable__control sk-hidden--visually\" id=\"sk-estimator-id-1\" type=\"checkbox\" checked><label for=\"sk-estimator-id-1\" class=\"sk-toggleable__label sk-toggleable__label-arrow\">LogisticRegression</label><div class=\"sk-toggleable__content\"><pre>LogisticRegression()</pre></div></div></div></div></div>"
      ],
      "text/plain": [
       "LogisticRegression()"
      ]
     },
     "execution_count": 33,
     "metadata": {},
     "output_type": "execute_result"
    }
   ],
   "source": [
    "regression_model = LogisticRegression()\n",
    "regression_model.fit(X_train, y_train)"
   ]
  },
  {
   "cell_type": "code",
   "execution_count": 34,
   "id": "aee333df",
   "metadata": {
    "execution": {
     "iopub.execute_input": "2023-09-14T08:51:28.964525Z",
     "iopub.status.busy": "2023-09-14T08:51:28.964250Z",
     "iopub.status.idle": "2023-09-14T08:51:28.981286Z",
     "shell.execute_reply": "2023-09-14T08:51:28.980022Z"
    },
    "papermill": {
     "duration": 0.054874,
     "end_time": "2023-09-14T08:51:28.984671",
     "exception": false,
     "start_time": "2023-09-14T08:51:28.929797",
     "status": "completed"
    },
    "tags": []
   },
   "outputs": [
    {
     "name": "stdout",
     "output_type": "stream",
     "text": [
      "Mean Absolute Error (MAE): 0.2111111111111111\n",
      "Mean Squared Error (MSE): 0.2111111111111111\n",
      "Root Mean Squared Error (RMSE): 0.45946829173634074\n",
      "R-squared (R²): 0.014976958525345418\n",
      "Accuracy Score: 0.789\n"
     ]
    }
   ],
   "source": [
    "from sklearn.metrics import mean_absolute_error, mean_squared_error, r2_score,accuracy_score\n",
    "y_true = y_test\n",
    "y_pred = regression_model.predict(X_test) \n",
    "\n",
    "mae = mean_absolute_error(y_true, y_pred)\n",
    "mse = mean_squared_error(y_true, y_pred)\n",
    "rmse = np.sqrt(mse)\n",
    "r2 = r2_score(y_true, y_pred)\n",
    "accuracy = accuracy_score(y_test, y_pred)\n",
    "\n",
    "print(f\"Mean Absolute Error (MAE): {mae}\")\n",
    "print(f\"Mean Squared Error (MSE): {mse}\")\n",
    "print(f\"Root Mean Squared Error (RMSE): {rmse}\")\n",
    "print(f\"R-squared (R²): {r2}\")\n",
    "print(f\"Accuracy Score: {accuracy:.3f}\")\n"
   ]
  }
 ],
 "kernelspec": {
  "display_name": "Python 3",
  "language": "python",
  "name": "python3"
 },
 "language_info": {
  "codemirror_mode": {
   "name": "ipython",
   "version": 3
  },
  "file_extension": ".py",
  "mimetype": "text/x-python",
  "name": "python",
  "nbconvert_exporter": "python",
  "pygments_lexer": "ipython3",
  "version": "3.6.4"
 },
 "metadata": {
  "colab": {
   "name": "Welcome to DataCamp Workspaces.ipynb",
   "provenance": []
  },
  "kernelspec": {
   "display_name": "Python 3",
   "language": "python",
   "name": "python3"
  },
  "language_info": {
   "codemirror_mode": {
    "name": "ipython",
    "version": 3
   },
   "file_extension": ".py",
   "mimetype": "text/x-python",
   "name": "python",
   "nbconvert_exporter": "python",
   "pygments_lexer": "ipython3",
   "version": "3.10.12"
  },
  "papermill": {
   "default_parameters": {},
   "duration": 16.208729,
   "end_time": "2023-09-14T08:51:29.835488",
   "environment_variables": {},
   "exception": null,
   "input_path": "__notebook__.ipynb",
   "output_path": "__notebook__.ipynb",
   "parameters": {},
   "start_time": "2023-09-14T08:51:13.626759",
   "version": "2.4.0"
  }
 },
 "nbformat": 4,
 "nbformat_minor": 5
}
