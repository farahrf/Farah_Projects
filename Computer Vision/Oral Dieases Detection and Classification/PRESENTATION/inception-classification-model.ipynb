{
 "cells": [
  {
   "cell_type": "code",
   "execution_count": 1,
   "id": "77407540",
   "metadata": {
    "_cell_guid": "b1076dfc-b9ad-4769-8c92-a6c4dae69d19",
    "_uuid": "8f2839f25d086af736a60e9eeb907d3b93b6e0e5",
    "execution": {
     "iopub.execute_input": "2023-11-21T09:17:48.690817Z",
     "iopub.status.busy": "2023-11-21T09:17:48.690402Z",
     "iopub.status.idle": "2023-11-21T09:17:59.004391Z",
     "shell.execute_reply": "2023-11-21T09:17:59.003405Z"
    },
    "papermill": {
     "duration": 10.324132,
     "end_time": "2023-11-21T09:17:59.006950",
     "exception": false,
     "start_time": "2023-11-21T09:17:48.682818",
     "status": "completed"
    },
    "tags": []
   },
   "outputs": [],
   "source": [
    "# This Python 3 environment comes with many helpful analytics libraries installed\n",
    "# It is defined by the kaggle/python Docker image: https://github.com/kaggle/docker-python\n",
    "# For example, here's several helpful packages to load\n",
    "\n",
    "import numpy as np # linear algebra\n",
    "import pandas as pd # data processing, CSV file I/O (e.g. pd.read_csv)\n",
    "\n",
    "# Input data files are available in the read-only \"../input/\" directory\n",
    "# For example, running this (by clicking run or pressing Shift+Enter) will list all files under the input directory\n",
    "\n",
    "import os\n",
    "for dirname, _, filenames in os.walk('/kaggle/input'):\n",
    "    for filename in filenames:\n",
    "        (os.path.join(dirname, filename))\n",
    "\n",
    "# You can write up to 20GB to the current directory (/kaggle/working/) that gets preserved as output when you create a version using \"Save & Run All\" \n",
    "# You can also write temporary files to /kaggle/temp/, but they won't be saved outside of the current session"
   ]
  },
  {
   "cell_type": "code",
   "execution_count": 2,
   "id": "1b57d82b",
   "metadata": {
    "execution": {
     "iopub.execute_input": "2023-11-21T09:17:59.017184Z",
     "iopub.status.busy": "2023-11-21T09:17:59.016763Z",
     "iopub.status.idle": "2023-11-21T09:17:59.437066Z",
     "shell.execute_reply": "2023-11-21T09:17:59.435968Z"
    },
    "papermill": {
     "duration": 0.428076,
     "end_time": "2023-11-21T09:17:59.439694",
     "exception": false,
     "start_time": "2023-11-21T09:17:59.011618",
     "status": "completed"
    },
    "tags": []
   },
   "outputs": [],
   "source": [
    "import os\n",
    "import cv2\n",
    "import numpy as np"
   ]
  },
  {
   "cell_type": "code",
   "execution_count": 3,
   "id": "49b124e6",
   "metadata": {
    "execution": {
     "iopub.execute_input": "2023-11-21T09:17:59.449612Z",
     "iopub.status.busy": "2023-11-21T09:17:59.449337Z",
     "iopub.status.idle": "2023-11-21T09:19:38.622719Z",
     "shell.execute_reply": "2023-11-21T09:19:38.621830Z"
    },
    "papermill": {
     "duration": 99.181176,
     "end_time": "2023-11-21T09:19:38.625356",
     "exception": false,
     "start_time": "2023-11-21T09:17:59.444180",
     "status": "completed"
    },
    "tags": []
   },
   "outputs": [
    {
     "name": "stdout",
     "output_type": "stream",
     "text": [
      "Failed to load image: /kaggle/input/oral-diseases-images/oral diseases/Caries_Gingivitus_ToothDiscoloration_Ulcer-yolo_annotated-Dataset/Caries_Gingivitus_ToothDiscoloration_Ulcer-yolo_annotated-Dataset\n"
     ]
    }
   ],
   "source": [
    "dataset_dir = \"/kaggle/input/oral-diseases-images/oral diseases/\"\n",
    "images = []\n",
    "labels = []\n",
    "for label in os.listdir(dataset_dir):\n",
    "    label_path = os.path.join(dataset_dir, label)\n",
    "    if os.path.isdir(label_path):\n",
    "        for image_file in os.listdir(label_path):\n",
    "            image_path = os.path.join(label_path, image_file)\n",
    "\n",
    "            # Read the image using OpenCV\n",
    "            image = cv2.imread(image_path)\n",
    "            \n",
    "            # Check if the image was loaded successfully\n",
    "            if image is not None:\n",
    "                # Resize the image to a specific size\n",
    "                image = cv2.resize(image, (224, 224))\n",
    "            \n",
    "                # Append the image and its corresponding label to the lists\n",
    "                images.append(image)\n",
    "                labels.append(label)\n",
    "            else:\n",
    "                print(f\"Failed to load image: {image_path}\")"
   ]
  },
  {
   "cell_type": "code",
   "execution_count": 4,
   "id": "713d473c",
   "metadata": {
    "execution": {
     "iopub.execute_input": "2023-11-21T09:19:38.635695Z",
     "iopub.status.busy": "2023-11-21T09:19:38.635405Z",
     "iopub.status.idle": "2023-11-21T09:19:38.650833Z",
     "shell.execute_reply": "2023-11-21T09:19:38.649190Z"
    },
    "papermill": {
     "duration": 0.022673,
     "end_time": "2023-11-21T09:19:38.652877",
     "exception": false,
     "start_time": "2023-11-21T09:19:38.630204",
     "status": "completed"
    },
    "tags": []
   },
   "outputs": [
    {
     "data": {
      "text/plain": [
       "array(['Calculus', 'Caries', 'Gingivitis', 'Mouth Ulcer',\n",
       "       'Tooth Discoloration', 'hypodontia'], dtype='<U19')"
      ]
     },
     "execution_count": 4,
     "metadata": {},
     "output_type": "execute_result"
    }
   ],
   "source": [
    "unique_labels = np.unique(labels)\n",
    "unique_labels"
   ]
  },
  {
   "cell_type": "code",
   "execution_count": 5,
   "id": "c4af5732",
   "metadata": {
    "execution": {
     "iopub.execute_input": "2023-11-21T09:19:38.662909Z",
     "iopub.status.busy": "2023-11-21T09:19:38.662648Z",
     "iopub.status.idle": "2023-11-21T09:19:39.230423Z",
     "shell.execute_reply": "2023-11-21T09:19:39.229385Z"
    },
    "papermill": {
     "duration": 0.575447,
     "end_time": "2023-11-21T09:19:39.232927",
     "exception": false,
     "start_time": "2023-11-21T09:19:38.657480",
     "status": "completed"
    },
    "tags": []
   },
   "outputs": [],
   "source": [
    "data = list(zip(images, labels))\n",
    "\n",
    "# Shuffle the data while keeping image-label pairs intact\n",
    "np.random.shuffle(data)\n",
    "\n",
    "# Split the shuffled data back into separate arrays\n",
    "shuffled_images, shuffled_labels = zip(*data)\n",
    "\n",
    "# Convert them back to numpy arrays if needed\n",
    "shuffled_images = np.array(shuffled_images)\n",
    "shuffled_labels = np.array(shuffled_labels)"
   ]
  },
  {
   "cell_type": "code",
   "execution_count": 6,
   "id": "e4307c7e",
   "metadata": {
    "execution": {
     "iopub.execute_input": "2023-11-21T09:19:39.243500Z",
     "iopub.status.busy": "2023-11-21T09:19:39.243235Z",
     "iopub.status.idle": "2023-11-21T09:19:39.248085Z",
     "shell.execute_reply": "2023-11-21T09:19:39.247244Z"
    },
    "papermill": {
     "duration": 0.01222,
     "end_time": "2023-11-21T09:19:39.250019",
     "exception": false,
     "start_time": "2023-11-21T09:19:39.237799",
     "status": "completed"
    },
    "tags": []
   },
   "outputs": [],
   "source": [
    "validation_ratio = 0.2\n",
    "\n",
    "num_validation_samples = int(len(shuffled_images) * validation_ratio)\n",
    "\n",
    "train_images = shuffled_images[num_validation_samples:]\n",
    "train_labels = shuffled_labels[num_validation_samples:]\n",
    "\n",
    "validation_images = shuffled_images[:num_validation_samples]\n",
    "validation_labels = shuffled_labels[:num_validation_samples]"
   ]
  },
  {
   "cell_type": "code",
   "execution_count": 7,
   "id": "6b86bc32",
   "metadata": {
    "execution": {
     "iopub.execute_input": "2023-11-21T09:19:39.260217Z",
     "iopub.status.busy": "2023-11-21T09:19:39.259944Z",
     "iopub.status.idle": "2023-11-21T09:19:40.919055Z",
     "shell.execute_reply": "2023-11-21T09:19:40.918203Z"
    },
    "papermill": {
     "duration": 1.666788,
     "end_time": "2023-11-21T09:19:40.921437",
     "exception": false,
     "start_time": "2023-11-21T09:19:39.254649",
     "status": "completed"
    },
    "tags": []
   },
   "outputs": [
    {
     "name": "stderr",
     "output_type": "stream",
     "text": [
      "/opt/conda/lib/python3.10/site-packages/scipy/__init__.py:146: UserWarning: A NumPy version >=1.16.5 and <1.23.0 is required for this version of SciPy (detected version 1.23.5\n",
      "  warnings.warn(f\"A NumPy version >={np_minversion} and <{np_maxversion}\"\n"
     ]
    }
   ],
   "source": [
    "from sklearn.preprocessing import LabelEncoder\n",
    "\n",
    "label_encoder = LabelEncoder()\n",
    "train_labels = label_encoder.fit_transform(train_labels)\n",
    "validation_labels = label_encoder.transform(validation_labels)"
   ]
  },
  {
   "cell_type": "code",
   "execution_count": 8,
   "id": "ec9e2789",
   "metadata": {
    "execution": {
     "iopub.execute_input": "2023-11-21T09:19:40.932404Z",
     "iopub.status.busy": "2023-11-21T09:19:40.932088Z",
     "iopub.status.idle": "2023-11-21T09:19:56.480504Z",
     "shell.execute_reply": "2023-11-21T09:19:56.479047Z"
    },
    "papermill": {
     "duration": 15.556813,
     "end_time": "2023-11-21T09:19:56.483239",
     "exception": false,
     "start_time": "2023-11-21T09:19:40.926426",
     "status": "completed"
    },
    "tags": []
   },
   "outputs": [],
   "source": [
    "import tensorflow as tf\n",
    "#from tensorflow.keras.preprocessing.image import ImageDataGenerator\n",
    "\n",
    "from tensorflow.keras.applications import ResNet50\n",
    "from tensorflow.keras.applications import MobileNetV2\n",
    "from tensorflow.keras.applications.inception_v3 import InceptionV3\n",
    "from tensorflow.keras.applications import VGG16\n",
    "\n",
    "from tensorflow.keras.layers import Dense, GlobalAveragePooling2D\n",
    "from tensorflow.keras.models import Model\n",
    "from keras.layers import BatchNormalization\n",
    "from keras.layers import Dropout"
   ]
  },
  {
   "cell_type": "code",
   "execution_count": 9,
   "id": "9e12d966",
   "metadata": {
    "execution": {
     "iopub.execute_input": "2023-11-21T09:19:56.497997Z",
     "iopub.status.busy": "2023-11-21T09:19:56.497282Z",
     "iopub.status.idle": "2023-11-21T09:20:05.866187Z",
     "shell.execute_reply": "2023-11-21T09:20:05.865155Z"
    },
    "papermill": {
     "duration": 9.379072,
     "end_time": "2023-11-21T09:20:05.868575",
     "exception": false,
     "start_time": "2023-11-21T09:19:56.489503",
     "status": "completed"
    },
    "tags": []
   },
   "outputs": [
    {
     "name": "stdout",
     "output_type": "stream",
     "text": [
      "Downloading data from https://storage.googleapis.com/tensorflow/keras-applications/inception_v3/inception_v3_weights_tf_dim_ordering_tf_kernels_notop.h5\n",
      "87910968/87910968 [==============================] - 0s 0us/step\n"
     ]
    }
   ],
   "source": [
    "# Define list of image paths and labels as tuples\n",
    "base_model = InceptionV3(weights='imagenet', include_top=False)\n",
    "\n",
    "# Add custom classification layers\n",
    "x = base_model.output\n",
    "x = GlobalAveragePooling2D()(x)\n",
    "x = Dense(512, activation='relu')(x)\n",
    "predictions = Dense(6, activation='softmax')(x)  # Adjust 'num_classes' to your specific case\n",
    "\n",
    "model = Model(inputs=base_model.input, outputs=predictions)\n",
    "\n",
    "# Compile the model\n",
    "model.compile(optimizer='adam', loss='sparse_categorical_crossentropy', metrics=['accuracy'])\n"
   ]
  },
  {
   "cell_type": "code",
   "execution_count": 10,
   "id": "015c7749",
   "metadata": {
    "execution": {
     "iopub.execute_input": "2023-11-21T09:20:05.882020Z",
     "iopub.status.busy": "2023-11-21T09:20:05.881746Z",
     "iopub.status.idle": "2023-11-21T09:46:38.091349Z",
     "shell.execute_reply": "2023-11-21T09:46:38.090392Z"
    },
    "papermill": {
     "duration": 1592.218634,
     "end_time": "2023-11-21T09:46:38.093358",
     "exception": false,
     "start_time": "2023-11-21T09:20:05.874724",
     "status": "completed"
    },
    "tags": []
   },
   "outputs": [
    {
     "name": "stdout",
     "output_type": "stream",
     "text": [
      "Epoch 1/20\n",
      "616/616 [==============================] - 132s 122ms/step - loss: 0.8786 - accuracy: 0.6640\n",
      "Epoch 2/20\n",
      "616/616 [==============================] - 77s 125ms/step - loss: 0.5561 - accuracy: 0.7845\n",
      "Epoch 3/20\n",
      "616/616 [==============================] - 77s 125ms/step - loss: 0.4389 - accuracy: 0.8290\n",
      "Epoch 4/20\n",
      "616/616 [==============================] - 77s 125ms/step - loss: 0.3869 - accuracy: 0.8484\n",
      "Epoch 5/20\n",
      "616/616 [==============================] - 77s 125ms/step - loss: 0.3428 - accuracy: 0.8634\n",
      "Epoch 6/20\n",
      "616/616 [==============================] - 77s 125ms/step - loss: 0.3153 - accuracy: 0.8776\n",
      "Epoch 7/20\n",
      "616/616 [==============================] - 77s 125ms/step - loss: 0.2953 - accuracy: 0.8824\n",
      "Epoch 8/20\n",
      "616/616 [==============================] - 77s 124ms/step - loss: 0.2581 - accuracy: 0.8998\n",
      "Epoch 9/20\n",
      "616/616 [==============================] - 77s 124ms/step - loss: 0.2320 - accuracy: 0.9050\n",
      "Epoch 10/20\n",
      "616/616 [==============================] - 77s 124ms/step - loss: 0.2378 - accuracy: 0.9033\n",
      "Epoch 11/20\n",
      "616/616 [==============================] - 77s 125ms/step - loss: 0.2246 - accuracy: 0.9057\n",
      "Epoch 12/20\n",
      "616/616 [==============================] - 77s 125ms/step - loss: 0.2250 - accuracy: 0.9088\n",
      "Epoch 13/20\n",
      "616/616 [==============================] - 77s 124ms/step - loss: 0.1920 - accuracy: 0.9179\n",
      "Epoch 14/20\n",
      "616/616 [==============================] - 77s 124ms/step - loss: 0.1948 - accuracy: 0.9186\n",
      "Epoch 15/20\n",
      "616/616 [==============================] - 77s 124ms/step - loss: 0.1941 - accuracy: 0.9193\n",
      "Epoch 16/20\n",
      "616/616 [==============================] - 77s 124ms/step - loss: 0.1694 - accuracy: 0.9261\n",
      "Epoch 17/20\n",
      "616/616 [==============================] - 77s 124ms/step - loss: 0.1755 - accuracy: 0.9258\n",
      "Epoch 18/20\n",
      "616/616 [==============================] - 77s 124ms/step - loss: 0.1684 - accuracy: 0.9236\n",
      "Epoch 19/20\n",
      "616/616 [==============================] - 77s 124ms/step - loss: 0.1623 - accuracy: 0.9276\n",
      "Epoch 20/20\n",
      "616/616 [==============================] - 77s 124ms/step - loss: 0.1682 - accuracy: 0.9244\n"
     ]
    }
   ],
   "source": [
    "batch_size = 16\n",
    "steps_per_epoch = len(train_images) // batch_size\n",
    "\n",
    "# Define a GPU memory configuration\n",
    "gpu_options = tf.compat.v1.GPUOptions(allow_growth=True)\n",
    "config = tf.compat.v1.ConfigProto(gpu_options=gpu_options)\n",
    "tf.compat.v1.Session(config=config)\n",
    "\n",
    "history = model.fit(\n",
    "    train_images, train_labels,\n",
    "    steps_per_epoch=steps_per_epoch,\n",
    "    epochs=20,\n",
    ")"
   ]
  },
  {
   "cell_type": "code",
   "execution_count": 11,
   "id": "813b97e3",
   "metadata": {
    "execution": {
     "iopub.execute_input": "2023-11-21T09:46:40.031791Z",
     "iopub.status.busy": "2023-11-21T09:46:40.031071Z",
     "iopub.status.idle": "2023-11-21T09:46:41.201036Z",
     "shell.execute_reply": "2023-11-21T09:46:41.200185Z"
    },
    "papermill": {
     "duration": 2.171833,
     "end_time": "2023-11-21T09:46:41.203463",
     "exception": false,
     "start_time": "2023-11-21T09:46:39.031630",
     "status": "completed"
    },
    "tags": []
   },
   "outputs": [],
   "source": [
    "#save the model\n",
    "model.save('oral_diseases_model7.h5')"
   ]
  },
  {
   "cell_type": "code",
   "execution_count": 12,
   "id": "c42829d4",
   "metadata": {
    "execution": {
     "iopub.execute_input": "2023-11-21T09:46:43.191723Z",
     "iopub.status.busy": "2023-11-21T09:46:43.190950Z",
     "iopub.status.idle": "2023-11-21T09:46:51.912675Z",
     "shell.execute_reply": "2023-11-21T09:46:51.911821Z"
    },
    "papermill": {
     "duration": 9.750376,
     "end_time": "2023-11-21T09:46:51.914569",
     "exception": false,
     "start_time": "2023-11-21T09:46:42.164193",
     "status": "completed"
    },
    "tags": []
   },
   "outputs": [
    {
     "name": "stdout",
     "output_type": "stream",
     "text": [
      "77/77 [==============================] - 8s 61ms/step - loss: 0.2696 - accuracy: 0.8949\n",
      "Test Loss: 0.2696\n",
      "Test Accuracy: 0.8949\n"
     ]
    }
   ],
   "source": [
    "# Evaluate the model on the test set\n",
    "test_loss, test_accuracy = model.evaluate(validation_images, validation_labels)\n",
    "print(f\"Test Loss: {test_loss:.4f}\")\n",
    "print(f\"Test Accuracy: {test_accuracy:.4f}\")"
   ]
  },
  {
   "cell_type": "code",
   "execution_count": 13,
   "id": "5704a6cc",
   "metadata": {
    "execution": {
     "iopub.execute_input": "2023-11-21T09:46:53.862517Z",
     "iopub.status.busy": "2023-11-21T09:46:53.861770Z",
     "iopub.status.idle": "2023-11-21T09:46:56.180507Z",
     "shell.execute_reply": "2023-11-21T09:46:56.179365Z"
    },
    "papermill": {
     "duration": 3.318207,
     "end_time": "2023-11-21T09:46:56.182528",
     "exception": false,
     "start_time": "2023-11-21T09:46:52.864321",
     "status": "completed"
    },
    "tags": []
   },
   "outputs": [
    {
     "name": "stdout",
     "output_type": "stream",
     "text": [
      "1/1 [==============================] - 2s 2s/step\n",
      "Predicted labels: [2]\n",
      "Predicted labels: ['Gingivitis']\n"
     ]
    }
   ],
   "source": [
    "image_path='/kaggle/input/oral-diseases-images/oral diseases/Gingivitis/(1000).JPG'\n",
    "img = cv2.imread(image_path)\n",
    "if img is not None:\n",
    "    img = cv2.resize(img, (224, 224))\n",
    "    img = np.expand_dims(img, axis=0)  # Add a batch dimension\n",
    "else:\n",
    "    print(\"Failed to load the image:\", image_path)\n",
    "\n",
    "# Make predictions using the model\n",
    "if img is not None:\n",
    "    predictions = model.predict(img)\n",
    "    predicted_labels = np.argmax(predictions, axis=1)\n",
    "    print(\"Predicted labels:\", predicted_labels)\n",
    "    print(\"Predicted labels:\", unique_labels[predicted_labels])\n",
    "else:\n",
    "    print(\"Prediction not performed due to image loading error.\")"
   ]
  },
  {
   "cell_type": "code",
   "execution_count": 14,
   "id": "c1bfc66c",
   "metadata": {
    "execution": {
     "iopub.execute_input": "2023-11-21T09:46:58.151051Z",
     "iopub.status.busy": "2023-11-21T09:46:58.150720Z",
     "iopub.status.idle": "2023-11-21T09:47:04.188940Z",
     "shell.execute_reply": "2023-11-21T09:47:04.188011Z"
    },
    "papermill": {
     "duration": 7.042838,
     "end_time": "2023-11-21T09:47:04.191035",
     "exception": false,
     "start_time": "2023-11-21T09:46:57.148197",
     "status": "completed"
    },
    "tags": []
   },
   "outputs": [
    {
     "name": "stdout",
     "output_type": "stream",
     "text": [
      "77/77 [==============================] - 5s 61ms/step\n"
     ]
    }
   ],
   "source": [
    "from sklearn.metrics import confusion_matrix\n",
    "predicted=model.predict(validation_images)\n",
    "\n",
    "predicted_labels = np.argmax(predicted, axis=1)\n",
    "\n",
    "cm = confusion_matrix(validation_labels, predicted_labels)"
   ]
  },
  {
   "cell_type": "code",
   "execution_count": 15,
   "id": "997d87e7",
   "metadata": {
    "execution": {
     "iopub.execute_input": "2023-11-21T09:47:06.151905Z",
     "iopub.status.busy": "2023-11-21T09:47:06.150997Z",
     "iopub.status.idle": "2023-11-21T09:47:06.156319Z",
     "shell.execute_reply": "2023-11-21T09:47:06.155303Z"
    },
    "papermill": {
     "duration": 1.010888,
     "end_time": "2023-11-21T09:47:06.158903",
     "exception": false,
     "start_time": "2023-11-21T09:47:05.148015",
     "status": "completed"
    },
    "tags": []
   },
   "outputs": [
    {
     "name": "stdout",
     "output_type": "stream",
     "text": [
      "[[212   8  70   0   3   0]\n",
      " [  2 477   3   6   6   1]\n",
      " [ 78  14 338   1   6   8]\n",
      " [  0   7   0 586   4   1]\n",
      " [  4  19   0   7 350   1]\n",
      " [  2   5   1   2   0 242]]\n"
     ]
    }
   ],
   "source": [
    "print(cm)"
   ]
  },
  {
   "cell_type": "code",
   "execution_count": 16,
   "id": "dbf23a5a",
   "metadata": {
    "execution": {
     "iopub.execute_input": "2023-11-21T09:47:08.140564Z",
     "iopub.status.busy": "2023-11-21T09:47:08.139863Z",
     "iopub.status.idle": "2023-11-21T09:47:09.319324Z",
     "shell.execute_reply": "2023-11-21T09:47:09.318405Z"
    },
    "papermill": {
     "duration": 2.129694,
     "end_time": "2023-11-21T09:47:09.321375",
     "exception": false,
     "start_time": "2023-11-21T09:47:07.191681",
     "status": "completed"
    },
    "tags": []
   },
   "outputs": [
    {
     "data": {
      "image/png": "[encoded data removed]",
      "text/plain": [
       "<Figure size 800x600 with 2 Axes>"
      ]
     },
     "metadata": {},
     "output_type": "display_data"
    }
   ],
   "source": [
    "import matplotlib.pyplot as plt\n",
    "import seaborn as sns\n",
    "\n",
    "plt.figure(figsize=(8, 6))\n",
    "sns.heatmap(cm, annot=True, fmt='d', cmap='Blues', xticklabels=unique_labels, yticklabels=unique_labels)\n",
    "plt.xlabel('Predicted')\n",
    "plt.ylabel('True')\n",
    "plt.title('Confusion Matrix')\n",
    "plt.savefig('vgg_20epochs.png', format='png')\n",
    "plt.show()"
   ]
  }
 ],
 "metadata": {
  "kaggle": {
   "accelerator": "nvidiaTeslaT4",
   "dataSources": [
    {
     "datasetId": 3837432,
     "sourceId": 6647808,
     "sourceType": "datasetVersion"
    }
   ],
   "dockerImageVersionId": 30559,
   "isGpuEnabled": true,
   "isInternetEnabled": true,
   "language": "python",
   "sourceType": "notebook"
  },
  "kernelspec": {
   "display_name": "Python 3",
   "language": "python",
   "name": "python3"
  },
  "language_info": {
   "codemirror_mode": {
    "name": "ipython",
    "version": 3
   },
   "file_extension": ".py",
   "mimetype": "text/x-python",
   "name": "python",
   "nbconvert_exporter": "python",
   "pygments_lexer": "ipython3",
   "version": "3.10.12"
  },
  "papermill": {
   "default_parameters": {},
   "duration": 1769.673701,
   "end_time": "2023-11-21T09:47:13.572175",
   "environment_variables": {},
   "exception": null,
   "input_path": "__notebook__.ipynb",
   "output_path": "__notebook__.ipynb",
   "parameters": {},
   "start_time": "2023-11-21T09:17:43.898474",
   "version": "2.4.0"
  }
 },
 "nbformat": 4,
 "nbformat_minor": 5
}
