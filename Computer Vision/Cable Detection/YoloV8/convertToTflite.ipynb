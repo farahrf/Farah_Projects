{
 "cells": [
  {
   "cell_type": "code",
   "execution_count": 2,
   "metadata": {},
   "outputs": [
    {
     "name": "stderr",
     "output_type": "stream",
     "text": [
      "python: can't open file 'c:\\\\Users\\\\Farah Al Arbid\\\\Desktop\\\\Orange Internship\\\\bep cabling system\\\\Finished\\\\trials\\\\yolov8\\\\BEP cabels.v1i.yolov8\\\\export.py': [Errno 2] No such file or directory\n"
     ]
    }
   ],
   "source": [
    "!yolo export model=best.pt format=tflite"
   ]
  },
  {
   "cell_type": "code",
   "execution_count": 14,
   "metadata": {},
   "outputs": [
    {
     "name": "stderr",
     "output_type": "stream",
     "text": [
      "Ultralytics YOLOv8.0.196  Python-3.11.4 torch-2.1.1+cpu CPU (Intel Core(TM) i7-1065G7 1.30GHz)\n",
      "YOLOv8n-seg summary (fused): 195 layers, 3258259 parameters, 0 gradients, 12.0 GFLOPs\n",
      "\n",
      "\u001b[34m\u001b[1mPyTorch:\u001b[0m starting from 'best.pt' with input shape (1, 3, 640, 640) BCHW and output shape(s) ((1, 37, 8400), (1, 32, 160, 160)) (6.5 MB)\n",
      "\n",
      "\u001b[34m\u001b[1mTorchScript:\u001b[0m starting export with torch 2.1.1+cpu...\n",
      "\u001b[34m\u001b[1mTorchScript:\u001b[0m export success  3.5s, saved as 'best.torchscript' (12.9 MB)\n",
      "\n",
      "Export complete (6.8s)\n",
      "Results saved to \u001b[1mC:\\Users\\Farah Al Arbid\\Desktop\\Orange Internship\\bep cabling system\\Finished\\trials\\yolov8\\BEP cabels.v1i.yolov8\u001b[0m\n",
      "Predict:         yolo predict task=segment model=best.torchscript imgsz=640  \n",
      "Validate:        yolo val task=segment model=best.torchscript imgsz=640 data=/kaggle/input/bep-cables/data.yaml  \n",
      "Visualize:       https://netron.app\n",
      " Learn more at https://docs.ultralytics.com/modes/export\n"
     ]
    }
   ],
   "source": [
    "!yolo export model=best.pt format=torchscript"
   ]
  },
  {
   "cell_type": "code",
   "execution_count": 12,
   "metadata": {},
   "outputs": [],
   "source": [
    "import onnx\n",
    "\n",
    "onnx_model = onnx.load('best.onnx')"
   ]
  }
 ],
 "metadata": {
  "kernelspec": {
   "display_name": "Python 3",
   "language": "python",
   "name": "python3"
  },
  "language_info": {
   "codemirror_mode": {
    "name": "ipython",
    "version": 3
   },
   "file_extension": ".py",
   "mimetype": "text/x-python",
   "name": "python",
   "nbconvert_exporter": "python",
   "pygments_lexer": "ipython3",
   "version": "3.11.4"
  }
 },
 "nbformat": 4,
 "nbformat_minor": 2
}
