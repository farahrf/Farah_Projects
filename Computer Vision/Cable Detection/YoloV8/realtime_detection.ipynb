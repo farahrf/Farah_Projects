{
 "cells": [
  {
   "cell_type": "code",
   "execution_count": 1,
   "metadata": {},
   "outputs": [
    {
     "name": "stderr",
     "output_type": "stream",
     "text": [
      "\n",
      "0: 480x640 1 cabel, 273.2ms\n",
      "Speed: 16.2ms preprocess, 273.2ms inference, 15.6ms postprocess per image at shape (1, 3, 480, 640)\n",
      "\n"
     ]
    },
    {
     "name": "stdout",
     "output_type": "stream",
     "text": [
      "Confidence ---> 0.33\n",
      "Class name --> cable\n"
     ]
    },
    {
     "name": "stderr",
     "output_type": "stream",
     "text": [
      "0: 480x640 (no detections), 209.8ms\n",
      "Speed: 3.1ms preprocess, 209.8ms inference, 0.0ms postprocess per image at shape (1, 3, 480, 640)\n",
      "\n",
      "0: 480x640 (no detections), 183.4ms\n",
      "Speed: 0.0ms preprocess, 183.4ms inference, 0.0ms postprocess per image at shape (1, 3, 480, 640)\n",
      "\n",
      "0: 480x640 1 cabel, 179.9ms\n",
      "Speed: 0.0ms preprocess, 179.9ms inference, 2.2ms postprocess per image at shape (1, 3, 480, 640)\n",
      "\n"
     ]
    },
    {
     "name": "stdout",
     "output_type": "stream",
     "text": [
      "Confidence ---> 0.27\n",
      "Class name --> cable\n"
     ]
    },
    {
     "name": "stderr",
     "output_type": "stream",
     "text": [
      "0: 480x640 (no detections), 187.2ms\n",
      "Speed: 0.0ms preprocess, 187.2ms inference, 0.0ms postprocess per image at shape (1, 3, 480, 640)\n",
      "\n",
      "0: 480x640 (no detections), 199.7ms\n",
      "Speed: 0.0ms preprocess, 199.7ms inference, 0.0ms postprocess per image at shape (1, 3, 480, 640)\n",
      "\n",
      "0: 480x640 (no detections), 173.9ms\n",
      "Speed: 0.0ms preprocess, 173.9ms inference, 0.0ms postprocess per image at shape (1, 3, 480, 640)\n",
      "\n",
      "0: 480x640 (no detections), 207.0ms\n",
      "Speed: 0.0ms preprocess, 207.0ms inference, 0.0ms postprocess per image at shape (1, 3, 480, 640)\n",
      "\n",
      "0: 480x640 (no detections), 184.0ms\n",
      "Speed: 0.0ms preprocess, 184.0ms inference, 0.0ms postprocess per image at shape (1, 3, 480, 640)\n",
      "\n",
      "0: 480x640 2 cabels, 166.2ms\n",
      "Speed: 0.0ms preprocess, 166.2ms inference, 15.6ms postprocess per image at shape (1, 3, 480, 640)\n",
      "\n",
      "0: 480x640 (no detections), 175.1ms\n"
     ]
    },
    {
     "name": "stdout",
     "output_type": "stream",
     "text": [
      "Confidence ---> 0.31\n",
      "Class name --> cable\n",
      "Confidence ---> 0.28\n",
      "Class name --> cable\n"
     ]
    },
    {
     "name": "stderr",
     "output_type": "stream",
     "text": [
      "Speed: 0.0ms preprocess, 175.1ms inference, 0.0ms postprocess per image at shape (1, 3, 480, 640)\n",
      "\n",
      "0: 480x640 2 cabels, 232.2ms\n",
      "Speed: 0.0ms preprocess, 232.2ms inference, 2.1ms postprocess per image at shape (1, 3, 480, 640)\n",
      "\n",
      "0: 480x640 (no detections), 175.6ms\n"
     ]
    },
    {
     "name": "stdout",
     "output_type": "stream",
     "text": [
      "Confidence ---> 0.28\n",
      "Class name --> cable\n",
      "Confidence ---> 0.26\n",
      "Class name --> cable\n"
     ]
    },
    {
     "name": "stderr",
     "output_type": "stream",
     "text": [
      "Speed: 0.0ms preprocess, 175.6ms inference, 0.0ms postprocess per image at shape (1, 3, 480, 640)\n",
      "\n",
      "0: 480x640 1 cabel, 225.1ms\n",
      "Speed: 0.0ms preprocess, 225.1ms inference, 2.0ms postprocess per image at shape (1, 3, 480, 640)\n",
      "\n"
     ]
    },
    {
     "name": "stdout",
     "output_type": "stream",
     "text": [
      "Confidence ---> 0.28\n",
      "Class name --> cable\n"
     ]
    },
    {
     "name": "stderr",
     "output_type": "stream",
     "text": [
      "0: 480x640 (no detections), 198.8ms\n",
      "Speed: 0.0ms preprocess, 198.8ms inference, 0.0ms postprocess per image at shape (1, 3, 480, 640)\n",
      "\n",
      "0: 480x640 (no detections), 187.6ms\n",
      "Speed: 0.0ms preprocess, 187.6ms inference, 0.0ms postprocess per image at shape (1, 3, 480, 640)\n",
      "\n",
      "0: 480x640 (no detections), 171.4ms\n",
      "Speed: 3.1ms preprocess, 171.4ms inference, 0.0ms postprocess per image at shape (1, 3, 480, 640)\n",
      "\n",
      "0: 480x640 (no detections), 174.7ms\n",
      "Speed: 0.0ms preprocess, 174.7ms inference, 0.0ms postprocess per image at shape (1, 3, 480, 640)\n",
      "\n",
      "0: 480x640 (no detections), 174.0ms\n",
      "Speed: 0.0ms preprocess, 174.0ms inference, 0.0ms postprocess per image at shape (1, 3, 480, 640)\n",
      "\n",
      "0: 480x640 (no detections), 182.0ms\n",
      "Speed: 2.0ms preprocess, 182.0ms inference, 0.0ms postprocess per image at shape (1, 3, 480, 640)\n",
      "\n",
      "0: 480x640 (no detections), 186.3ms\n",
      "Speed: 0.0ms preprocess, 186.3ms inference, 0.0ms postprocess per image at shape (1, 3, 480, 640)\n",
      "\n",
      "0: 480x640 (no detections), 198.0ms\n",
      "Speed: 0.0ms preprocess, 198.0ms inference, 0.0ms postprocess per image at shape (1, 3, 480, 640)\n",
      "\n",
      "0: 480x640 (no detections), 185.4ms\n",
      "Speed: 4.5ms preprocess, 185.4ms inference, 0.0ms postprocess per image at shape (1, 3, 480, 640)\n",
      "\n",
      "0: 480x640 (no detections), 177.9ms\n",
      "Speed: 0.0ms preprocess, 177.9ms inference, 0.0ms postprocess per image at shape (1, 3, 480, 640)\n",
      "\n",
      "0: 480x640 (no detections), 207.2ms\n",
      "Speed: 0.0ms preprocess, 207.2ms inference, 0.0ms postprocess per image at shape (1, 3, 480, 640)\n",
      "\n",
      "0: 480x640 (no detections), 192.8ms\n",
      "Speed: 2.2ms preprocess, 192.8ms inference, 0.0ms postprocess per image at shape (1, 3, 480, 640)\n",
      "\n",
      "0: 480x640 (no detections), 199.9ms\n",
      "Speed: 2.0ms preprocess, 199.9ms inference, 0.0ms postprocess per image at shape (1, 3, 480, 640)\n",
      "\n",
      "0: 480x640 (no detections), 185.3ms\n",
      "Speed: 2.0ms preprocess, 185.3ms inference, 0.0ms postprocess per image at shape (1, 3, 480, 640)\n",
      "\n",
      "0: 480x640 (no detections), 163.5ms\n",
      "Speed: 3.2ms preprocess, 163.5ms inference, 15.3ms postprocess per image at shape (1, 3, 480, 640)\n",
      "\n",
      "0: 480x640 (no detections), 177.2ms\n",
      "Speed: 0.0ms preprocess, 177.2ms inference, 7.8ms postprocess per image at shape (1, 3, 480, 640)\n",
      "\n",
      "0: 480x640 (no detections), 171.4ms\n",
      "Speed: 3.0ms preprocess, 171.4ms inference, 0.0ms postprocess per image at shape (1, 3, 480, 640)\n",
      "\n",
      "0: 480x640 (no detections), 177.3ms\n",
      "Speed: 0.0ms preprocess, 177.3ms inference, 0.0ms postprocess per image at shape (1, 3, 480, 640)\n",
      "\n",
      "0: 480x640 (no detections), 182.3ms\n",
      "Speed: 0.0ms preprocess, 182.3ms inference, 0.0ms postprocess per image at shape (1, 3, 480, 640)\n",
      "\n",
      "0: 480x640 (no detections), 185.8ms\n",
      "Speed: 2.4ms preprocess, 185.8ms inference, 0.0ms postprocess per image at shape (1, 3, 480, 640)\n",
      "\n",
      "0: 480x640 (no detections), 166.5ms\n",
      "Speed: 0.0ms preprocess, 166.5ms inference, 0.0ms postprocess per image at shape (1, 3, 480, 640)\n",
      "\n",
      "0: 480x640 1 cabel, 191.6ms\n",
      "Speed: 0.0ms preprocess, 191.6ms inference, 5.1ms postprocess per image at shape (1, 3, 480, 640)\n",
      "\n",
      "0: 480x640 1 cabel, 176.0ms\n"
     ]
    },
    {
     "name": "stdout",
     "output_type": "stream",
     "text": [
      "Confidence ---> 0.31\n",
      "Class name --> cable\n",
      "Confidence ---> 0.32\n",
      "Class name --> cable\n"
     ]
    },
    {
     "name": "stderr",
     "output_type": "stream",
     "text": [
      "Speed: 0.0ms preprocess, 176.0ms inference, 0.0ms postprocess per image at shape (1, 3, 480, 640)\n",
      "\n",
      "0: 480x640 (no detections), 181.0ms\n",
      "Speed: 0.0ms preprocess, 181.0ms inference, 0.0ms postprocess per image at shape (1, 3, 480, 640)\n",
      "\n",
      "0: 480x640 2 cabels, 163.0ms\n",
      "Speed: 2.5ms preprocess, 163.0ms inference, 15.7ms postprocess per image at shape (1, 3, 480, 640)\n",
      "\n"
     ]
    },
    {
     "name": "stdout",
     "output_type": "stream",
     "text": [
      "Confidence ---> 0.29\n",
      "Class name --> cable\n",
      "Confidence ---> 0.28\n",
      "Class name --> cable\n"
     ]
    },
    {
     "name": "stderr",
     "output_type": "stream",
     "text": [
      "0: 480x640 1 cabel, 188.1ms\n",
      "Speed: 3.3ms preprocess, 188.1ms inference, 0.0ms postprocess per image at shape (1, 3, 480, 640)\n",
      "\n"
     ]
    },
    {
     "name": "stdout",
     "output_type": "stream",
     "text": [
      "Confidence ---> 0.34\n",
      "Class name --> cable\n"
     ]
    },
    {
     "name": "stderr",
     "output_type": "stream",
     "text": [
      "0: 480x640 (no detections), 183.0ms\n",
      "Speed: 4.5ms preprocess, 183.0ms inference, 0.0ms postprocess per image at shape (1, 3, 480, 640)\n",
      "\n",
      "0: 480x640 (no detections), 194.3ms\n",
      "Speed: 0.4ms preprocess, 194.3ms inference, 0.0ms postprocess per image at shape (1, 3, 480, 640)\n",
      "\n",
      "0: 480x640 (no detections), 181.5ms\n",
      "Speed: 3.0ms preprocess, 181.5ms inference, 0.0ms postprocess per image at shape (1, 3, 480, 640)\n",
      "\n",
      "0: 480x640 (no detections), 199.4ms\n",
      "Speed: 3.6ms preprocess, 199.4ms inference, 0.0ms postprocess per image at shape (1, 3, 480, 640)\n",
      "\n",
      "0: 480x640 (no detections), 192.0ms\n",
      "Speed: 0.0ms preprocess, 192.0ms inference, 5.5ms postprocess per image at shape (1, 3, 480, 640)\n",
      "\n",
      "0: 480x640 (no detections), 182.9ms\n",
      "Speed: 2.2ms preprocess, 182.9ms inference, 0.0ms postprocess per image at shape (1, 3, 480, 640)\n",
      "\n",
      "0: 480x640 1 cabel, 184.2ms\n",
      "Speed: 0.8ms preprocess, 184.2ms inference, 0.0ms postprocess per image at shape (1, 3, 480, 640)\n",
      "\n"
     ]
    },
    {
     "name": "stdout",
     "output_type": "stream",
     "text": [
      "Confidence ---> 0.72\n",
      "Class name --> cable\n"
     ]
    },
    {
     "name": "stderr",
     "output_type": "stream",
     "text": [
      "0: 480x640 (no detections), 171.6ms\n",
      "Speed: 0.5ms preprocess, 171.6ms inference, 0.0ms postprocess per image at shape (1, 3, 480, 640)\n",
      "\n",
      "0: 480x640 (no detections), 191.2ms\n",
      "Speed: 0.0ms preprocess, 191.2ms inference, 1.1ms postprocess per image at shape (1, 3, 480, 640)\n",
      "\n",
      "0: 480x640 (no detections), 193.0ms\n",
      "Speed: 0.0ms preprocess, 193.0ms inference, 2.0ms postprocess per image at shape (1, 3, 480, 640)\n",
      "\n",
      "0: 480x640 (no detections), 184.1ms\n",
      "Speed: 0.0ms preprocess, 184.1ms inference, 0.0ms postprocess per image at shape (1, 3, 480, 640)\n",
      "\n",
      "0: 480x640 (no detections), 177.5ms\n",
      "Speed: 0.0ms preprocess, 177.5ms inference, 0.0ms postprocess per image at shape (1, 3, 480, 640)\n",
      "\n",
      "0: 480x640 (no detections), 177.0ms\n",
      "Speed: 3.5ms preprocess, 177.0ms inference, 0.0ms postprocess per image at shape (1, 3, 480, 640)\n",
      "\n",
      "0: 480x640 (no detections), 166.6ms\n",
      "Speed: 3.5ms preprocess, 166.6ms inference, 18.0ms postprocess per image at shape (1, 3, 480, 640)\n",
      "\n",
      "0: 480x640 (no detections), 174.6ms\n",
      "Speed: 0.0ms preprocess, 174.6ms inference, 0.0ms postprocess per image at shape (1, 3, 480, 640)\n",
      "\n",
      "0: 480x640 1 cabel, 189.8ms\n",
      "Speed: 36.9ms preprocess, 189.8ms inference, 9.9ms postprocess per image at shape (1, 3, 480, 640)\n",
      "\n",
      "0: 480x640 1 cabel, 174.4ms\n"
     ]
    },
    {
     "name": "stdout",
     "output_type": "stream",
     "text": [
      "Confidence ---> 0.43\n",
      "Class name --> cable\n",
      "Confidence ---> 0.54\n",
      "Class name --> cable\n"
     ]
    },
    {
     "name": "stderr",
     "output_type": "stream",
     "text": [
      "Speed: 2.0ms preprocess, 174.4ms inference, 8.0ms postprocess per image at shape (1, 3, 480, 640)\n",
      "\n",
      "0: 480x640 (no detections), 197.3ms\n",
      "Speed: 0.0ms preprocess, 197.3ms inference, 0.0ms postprocess per image at shape (1, 3, 480, 640)\n",
      "\n",
      "0: 480x640 (no detections), 162.8ms\n",
      "Speed: 5.8ms preprocess, 162.8ms inference, 0.0ms postprocess per image at shape (1, 3, 480, 640)\n",
      "\n",
      "0: 480x640 (no detections), 176.6ms\n",
      "Speed: 0.0ms preprocess, 176.6ms inference, 0.0ms postprocess per image at shape (1, 3, 480, 640)\n",
      "\n",
      "0: 480x640 (no detections), 179.5ms\n",
      "Speed: 1.1ms preprocess, 179.5ms inference, 0.0ms postprocess per image at shape (1, 3, 480, 640)\n",
      "\n",
      "0: 480x640 (no detections), 184.5ms\n",
      "Speed: 0.0ms preprocess, 184.5ms inference, 0.0ms postprocess per image at shape (1, 3, 480, 640)\n",
      "\n",
      "0: 480x640 (no detections), 176.9ms\n",
      "Speed: 0.0ms preprocess, 176.9ms inference, 0.0ms postprocess per image at shape (1, 3, 480, 640)\n",
      "\n",
      "0: 480x640 (no detections), 195.4ms\n",
      "Speed: 0.0ms preprocess, 195.4ms inference, 0.0ms postprocess per image at shape (1, 3, 480, 640)\n",
      "\n",
      "0: 480x640 (no detections), 192.3ms\n",
      "Speed: 2.7ms preprocess, 192.3ms inference, 0.0ms postprocess per image at shape (1, 3, 480, 640)\n",
      "\n",
      "0: 480x640 (no detections), 178.4ms\n",
      "Speed: 1.4ms preprocess, 178.4ms inference, 0.0ms postprocess per image at shape (1, 3, 480, 640)\n",
      "\n",
      "0: 480x640 (no detections), 175.7ms\n",
      "Speed: 0.0ms preprocess, 175.7ms inference, 0.0ms postprocess per image at shape (1, 3, 480, 640)\n",
      "\n",
      "0: 480x640 (no detections), 180.2ms\n",
      "Speed: 0.0ms preprocess, 180.2ms inference, 0.0ms postprocess per image at shape (1, 3, 480, 640)\n",
      "\n",
      "0: 480x640 (no detections), 165.4ms\n",
      "Speed: 1.8ms preprocess, 165.4ms inference, 0.0ms postprocess per image at shape (1, 3, 480, 640)\n",
      "\n",
      "0: 480x640 (no detections), 173.3ms\n",
      "Speed: 0.0ms preprocess, 173.3ms inference, 0.0ms postprocess per image at shape (1, 3, 480, 640)\n",
      "\n",
      "0: 480x640 (no detections), 168.1ms\n",
      "Speed: 0.0ms preprocess, 168.1ms inference, 0.0ms postprocess per image at shape (1, 3, 480, 640)\n",
      "\n",
      "0: 480x640 (no detections), 176.8ms\n",
      "Speed: 2.7ms preprocess, 176.8ms inference, 0.0ms postprocess per image at shape (1, 3, 480, 640)\n",
      "\n",
      "0: 480x640 1 cabel, 169.2ms\n",
      "Speed: 0.0ms preprocess, 169.2ms inference, 0.0ms postprocess per image at shape (1, 3, 480, 640)\n",
      "\n",
      "0: 480x640 (no detections), 173.0ms\n"
     ]
    },
    {
     "name": "stdout",
     "output_type": "stream",
     "text": [
      "Confidence ---> 0.3\n",
      "Class name --> cable\n"
     ]
    },
    {
     "name": "stderr",
     "output_type": "stream",
     "text": [
      "Speed: 2.5ms preprocess, 173.0ms inference, 2.6ms postprocess per image at shape (1, 3, 480, 640)\n",
      "\n",
      "0: 480x640 (no detections), 182.4ms\n",
      "Speed: 4.0ms preprocess, 182.4ms inference, 0.0ms postprocess per image at shape (1, 3, 480, 640)\n",
      "\n",
      "0: 480x640 (no detections), 161.3ms\n",
      "Speed: 0.0ms preprocess, 161.3ms inference, 0.0ms postprocess per image at shape (1, 3, 480, 640)\n",
      "\n",
      "0: 480x640 (no detections), 175.8ms\n",
      "Speed: 0.5ms preprocess, 175.8ms inference, 0.0ms postprocess per image at shape (1, 3, 480, 640)\n",
      "\n",
      "0: 480x640 (no detections), 182.9ms\n",
      "Speed: 0.0ms preprocess, 182.9ms inference, 0.0ms postprocess per image at shape (1, 3, 480, 640)\n",
      "\n",
      "0: 480x640 (no detections), 228.7ms\n",
      "Speed: 0.0ms preprocess, 228.7ms inference, 0.0ms postprocess per image at shape (1, 3, 480, 640)\n",
      "\n",
      "0: 480x640 (no detections), 183.8ms\n",
      "Speed: 1.3ms preprocess, 183.8ms inference, 4.5ms postprocess per image at shape (1, 3, 480, 640)\n",
      "\n",
      "0: 480x640 (no detections), 193.7ms\n",
      "Speed: 0.0ms preprocess, 193.7ms inference, 0.0ms postprocess per image at shape (1, 3, 480, 640)\n",
      "\n",
      "0: 480x640 (no detections), 181.5ms\n",
      "Speed: 2.1ms preprocess, 181.5ms inference, 8.2ms postprocess per image at shape (1, 3, 480, 640)\n",
      "\n",
      "0: 480x640 (no detections), 188.5ms\n",
      "Speed: 2.5ms preprocess, 188.5ms inference, 0.0ms postprocess per image at shape (1, 3, 480, 640)\n",
      "\n",
      "0: 480x640 (no detections), 174.7ms\n",
      "Speed: 0.0ms preprocess, 174.7ms inference, 0.0ms postprocess per image at shape (1, 3, 480, 640)\n",
      "\n",
      "0: 480x640 (no detections), 173.0ms\n",
      "Speed: 4.7ms preprocess, 173.0ms inference, 0.0ms postprocess per image at shape (1, 3, 480, 640)\n",
      "\n",
      "0: 480x640 (no detections), 183.6ms\n",
      "Speed: 0.6ms preprocess, 183.6ms inference, 0.0ms postprocess per image at shape (1, 3, 480, 640)\n",
      "\n",
      "0: 480x640 1 cabel, 174.0ms\n",
      "Speed: 0.0ms preprocess, 174.0ms inference, 0.0ms postprocess per image at shape (1, 3, 480, 640)\n",
      "\n"
     ]
    },
    {
     "name": "stdout",
     "output_type": "stream",
     "text": [
      "Confidence ---> 0.29\n",
      "Class name --> cable\n"
     ]
    },
    {
     "name": "stderr",
     "output_type": "stream",
     "text": [
      "0: 480x640 1 cabel, 182.9ms\n",
      "Speed: 0.0ms preprocess, 182.9ms inference, 0.0ms postprocess per image at shape (1, 3, 480, 640)\n",
      "\n",
      "0: 480x640 (no detections), 181.9ms\n"
     ]
    },
    {
     "name": "stdout",
     "output_type": "stream",
     "text": [
      "Confidence ---> 0.29\n",
      "Class name --> cable\n"
     ]
    },
    {
     "name": "stderr",
     "output_type": "stream",
     "text": [
      "Speed: 1.6ms preprocess, 181.9ms inference, 0.0ms postprocess per image at shape (1, 3, 480, 640)\n",
      "\n",
      "0: 480x640 (no detections), 201.9ms\n",
      "Speed: 0.0ms preprocess, 201.9ms inference, 0.0ms postprocess per image at shape (1, 3, 480, 640)\n",
      "\n",
      "0: 480x640 (no detections), 178.4ms\n",
      "Speed: 0.0ms preprocess, 178.4ms inference, 7.6ms postprocess per image at shape (1, 3, 480, 640)\n",
      "\n",
      "0: 480x640 (no detections), 209.2ms\n",
      "Speed: 2.3ms preprocess, 209.2ms inference, 0.3ms postprocess per image at shape (1, 3, 480, 640)\n",
      "\n",
      "0: 480x640 (no detections), 182.2ms\n",
      "Speed: 0.0ms preprocess, 182.2ms inference, 0.0ms postprocess per image at shape (1, 3, 480, 640)\n",
      "\n",
      "0: 480x640 1 cabel, 190.4ms\n",
      "Speed: 0.0ms preprocess, 190.4ms inference, 0.0ms postprocess per image at shape (1, 3, 480, 640)\n",
      "\n"
     ]
    },
    {
     "name": "stdout",
     "output_type": "stream",
     "text": [
      "Confidence ---> 0.38\n",
      "Class name --> cable\n"
     ]
    },
    {
     "name": "stderr",
     "output_type": "stream",
     "text": [
      "0: 480x640 1 cabel, 199.5ms\n",
      "Speed: 5.0ms preprocess, 199.5ms inference, 9.1ms postprocess per image at shape (1, 3, 480, 640)\n",
      "\n"
     ]
    },
    {
     "name": "stdout",
     "output_type": "stream",
     "text": [
      "Confidence ---> 0.8\n",
      "Class name --> cable\n"
     ]
    },
    {
     "name": "stderr",
     "output_type": "stream",
     "text": [
      "0: 480x640 1 cabel, 212.6ms\n",
      "Speed: 3.0ms preprocess, 212.6ms inference, 0.0ms postprocess per image at shape (1, 3, 480, 640)\n",
      "\n",
      "0: 480x640 (no detections), 192.3ms\n"
     ]
    },
    {
     "name": "stdout",
     "output_type": "stream",
     "text": [
      "Confidence ---> 0.51\n",
      "Class name --> cable\n"
     ]
    },
    {
     "name": "stderr",
     "output_type": "stream",
     "text": [
      "Speed: 2.9ms preprocess, 192.3ms inference, 0.0ms postprocess per image at shape (1, 3, 480, 640)\n",
      "\n",
      "0: 480x640 (no detections), 244.1ms\n",
      "Speed: 1.1ms preprocess, 244.1ms inference, 0.0ms postprocess per image at shape (1, 3, 480, 640)\n",
      "\n",
      "0: 480x640 1 cabel, 203.7ms\n",
      "Speed: 6.8ms preprocess, 203.7ms inference, 8.1ms postprocess per image at shape (1, 3, 480, 640)\n",
      "\n",
      "0: 480x640 1 cabel, 179.1ms\n"
     ]
    },
    {
     "name": "stdout",
     "output_type": "stream",
     "text": [
      "Confidence ---> 0.63\n",
      "Class name --> cable\n",
      "Confidence ---> 0.62\n",
      "Class name --> cable\n"
     ]
    },
    {
     "name": "stderr",
     "output_type": "stream",
     "text": [
      "Speed: 2.5ms preprocess, 179.1ms inference, 8.1ms postprocess per image at shape (1, 3, 480, 640)\n",
      "\n",
      "0: 480x640 (no detections), 184.7ms\n",
      "Speed: 4.6ms preprocess, 184.7ms inference, 0.0ms postprocess per image at shape (1, 3, 480, 640)\n",
      "\n",
      "0: 480x640 1 cabel, 180.0ms\n",
      "Speed: 0.0ms preprocess, 180.0ms inference, 0.0ms postprocess per image at shape (1, 3, 480, 640)\n",
      "\n"
     ]
    },
    {
     "name": "stdout",
     "output_type": "stream",
     "text": [
      "Confidence ---> 0.61\n",
      "Class name --> cable\n"
     ]
    },
    {
     "name": "stderr",
     "output_type": "stream",
     "text": [
      "0: 480x640 1 cabel, 186.1ms\n",
      "Speed: 4.9ms preprocess, 186.1ms inference, 6.6ms postprocess per image at shape (1, 3, 480, 640)\n",
      "\n",
      "0: 480x640 1 cabel, 190.3ms\n"
     ]
    },
    {
     "name": "stdout",
     "output_type": "stream",
     "text": [
      "Confidence ---> 0.47\n",
      "Class name --> cable\n",
      "Confidence ---> 0.66\n",
      "Class name --> cable\n"
     ]
    },
    {
     "name": "stderr",
     "output_type": "stream",
     "text": [
      "Speed: 1.6ms preprocess, 190.3ms inference, 2.0ms postprocess per image at shape (1, 3, 480, 640)\n",
      "\n",
      "0: 480x640 1 cabel, 193.7ms\n",
      "Speed: 3.6ms preprocess, 193.7ms inference, 0.0ms postprocess per image at shape (1, 3, 480, 640)\n",
      "\n"
     ]
    },
    {
     "name": "stdout",
     "output_type": "stream",
     "text": [
      "Confidence ---> 0.69\n",
      "Class name --> cable\n"
     ]
    },
    {
     "name": "stderr",
     "output_type": "stream",
     "text": [
      "0: 480x640 1 cabel, 183.2ms\n",
      "Speed: 0.0ms preprocess, 183.2ms inference, 8.2ms postprocess per image at shape (1, 3, 480, 640)\n",
      "\n"
     ]
    },
    {
     "name": "stdout",
     "output_type": "stream",
     "text": [
      "Confidence ---> 0.58\n",
      "Class name --> cable\n"
     ]
    },
    {
     "name": "stderr",
     "output_type": "stream",
     "text": [
      "0: 480x640 1 cabel, 195.4ms\n",
      "Speed: 0.0ms preprocess, 195.4ms inference, 0.0ms postprocess per image at shape (1, 3, 480, 640)\n",
      "\n"
     ]
    },
    {
     "name": "stdout",
     "output_type": "stream",
     "text": [
      "Confidence ---> 0.73\n",
      "Class name --> cable\n"
     ]
    },
    {
     "name": "stderr",
     "output_type": "stream",
     "text": [
      "0: 480x640 1 cabel, 194.6ms\n",
      "Speed: 0.0ms preprocess, 194.6ms inference, 0.1ms postprocess per image at shape (1, 3, 480, 640)\n",
      "\n"
     ]
    },
    {
     "name": "stdout",
     "output_type": "stream",
     "text": [
      "Confidence ---> 0.3\n",
      "Class name --> cable\n"
     ]
    },
    {
     "name": "stderr",
     "output_type": "stream",
     "text": [
      "0: 480x640 (no detections), 191.5ms\n",
      "Speed: 2.8ms preprocess, 191.5ms inference, 0.0ms postprocess per image at shape (1, 3, 480, 640)\n",
      "\n",
      "0: 480x640 1 cabel, 195.8ms\n",
      "Speed: 0.0ms preprocess, 195.8ms inference, 9.4ms postprocess per image at shape (1, 3, 480, 640)\n",
      "\n"
     ]
    },
    {
     "name": "stdout",
     "output_type": "stream",
     "text": [
      "Confidence ---> 0.66\n",
      "Class name --> cable\n"
     ]
    },
    {
     "name": "stderr",
     "output_type": "stream",
     "text": [
      "0: 480x640 2 cabels, 229.3ms\n",
      "Speed: 0.0ms preprocess, 229.3ms inference, 8.0ms postprocess per image at shape (1, 3, 480, 640)\n",
      "\n",
      "0: 480x640 (no detections), 181.4ms\n"
     ]
    },
    {
     "name": "stdout",
     "output_type": "stream",
     "text": [
      "Confidence ---> 0.47\n",
      "Class name --> cable\n",
      "Confidence ---> 0.4\n",
      "Class name --> cable\n"
     ]
    },
    {
     "name": "stderr",
     "output_type": "stream",
     "text": [
      "Speed: 2.9ms preprocess, 181.4ms inference, 0.0ms postprocess per image at shape (1, 3, 480, 640)\n",
      "\n",
      "0: 480x640 (no detections), 192.7ms\n",
      "Speed: 4.0ms preprocess, 192.7ms inference, 0.0ms postprocess per image at shape (1, 3, 480, 640)\n",
      "\n",
      "0: 480x640 (no detections), 195.3ms\n",
      "Speed: 0.0ms preprocess, 195.3ms inference, 0.0ms postprocess per image at shape (1, 3, 480, 640)\n",
      "\n",
      "0: 480x640 (no detections), 171.4ms\n",
      "Speed: 0.0ms preprocess, 171.4ms inference, 0.0ms postprocess per image at shape (1, 3, 480, 640)\n",
      "\n",
      "0: 480x640 (no detections), 178.3ms\n",
      "Speed: 2.0ms preprocess, 178.3ms inference, 0.0ms postprocess per image at shape (1, 3, 480, 640)\n",
      "\n",
      "0: 480x640 2 cabels, 172.2ms\n",
      "Speed: 2.1ms preprocess, 172.2ms inference, 2.1ms postprocess per image at shape (1, 3, 480, 640)\n",
      "\n"
     ]
    },
    {
     "name": "stdout",
     "output_type": "stream",
     "text": [
      "Confidence ---> 0.39\n",
      "Class name --> cable\n",
      "Confidence ---> 0.34\n",
      "Class name --> cable\n"
     ]
    },
    {
     "name": "stderr",
     "output_type": "stream",
     "text": [
      "0: 480x640 1 cabel, 178.8ms\n",
      "Speed: 0.0ms preprocess, 178.8ms inference, 18.7ms postprocess per image at shape (1, 3, 480, 640)\n",
      "\n"
     ]
    },
    {
     "name": "stdout",
     "output_type": "stream",
     "text": [
      "Confidence ---> 0.36\n",
      "Class name --> cable\n"
     ]
    },
    {
     "name": "stderr",
     "output_type": "stream",
     "text": [
      "0: 480x640 1 cabel, 166.1ms\n",
      "Speed: 4.7ms preprocess, 166.1ms inference, 17.3ms postprocess per image at shape (1, 3, 480, 640)\n",
      "\n"
     ]
    },
    {
     "name": "stdout",
     "output_type": "stream",
     "text": [
      "Confidence ---> 0.69\n",
      "Class name --> cable\n"
     ]
    },
    {
     "name": "stderr",
     "output_type": "stream",
     "text": [
      "0: 480x640 (no detections), 201.1ms\n",
      "Speed: 5.7ms preprocess, 201.1ms inference, 0.0ms postprocess per image at shape (1, 3, 480, 640)\n",
      "\n",
      "0: 480x640 2 cabels, 197.5ms\n",
      "Speed: 2.9ms preprocess, 197.5ms inference, 4.8ms postprocess per image at shape (1, 3, 480, 640)\n",
      "\n"
     ]
    },
    {
     "name": "stdout",
     "output_type": "stream",
     "text": [
      "Confidence ---> 0.45\n",
      "Class name --> cable\n",
      "Confidence ---> 0.41\n",
      "Class name --> cable\n"
     ]
    },
    {
     "name": "stderr",
     "output_type": "stream",
     "text": [
      "0: 480x640 3 cabels, 183.9ms\n",
      "Speed: 4.2ms preprocess, 183.9ms inference, 0.0ms postprocess per image at shape (1, 3, 480, 640)\n",
      "\n"
     ]
    },
    {
     "name": "stdout",
     "output_type": "stream",
     "text": [
      "Confidence ---> 0.66\n",
      "Class name --> cable\n",
      "Confidence ---> 0.52\n",
      "Class name --> cable\n",
      "Confidence ---> 0.3\n",
      "Class name --> cable\n"
     ]
    },
    {
     "name": "stderr",
     "output_type": "stream",
     "text": [
      "0: 480x640 7 cabels, 178.2ms\n",
      "Speed: 1.0ms preprocess, 178.2ms inference, 17.0ms postprocess per image at shape (1, 3, 480, 640)\n",
      "\n"
     ]
    },
    {
     "name": "stdout",
     "output_type": "stream",
     "text": [
      "Confidence ---> 0.58\n",
      "Class name --> cable\n",
      "Confidence ---> 0.47\n",
      "Class name --> cable\n",
      "Confidence ---> 0.36\n",
      "Class name --> cable\n",
      "Confidence ---> 0.31\n",
      "Class name --> cable\n",
      "Confidence ---> 0.31\n",
      "Class name --> cable\n",
      "Confidence ---> 0.31\n",
      "Class name --> cable\n",
      "Confidence ---> 0.3\n",
      "Class name --> cable\n"
     ]
    },
    {
     "name": "stderr",
     "output_type": "stream",
     "text": [
      "0: 480x640 6 cabels, 240.1ms\n",
      "Speed: 3.4ms preprocess, 240.1ms inference, 8.5ms postprocess per image at shape (1, 3, 480, 640)\n",
      "\n"
     ]
    },
    {
     "name": "stdout",
     "output_type": "stream",
     "text": [
      "Confidence ---> 0.65\n",
      "Class name --> cable\n",
      "Confidence ---> 0.47\n",
      "Class name --> cable\n",
      "Confidence ---> 0.39\n",
      "Class name --> cable\n",
      "Confidence ---> 0.37\n",
      "Class name --> cable\n",
      "Confidence ---> 0.34\n",
      "Class name --> cable\n",
      "Confidence ---> 0.27\n",
      "Class name --> cable\n"
     ]
    },
    {
     "name": "stderr",
     "output_type": "stream",
     "text": [
      "0: 480x640 5 cabels, 190.9ms\n",
      "Speed: 0.0ms preprocess, 190.9ms inference, 3.2ms postprocess per image at shape (1, 3, 480, 640)\n",
      "\n",
      "0: 480x640 4 cabels, 172.4ms\n"
     ]
    },
    {
     "name": "stdout",
     "output_type": "stream",
     "text": [
      "Confidence ---> 0.66\n",
      "Class name --> cable\n",
      "Confidence ---> 0.64\n",
      "Class name --> cable\n",
      "Confidence ---> 0.51\n",
      "Class name --> cable\n",
      "Confidence ---> 0.47\n",
      "Class name --> cable\n",
      "Confidence ---> 0.26\n",
      "Class name --> cable\n",
      "Confidence ---> 0.62\n",
      "Class name --> cable\n",
      "Confidence ---> 0.32\n",
      "Class name --> cable\n",
      "Confidence ---> 0.31\n",
      "Class name --> cable\n",
      "Confidence ---> 0.26\n",
      "Class name --> cable\n"
     ]
    },
    {
     "name": "stderr",
     "output_type": "stream",
     "text": [
      "Speed: 3.2ms preprocess, 172.4ms inference, 0.0ms postprocess per image at shape (1, 3, 480, 640)\n",
      "\n",
      "0: 480x640 7 cabels, 193.4ms\n",
      "Speed: 0.0ms preprocess, 193.4ms inference, 17.5ms postprocess per image at shape (1, 3, 480, 640)\n",
      "\n"
     ]
    },
    {
     "name": "stdout",
     "output_type": "stream",
     "text": [
      "Confidence ---> 0.48\n",
      "Class name --> cable\n",
      "Confidence ---> 0.47\n",
      "Class name --> cable\n",
      "Confidence ---> 0.39\n",
      "Class name --> cable\n",
      "Confidence ---> 0.33\n",
      "Class name --> cable\n",
      "Confidence ---> 0.29\n",
      "Class name --> cable\n",
      "Confidence ---> 0.29\n",
      "Class name --> cable\n",
      "Confidence ---> 0.26\n",
      "Class name --> cable\n"
     ]
    },
    {
     "name": "stderr",
     "output_type": "stream",
     "text": [
      "0: 480x640 2 cabels, 190.5ms\n",
      "Speed: 0.0ms preprocess, 190.5ms inference, 0.0ms postprocess per image at shape (1, 3, 480, 640)\n",
      "\n"
     ]
    },
    {
     "name": "stdout",
     "output_type": "stream",
     "text": [
      "Confidence ---> 0.42\n",
      "Class name --> cable\n",
      "Confidence ---> 0.4\n",
      "Class name --> cable\n"
     ]
    },
    {
     "name": "stderr",
     "output_type": "stream",
     "text": [
      "0: 480x640 3 cabels, 170.2ms\n",
      "Speed: 1.5ms preprocess, 170.2ms inference, 17.6ms postprocess per image at shape (1, 3, 480, 640)\n",
      "\n"
     ]
    },
    {
     "name": "stdout",
     "output_type": "stream",
     "text": [
      "Confidence ---> 0.62\n",
      "Class name --> cable\n",
      "Confidence ---> 0.39\n",
      "Class name --> cable\n",
      "Confidence ---> 0.39\n",
      "Class name --> cable\n"
     ]
    },
    {
     "name": "stderr",
     "output_type": "stream",
     "text": [
      "0: 480x640 1 cabel, 177.2ms\n",
      "Speed: 3.0ms preprocess, 177.2ms inference, 0.0ms postprocess per image at shape (1, 3, 480, 640)\n",
      "\n"
     ]
    },
    {
     "name": "stdout",
     "output_type": "stream",
     "text": [
      "Confidence ---> 0.49\n",
      "Class name --> cable\n"
     ]
    },
    {
     "name": "stderr",
     "output_type": "stream",
     "text": [
      "0: 480x640 3 cabels, 206.8ms\n",
      "Speed: 1.7ms preprocess, 206.8ms inference, 43.9ms postprocess per image at shape (1, 3, 480, 640)\n",
      "\n"
     ]
    },
    {
     "name": "stdout",
     "output_type": "stream",
     "text": [
      "Confidence ---> 0.72\n",
      "Class name --> cable\n",
      "Confidence ---> 0.31\n",
      "Class name --> cable\n",
      "Confidence ---> 0.28\n",
      "Class name --> cable\n"
     ]
    },
    {
     "name": "stderr",
     "output_type": "stream",
     "text": [
      "0: 480x640 2 cabels, 217.4ms\n",
      "Speed: 1.5ms preprocess, 217.4ms inference, 8.1ms postprocess per image at shape (1, 3, 480, 640)\n",
      "\n"
     ]
    },
    {
     "name": "stdout",
     "output_type": "stream",
     "text": [
      "Confidence ---> 0.6\n",
      "Class name --> cable\n",
      "Confidence ---> 0.46\n",
      "Class name --> cable\n"
     ]
    },
    {
     "name": "stderr",
     "output_type": "stream",
     "text": [
      "0: 480x640 3 cabels, 202.3ms\n",
      "Speed: 2.8ms preprocess, 202.3ms inference, 14.2ms postprocess per image at shape (1, 3, 480, 640)\n",
      "\n"
     ]
    },
    {
     "name": "stdout",
     "output_type": "stream",
     "text": [
      "Confidence ---> 0.42\n",
      "Class name --> cable\n",
      "Confidence ---> 0.39\n",
      "Class name --> cable\n",
      "Confidence ---> 0.3\n",
      "Class name --> cable\n"
     ]
    },
    {
     "name": "stderr",
     "output_type": "stream",
     "text": [
      "0: 480x640 3 cabels, 211.7ms\n",
      "Speed: 3.4ms preprocess, 211.7ms inference, 8.1ms postprocess per image at shape (1, 3, 480, 640)\n",
      "\n"
     ]
    },
    {
     "name": "stdout",
     "output_type": "stream",
     "text": [
      "Confidence ---> 0.47\n",
      "Class name --> cable\n",
      "Confidence ---> 0.36\n",
      "Class name --> cable\n",
      "Confidence ---> 0.28\n",
      "Class name --> cable\n"
     ]
    },
    {
     "name": "stderr",
     "output_type": "stream",
     "text": [
      "0: 480x640 6 cabels, 207.2ms\n",
      "Speed: 2.6ms preprocess, 207.2ms inference, 18.5ms postprocess per image at shape (1, 3, 480, 640)\n",
      "\n"
     ]
    },
    {
     "name": "stdout",
     "output_type": "stream",
     "text": [
      "Confidence ---> 0.69\n",
      "Class name --> cable\n",
      "Confidence ---> 0.64\n",
      "Class name --> cable\n",
      "Confidence ---> 0.64\n",
      "Class name --> cable\n",
      "Confidence ---> 0.44\n",
      "Class name --> cable\n",
      "Confidence ---> 0.4\n",
      "Class name --> cable\n",
      "Confidence ---> 0.36\n",
      "Class name --> cable\n"
     ]
    },
    {
     "name": "stderr",
     "output_type": "stream",
     "text": [
      "0: 480x640 6 cabels, 188.3ms\n",
      "Speed: 2.0ms preprocess, 188.3ms inference, 10.2ms postprocess per image at shape (1, 3, 480, 640)\n",
      "\n"
     ]
    },
    {
     "name": "stdout",
     "output_type": "stream",
     "text": [
      "Confidence ---> 0.64\n",
      "Class name --> cable\n",
      "Confidence ---> 0.51\n",
      "Class name --> cable\n",
      "Confidence ---> 0.51\n",
      "Class name --> cable\n",
      "Confidence ---> 0.47\n",
      "Class name --> cable\n",
      "Confidence ---> 0.27\n",
      "Class name --> cable\n",
      "Confidence ---> 0.26\n",
      "Class name --> cable\n"
     ]
    },
    {
     "name": "stderr",
     "output_type": "stream",
     "text": [
      "0: 480x640 4 cabels, 190.2ms\n",
      "Speed: 5.0ms preprocess, 190.2ms inference, 8.1ms postprocess per image at shape (1, 3, 480, 640)\n",
      "\n"
     ]
    },
    {
     "name": "stdout",
     "output_type": "stream",
     "text": [
      "Confidence ---> 0.61\n",
      "Class name --> cable\n",
      "Confidence ---> 0.32\n",
      "Class name --> cable\n",
      "Confidence ---> 0.29\n",
      "Class name --> cable\n",
      "Confidence ---> 0.26\n",
      "Class name --> cable\n"
     ]
    },
    {
     "name": "stderr",
     "output_type": "stream",
     "text": [
      "0: 480x640 5 cabels, 199.4ms\n",
      "Speed: 0.0ms preprocess, 199.4ms inference, 7.5ms postprocess per image at shape (1, 3, 480, 640)\n",
      "\n"
     ]
    },
    {
     "name": "stdout",
     "output_type": "stream",
     "text": [
      "Confidence ---> 0.65\n",
      "Class name --> cable\n",
      "Confidence ---> 0.59\n",
      "Class name --> cable\n",
      "Confidence ---> 0.57\n",
      "Class name --> cable\n",
      "Confidence ---> 0.31\n",
      "Class name --> cable\n",
      "Confidence ---> 0.27\n",
      "Class name --> cable\n"
     ]
    },
    {
     "name": "stderr",
     "output_type": "stream",
     "text": [
      "0: 480x640 5 cabels, 179.9ms\n",
      "Speed: 8.1ms preprocess, 179.9ms inference, 17.2ms postprocess per image at shape (1, 3, 480, 640)\n",
      "\n"
     ]
    },
    {
     "name": "stdout",
     "output_type": "stream",
     "text": [
      "Confidence ---> 0.51\n",
      "Class name --> cable\n",
      "Confidence ---> 0.42\n",
      "Class name --> cable\n",
      "Confidence ---> 0.34\n",
      "Class name --> cable\n",
      "Confidence ---> 0.3\n",
      "Class name --> cable\n",
      "Confidence ---> 0.29\n",
      "Class name --> cable\n"
     ]
    },
    {
     "name": "stderr",
     "output_type": "stream",
     "text": [
      "0: 480x640 5 cabels, 240.1ms\n",
      "Speed: 4.7ms preprocess, 240.1ms inference, 8.2ms postprocess per image at shape (1, 3, 480, 640)\n",
      "\n"
     ]
    },
    {
     "name": "stdout",
     "output_type": "stream",
     "text": [
      "Confidence ---> 0.62\n",
      "Class name --> cable\n",
      "Confidence ---> 0.52\n",
      "Class name --> cable\n",
      "Confidence ---> 0.5\n",
      "Class name --> cable\n",
      "Confidence ---> 0.47\n",
      "Class name --> cable\n",
      "Confidence ---> 0.4\n",
      "Class name --> cable\n"
     ]
    },
    {
     "name": "stderr",
     "output_type": "stream",
     "text": [
      "0: 480x640 6 cabels, 192.4ms\n",
      "Speed: 3.2ms preprocess, 192.4ms inference, 14.1ms postprocess per image at shape (1, 3, 480, 640)\n",
      "\n"
     ]
    },
    {
     "name": "stdout",
     "output_type": "stream",
     "text": [
      "Confidence ---> 0.65\n",
      "Class name --> cable\n",
      "Confidence ---> 0.61\n",
      "Class name --> cable\n",
      "Confidence ---> 0.5\n",
      "Class name --> cable\n",
      "Confidence ---> 0.41\n",
      "Class name --> cable\n",
      "Confidence ---> 0.36\n",
      "Class name --> cable\n",
      "Confidence ---> 0.28\n",
      "Class name --> cable\n"
     ]
    },
    {
     "name": "stderr",
     "output_type": "stream",
     "text": [
      "0: 480x640 6 cabels, 198.7ms\n",
      "Speed: 4.5ms preprocess, 198.7ms inference, 15.2ms postprocess per image at shape (1, 3, 480, 640)\n",
      "\n"
     ]
    },
    {
     "name": "stdout",
     "output_type": "stream",
     "text": [
      "Confidence ---> 0.77\n",
      "Class name --> cable\n",
      "Confidence ---> 0.69\n",
      "Class name --> cable\n",
      "Confidence ---> 0.51\n",
      "Class name --> cable\n",
      "Confidence ---> 0.38\n",
      "Class name --> cable\n",
      "Confidence ---> 0.3\n",
      "Class name --> cable\n",
      "Confidence ---> 0.29\n",
      "Class name --> cable\n"
     ]
    },
    {
     "name": "stderr",
     "output_type": "stream",
     "text": [
      "0: 480x640 6 cabels, 190.0ms\n",
      "Speed: 2.1ms preprocess, 190.0ms inference, 16.9ms postprocess per image at shape (1, 3, 480, 640)\n",
      "\n"
     ]
    },
    {
     "name": "stdout",
     "output_type": "stream",
     "text": [
      "Confidence ---> 0.71\n",
      "Class name --> cable\n",
      "Confidence ---> 0.7\n",
      "Class name --> cable\n",
      "Confidence ---> 0.51\n",
      "Class name --> cable\n",
      "Confidence ---> 0.38\n",
      "Class name --> cable\n",
      "Confidence ---> 0.37\n",
      "Class name --> cable\n",
      "Confidence ---> 0.34\n",
      "Class name --> cable\n"
     ]
    },
    {
     "name": "stderr",
     "output_type": "stream",
     "text": [
      "0: 480x640 7 cabels, 185.1ms\n",
      "Speed: 1.3ms preprocess, 185.1ms inference, 14.1ms postprocess per image at shape (1, 3, 480, 640)\n",
      "\n"
     ]
    },
    {
     "name": "stdout",
     "output_type": "stream",
     "text": [
      "Confidence ---> 0.79\n",
      "Class name --> cable\n",
      "Confidence ---> 0.65\n",
      "Class name --> cable\n",
      "Confidence ---> 0.53\n",
      "Class name --> cable\n",
      "Confidence ---> 0.36\n",
      "Class name --> cable\n",
      "Confidence ---> 0.34\n",
      "Class name --> cable\n",
      "Confidence ---> 0.31\n",
      "Class name --> cable\n",
      "Confidence ---> 0.28\n",
      "Class name --> cable\n"
     ]
    },
    {
     "name": "stderr",
     "output_type": "stream",
     "text": [
      "0: 480x640 6 cabels, 197.8ms\n",
      "Speed: 2.2ms preprocess, 197.8ms inference, 0.0ms postprocess per image at shape (1, 3, 480, 640)\n",
      "\n"
     ]
    },
    {
     "name": "stdout",
     "output_type": "stream",
     "text": [
      "Confidence ---> 0.78\n",
      "Class name --> cable\n",
      "Confidence ---> 0.67\n",
      "Class name --> cable\n",
      "Confidence ---> 0.45\n",
      "Class name --> cable\n",
      "Confidence ---> 0.34\n",
      "Class name --> cable\n",
      "Confidence ---> 0.31\n",
      "Class name --> cable\n",
      "Confidence ---> 0.3\n",
      "Class name --> cable\n"
     ]
    },
    {
     "name": "stderr",
     "output_type": "stream",
     "text": [
      "0: 480x640 9 cabels, 190.6ms\n",
      "Speed: 5.1ms preprocess, 190.6ms inference, 18.2ms postprocess per image at shape (1, 3, 480, 640)\n",
      "\n"
     ]
    },
    {
     "name": "stdout",
     "output_type": "stream",
     "text": [
      "Confidence ---> 0.77\n",
      "Class name --> cable\n",
      "Confidence ---> 0.73\n",
      "Class name --> cable\n",
      "Confidence ---> 0.56\n",
      "Class name --> cable\n",
      "Confidence ---> 0.51\n",
      "Class name --> cable\n",
      "Confidence ---> 0.41\n",
      "Class name --> cable\n",
      "Confidence ---> 0.4\n",
      "Class name --> cable\n",
      "Confidence ---> 0.34\n",
      "Class name --> cable\n",
      "Confidence ---> 0.32\n",
      "Class name --> cable\n",
      "Confidence ---> 0.28\n",
      "Class name --> cable\n"
     ]
    },
    {
     "name": "stderr",
     "output_type": "stream",
     "text": [
      "0: 480x640 7 cabels, 202.0ms\n",
      "Speed: 3.4ms preprocess, 202.0ms inference, 2.1ms postprocess per image at shape (1, 3, 480, 640)\n",
      "\n"
     ]
    },
    {
     "name": "stdout",
     "output_type": "stream",
     "text": [
      "Confidence ---> 0.79\n",
      "Class name --> cable\n",
      "Confidence ---> 0.75\n",
      "Class name --> cable\n",
      "Confidence ---> 0.47\n",
      "Class name --> cable\n",
      "Confidence ---> 0.4\n",
      "Class name --> cable\n",
      "Confidence ---> 0.34\n",
      "Class name --> cable\n",
      "Confidence ---> 0.33\n",
      "Class name --> cable\n",
      "Confidence ---> 0.28\n",
      "Class name --> cable\n"
     ]
    },
    {
     "name": "stderr",
     "output_type": "stream",
     "text": [
      "0: 480x640 7 cabels, 191.2ms\n",
      "Speed: 2.2ms preprocess, 191.2ms inference, 51.5ms postprocess per image at shape (1, 3, 480, 640)\n",
      "\n"
     ]
    },
    {
     "name": "stdout",
     "output_type": "stream",
     "text": [
      "Confidence ---> 0.7\n",
      "Class name --> cable\n",
      "Confidence ---> 0.55\n",
      "Class name --> cable\n",
      "Confidence ---> 0.5\n",
      "Class name --> cable\n",
      "Confidence ---> 0.46\n",
      "Class name --> cable\n",
      "Confidence ---> 0.34\n",
      "Class name --> cable\n",
      "Confidence ---> 0.3\n",
      "Class name --> cable\n",
      "Confidence ---> 0.28\n",
      "Class name --> cable\n"
     ]
    },
    {
     "name": "stderr",
     "output_type": "stream",
     "text": [
      "0: 480x640 5 cabels, 198.0ms\n",
      "Speed: 1.0ms preprocess, 198.0ms inference, 8.1ms postprocess per image at shape (1, 3, 480, 640)\n",
      "\n"
     ]
    },
    {
     "name": "stdout",
     "output_type": "stream",
     "text": [
      "Confidence ---> 0.77\n",
      "Class name --> cable\n",
      "Confidence ---> 0.69\n",
      "Class name --> cable\n",
      "Confidence ---> 0.67\n",
      "Class name --> cable\n",
      "Confidence ---> 0.51\n",
      "Class name --> cable\n",
      "Confidence ---> 0.4\n",
      "Class name --> cable\n"
     ]
    },
    {
     "name": "stderr",
     "output_type": "stream",
     "text": [
      "0: 480x640 8 cabels, 195.3ms\n",
      "Speed: 2.9ms preprocess, 195.3ms inference, 15.6ms postprocess per image at shape (1, 3, 480, 640)\n",
      "\n"
     ]
    },
    {
     "name": "stdout",
     "output_type": "stream",
     "text": [
      "Confidence ---> 0.83\n",
      "Class name --> cable\n",
      "Confidence ---> 0.52\n",
      "Class name --> cable\n",
      "Confidence ---> 0.51\n",
      "Class name --> cable\n",
      "Confidence ---> 0.49\n",
      "Class name --> cable\n",
      "Confidence ---> 0.38\n",
      "Class name --> cable\n",
      "Confidence ---> 0.28\n",
      "Class name --> cable\n",
      "Confidence ---> 0.27\n",
      "Class name --> cable\n",
      "Confidence ---> 0.26\n",
      "Class name --> cable\n"
     ]
    },
    {
     "name": "stderr",
     "output_type": "stream",
     "text": [
      "0: 480x640 6 cabels, 197.3ms\n",
      "Speed: 1.6ms preprocess, 197.3ms inference, 16.3ms postprocess per image at shape (1, 3, 480, 640)\n",
      "\n"
     ]
    },
    {
     "name": "stdout",
     "output_type": "stream",
     "text": [
      "Confidence ---> 0.76\n",
      "Class name --> cable\n",
      "Confidence ---> 0.69\n",
      "Class name --> cable\n",
      "Confidence ---> 0.52\n",
      "Class name --> cable\n",
      "Confidence ---> 0.46\n",
      "Class name --> cable\n",
      "Confidence ---> 0.35\n",
      "Class name --> cable\n",
      "Confidence ---> 0.29\n",
      "Class name --> cable\n"
     ]
    },
    {
     "name": "stderr",
     "output_type": "stream",
     "text": [
      "0: 480x640 6 cabels, 188.0ms\n",
      "Speed: 3.9ms preprocess, 188.0ms inference, 12.6ms postprocess per image at shape (1, 3, 480, 640)\n",
      "\n"
     ]
    },
    {
     "name": "stdout",
     "output_type": "stream",
     "text": [
      "Confidence ---> 0.79\n",
      "Class name --> cable\n",
      "Confidence ---> 0.54\n",
      "Class name --> cable\n",
      "Confidence ---> 0.5\n",
      "Class name --> cable\n",
      "Confidence ---> 0.46\n",
      "Class name --> cable\n",
      "Confidence ---> 0.43\n",
      "Class name --> cable\n",
      "Confidence ---> 0.37\n",
      "Class name --> cable\n"
     ]
    },
    {
     "name": "stderr",
     "output_type": "stream",
     "text": [
      "0: 480x640 7 cabels, 200.8ms\n",
      "Speed: 4.4ms preprocess, 200.8ms inference, 22.1ms postprocess per image at shape (1, 3, 480, 640)\n",
      "\n"
     ]
    },
    {
     "name": "stdout",
     "output_type": "stream",
     "text": [
      "Confidence ---> 0.78\n",
      "Class name --> cable\n",
      "Confidence ---> 0.65\n",
      "Class name --> cable\n",
      "Confidence ---> 0.63\n",
      "Class name --> cable\n",
      "Confidence ---> 0.45\n",
      "Class name --> cable\n",
      "Confidence ---> 0.43\n",
      "Class name --> cable\n",
      "Confidence ---> 0.41\n",
      "Class name --> cable\n",
      "Confidence ---> 0.28\n",
      "Class name --> cable\n"
     ]
    },
    {
     "name": "stderr",
     "output_type": "stream",
     "text": [
      "0: 480x640 6 cabels, 188.4ms\n",
      "Speed: 3.0ms preprocess, 188.4ms inference, 10.7ms postprocess per image at shape (1, 3, 480, 640)\n",
      "\n"
     ]
    },
    {
     "name": "stdout",
     "output_type": "stream",
     "text": [
      "Confidence ---> 0.74\n",
      "Class name --> cable\n",
      "Confidence ---> 0.66\n",
      "Class name --> cable\n",
      "Confidence ---> 0.64\n",
      "Class name --> cable\n",
      "Confidence ---> 0.49\n",
      "Class name --> cable\n",
      "Confidence ---> 0.37\n",
      "Class name --> cable\n",
      "Confidence ---> 0.27\n",
      "Class name --> cable\n"
     ]
    },
    {
     "name": "stderr",
     "output_type": "stream",
     "text": [
      "0: 480x640 7 cabels, 214.8ms\n",
      "Speed: 4.7ms preprocess, 214.8ms inference, 13.4ms postprocess per image at shape (1, 3, 480, 640)\n",
      "\n"
     ]
    },
    {
     "name": "stdout",
     "output_type": "stream",
     "text": [
      "Confidence ---> 0.7\n",
      "Class name --> cable\n",
      "Confidence ---> 0.63\n",
      "Class name --> cable\n",
      "Confidence ---> 0.53\n",
      "Class name --> cable\n",
      "Confidence ---> 0.46\n",
      "Class name --> cable\n",
      "Confidence ---> 0.38\n",
      "Class name --> cable\n",
      "Confidence ---> 0.36\n",
      "Class name --> cable\n",
      "Confidence ---> 0.33\n",
      "Class name --> cable\n"
     ]
    },
    {
     "name": "stderr",
     "output_type": "stream",
     "text": [
      "0: 480x640 6 cabels, 263.9ms\n",
      "Speed: 0.0ms preprocess, 263.9ms inference, 12.4ms postprocess per image at shape (1, 3, 480, 640)\n",
      "\n",
      "0: 480x640 8 cabels, 165.4ms\n"
     ]
    },
    {
     "name": "stdout",
     "output_type": "stream",
     "text": [
      "Confidence ---> 0.82\n",
      "Class name --> cable\n",
      "Confidence ---> 0.67\n",
      "Class name --> cable\n",
      "Confidence ---> 0.56\n",
      "Class name --> cable\n",
      "Confidence ---> 0.39\n",
      "Class name --> cable\n",
      "Confidence ---> 0.32\n",
      "Class name --> cable\n",
      "Confidence ---> 0.32\n",
      "Class name --> cable\n",
      "Confidence ---> 0.72\n",
      "Class name --> cable\n",
      "Confidence ---> 0.51\n",
      "Class name --> cable\n",
      "Confidence ---> 0.43\n",
      "Class name --> cable\n",
      "Confidence ---> 0.4\n",
      "Class name --> cable\n",
      "Confidence ---> 0.4\n",
      "Class name --> cable\n",
      "Confidence ---> 0.33\n",
      "Class name --> cable\n",
      "Confidence ---> 0.32\n",
      "Class name --> cable\n",
      "Confidence ---> 0.26\n",
      "Class name --> cable\n"
     ]
    },
    {
     "name": "stderr",
     "output_type": "stream",
     "text": [
      "Speed: 2.7ms preprocess, 165.4ms inference, 15.7ms postprocess per image at shape (1, 3, 480, 640)\n",
      "\n",
      "0: 480x640 5 cabels, 171.5ms\n",
      "Speed: 3.3ms preprocess, 171.5ms inference, 15.6ms postprocess per image at shape (1, 3, 480, 640)\n",
      "\n"
     ]
    },
    {
     "name": "stdout",
     "output_type": "stream",
     "text": [
      "Confidence ---> 0.78\n",
      "Class name --> cable\n",
      "Confidence ---> 0.67\n",
      "Class name --> cable\n",
      "Confidence ---> 0.61\n",
      "Class name --> cable\n",
      "Confidence ---> 0.53\n",
      "Class name --> cable\n",
      "Confidence ---> 0.52\n",
      "Class name --> cable\n"
     ]
    },
    {
     "name": "stderr",
     "output_type": "stream",
     "text": [
      "0: 480x640 6 cabels, 182.0ms\n",
      "Speed: 2.5ms preprocess, 182.0ms inference, 12.0ms postprocess per image at shape (1, 3, 480, 640)\n",
      "\n"
     ]
    },
    {
     "name": "stdout",
     "output_type": "stream",
     "text": [
      "Confidence ---> 0.76\n",
      "Class name --> cable\n",
      "Confidence ---> 0.66\n",
      "Class name --> cable\n",
      "Confidence ---> 0.5\n",
      "Class name --> cable\n",
      "Confidence ---> 0.48\n",
      "Class name --> cable\n",
      "Confidence ---> 0.44\n",
      "Class name --> cable\n",
      "Confidence ---> 0.26\n",
      "Class name --> cable\n"
     ]
    },
    {
     "name": "stderr",
     "output_type": "stream",
     "text": [
      "0: 480x640 6 cabels, 192.6ms\n",
      "Speed: 3.1ms preprocess, 192.6ms inference, 0.0ms postprocess per image at shape (1, 3, 480, 640)\n",
      "\n"
     ]
    },
    {
     "name": "stdout",
     "output_type": "stream",
     "text": [
      "Confidence ---> 0.75\n",
      "Class name --> cable\n",
      "Confidence ---> 0.72\n",
      "Class name --> cable\n",
      "Confidence ---> 0.47\n",
      "Class name --> cable\n",
      "Confidence ---> 0.44\n",
      "Class name --> cable\n",
      "Confidence ---> 0.3\n",
      "Class name --> cable\n",
      "Confidence ---> 0.29\n",
      "Class name --> cable\n"
     ]
    },
    {
     "name": "stderr",
     "output_type": "stream",
     "text": [
      "0: 480x640 6 cabels, 173.8ms\n",
      "Speed: 1.0ms preprocess, 173.8ms inference, 18.0ms postprocess per image at shape (1, 3, 480, 640)\n",
      "\n"
     ]
    },
    {
     "name": "stdout",
     "output_type": "stream",
     "text": [
      "Confidence ---> 0.74\n",
      "Class name --> cable\n",
      "Confidence ---> 0.62\n",
      "Class name --> cable\n",
      "Confidence ---> 0.55\n",
      "Class name --> cable\n",
      "Confidence ---> 0.45\n",
      "Class name --> cable\n",
      "Confidence ---> 0.39\n",
      "Class name --> cable\n",
      "Confidence ---> 0.37\n",
      "Class name --> cable\n"
     ]
    },
    {
     "name": "stderr",
     "output_type": "stream",
     "text": [
      "0: 480x640 4 cabels, 198.7ms\n",
      "Speed: 1.4ms preprocess, 198.7ms inference, 0.0ms postprocess per image at shape (1, 3, 480, 640)\n",
      "\n"
     ]
    },
    {
     "name": "stdout",
     "output_type": "stream",
     "text": [
      "Confidence ---> 0.71\n",
      "Class name --> cable\n",
      "Confidence ---> 0.66\n",
      "Class name --> cable\n",
      "Confidence ---> 0.32\n",
      "Class name --> cable\n",
      "Confidence ---> 0.26\n",
      "Class name --> cable\n"
     ]
    },
    {
     "name": "stderr",
     "output_type": "stream",
     "text": [
      "0: 480x640 3 cabels, 199.0ms\n",
      "Speed: 1.5ms preprocess, 199.0ms inference, 0.0ms postprocess per image at shape (1, 3, 480, 640)\n",
      "\n"
     ]
    },
    {
     "name": "stdout",
     "output_type": "stream",
     "text": [
      "Confidence ---> 0.72\n",
      "Class name --> cable\n",
      "Confidence ---> 0.66\n",
      "Class name --> cable\n",
      "Confidence ---> 0.34\n",
      "Class name --> cable\n"
     ]
    },
    {
     "name": "stderr",
     "output_type": "stream",
     "text": [
      "0: 480x640 5 cabels, 203.4ms\n",
      "Speed: 3.3ms preprocess, 203.4ms inference, 7.6ms postprocess per image at shape (1, 3, 480, 640)\n",
      "\n"
     ]
    },
    {
     "name": "stdout",
     "output_type": "stream",
     "text": [
      "Confidence ---> 0.68\n",
      "Class name --> cable\n",
      "Confidence ---> 0.5\n",
      "Class name --> cable\n",
      "Confidence ---> 0.46\n",
      "Class name --> cable\n",
      "Confidence ---> 0.36\n",
      "Class name --> cable\n",
      "Confidence ---> 0.3\n",
      "Class name --> cable\n"
     ]
    },
    {
     "name": "stderr",
     "output_type": "stream",
     "text": [
      "0: 480x640 6 cabels, 301.5ms\n",
      "Speed: 2.0ms preprocess, 301.5ms inference, 19.4ms postprocess per image at shape (1, 3, 480, 640)\n",
      "\n"
     ]
    },
    {
     "name": "stdout",
     "output_type": "stream",
     "text": [
      "Confidence ---> 0.69\n",
      "Class name --> cable\n",
      "Confidence ---> 0.66\n",
      "Class name --> cable\n",
      "Confidence ---> 0.54\n",
      "Class name --> cable\n",
      "Confidence ---> 0.41\n",
      "Class name --> cable\n",
      "Confidence ---> 0.35\n",
      "Class name --> cable\n",
      "Confidence ---> 0.32\n",
      "Class name --> cable\n"
     ]
    },
    {
     "name": "stderr",
     "output_type": "stream",
     "text": [
      "0: 480x640 5 cabels, 266.2ms\n",
      "Speed: 2.7ms preprocess, 266.2ms inference, 12.7ms postprocess per image at shape (1, 3, 480, 640)\n",
      "\n"
     ]
    },
    {
     "name": "stdout",
     "output_type": "stream",
     "text": [
      "Confidence ---> 0.77\n",
      "Class name --> cable\n",
      "Confidence ---> 0.62\n",
      "Class name --> cable\n",
      "Confidence ---> 0.6\n",
      "Class name --> cable\n",
      "Confidence ---> 0.47\n",
      "Class name --> cable\n",
      "Confidence ---> 0.3\n",
      "Class name --> cable\n"
     ]
    },
    {
     "name": "stderr",
     "output_type": "stream",
     "text": [
      "0: 480x640 8 cabels, 246.7ms\n",
      "Speed: 3.7ms preprocess, 246.7ms inference, 15.2ms postprocess per image at shape (1, 3, 480, 640)\n",
      "\n"
     ]
    },
    {
     "name": "stdout",
     "output_type": "stream",
     "text": [
      "Confidence ---> 0.81\n",
      "Class name --> cable\n",
      "Confidence ---> 0.71\n",
      "Class name --> cable\n",
      "Confidence ---> 0.66\n",
      "Class name --> cable\n",
      "Confidence ---> 0.48\n",
      "Class name --> cable\n",
      "Confidence ---> 0.35\n",
      "Class name --> cable\n",
      "Confidence ---> 0.3\n",
      "Class name --> cable\n",
      "Confidence ---> 0.28\n",
      "Class name --> cable\n",
      "Confidence ---> 0.26\n",
      "Class name --> cable\n"
     ]
    },
    {
     "name": "stderr",
     "output_type": "stream",
     "text": [
      "0: 480x640 3 cabels, 200.5ms\n",
      "Speed: 4.5ms preprocess, 200.5ms inference, 1.0ms postprocess per image at shape (1, 3, 480, 640)\n",
      "\n"
     ]
    },
    {
     "name": "stdout",
     "output_type": "stream",
     "text": [
      "Confidence ---> 0.78\n",
      "Class name --> cable\n",
      "Confidence ---> 0.76\n",
      "Class name --> cable\n",
      "Confidence ---> 0.37\n",
      "Class name --> cable\n"
     ]
    },
    {
     "name": "stderr",
     "output_type": "stream",
     "text": [
      "0: 480x640 7 cabels, 231.5ms\n",
      "Speed: 2.7ms preprocess, 231.5ms inference, 15.8ms postprocess per image at shape (1, 3, 480, 640)\n",
      "\n"
     ]
    },
    {
     "name": "stdout",
     "output_type": "stream",
     "text": [
      "Confidence ---> 0.78\n",
      "Class name --> cable\n",
      "Confidence ---> 0.63\n",
      "Class name --> cable\n",
      "Confidence ---> 0.61\n",
      "Class name --> cable\n",
      "Confidence ---> 0.55\n",
      "Class name --> cable\n",
      "Confidence ---> 0.4\n",
      "Class name --> cable\n",
      "Confidence ---> 0.37\n",
      "Class name --> cable\n",
      "Confidence ---> 0.3\n",
      "Class name --> cable\n"
     ]
    },
    {
     "name": "stderr",
     "output_type": "stream",
     "text": [
      "0: 480x640 7 cabels, 197.8ms\n",
      "Speed: 5.4ms preprocess, 197.8ms inference, 15.2ms postprocess per image at shape (1, 3, 480, 640)\n",
      "\n"
     ]
    },
    {
     "name": "stdout",
     "output_type": "stream",
     "text": [
      "Confidence ---> 0.8\n",
      "Class name --> cable\n",
      "Confidence ---> 0.66\n",
      "Class name --> cable\n",
      "Confidence ---> 0.63\n",
      "Class name --> cable\n",
      "Confidence ---> 0.56\n",
      "Class name --> cable\n",
      "Confidence ---> 0.32\n",
      "Class name --> cable\n",
      "Confidence ---> 0.3\n",
      "Class name --> cable\n",
      "Confidence ---> 0.27\n",
      "Class name --> cable\n"
     ]
    },
    {
     "name": "stderr",
     "output_type": "stream",
     "text": [
      "0: 480x640 7 cabels, 207.0ms\n",
      "Speed: 4.8ms preprocess, 207.0ms inference, 11.4ms postprocess per image at shape (1, 3, 480, 640)\n",
      "\n"
     ]
    },
    {
     "name": "stdout",
     "output_type": "stream",
     "text": [
      "Confidence ---> 0.83\n",
      "Class name --> cable\n",
      "Confidence ---> 0.68\n",
      "Class name --> cable\n",
      "Confidence ---> 0.6\n",
      "Class name --> cable\n",
      "Confidence ---> 0.59\n",
      "Class name --> cable\n",
      "Confidence ---> 0.59\n",
      "Class name --> cable\n",
      "Confidence ---> 0.34\n",
      "Class name --> cable\n",
      "Confidence ---> 0.27\n",
      "Class name --> cable\n"
     ]
    },
    {
     "name": "stderr",
     "output_type": "stream",
     "text": [
      "0: 480x640 6 cabels, 230.5ms\n",
      "Speed: 0.5ms preprocess, 230.5ms inference, 10.6ms postprocess per image at shape (1, 3, 480, 640)\n",
      "\n"
     ]
    },
    {
     "name": "stdout",
     "output_type": "stream",
     "text": [
      "Confidence ---> 0.74\n",
      "Class name --> cable\n",
      "Confidence ---> 0.61\n",
      "Class name --> cable\n",
      "Confidence ---> 0.5\n",
      "Class name --> cable\n",
      "Confidence ---> 0.3\n",
      "Class name --> cable\n",
      "Confidence ---> 0.29\n",
      "Class name --> cable\n",
      "Confidence ---> 0.28\n",
      "Class name --> cable\n"
     ]
    },
    {
     "name": "stderr",
     "output_type": "stream",
     "text": [
      "0: 480x640 7 cabels, 254.7ms\n",
      "Speed: 2.3ms preprocess, 254.7ms inference, 17.8ms postprocess per image at shape (1, 3, 480, 640)\n",
      "\n"
     ]
    },
    {
     "name": "stdout",
     "output_type": "stream",
     "text": [
      "Confidence ---> 0.73\n",
      "Class name --> cable\n",
      "Confidence ---> 0.65\n",
      "Class name --> cable\n",
      "Confidence ---> 0.54\n",
      "Class name --> cable\n",
      "Confidence ---> 0.36\n",
      "Class name --> cable\n",
      "Confidence ---> 0.3\n",
      "Class name --> cable\n",
      "Confidence ---> 0.3\n",
      "Class name --> cable\n",
      "Confidence ---> 0.28\n",
      "Class name --> cable\n"
     ]
    },
    {
     "name": "stderr",
     "output_type": "stream",
     "text": [
      "0: 480x640 7 cabels, 201.5ms\n",
      "Speed: 4.2ms preprocess, 201.5ms inference, 13.4ms postprocess per image at shape (1, 3, 480, 640)\n",
      "\n"
     ]
    },
    {
     "name": "stdout",
     "output_type": "stream",
     "text": [
      "Confidence ---> 0.81\n",
      "Class name --> cable\n",
      "Confidence ---> 0.69\n",
      "Class name --> cable\n",
      "Confidence ---> 0.68\n",
      "Class name --> cable\n",
      "Confidence ---> 0.52\n",
      "Class name --> cable\n",
      "Confidence ---> 0.44\n",
      "Class name --> cable\n",
      "Confidence ---> 0.33\n",
      "Class name --> cable\n",
      "Confidence ---> 0.3\n",
      "Class name --> cable\n"
     ]
    },
    {
     "name": "stderr",
     "output_type": "stream",
     "text": [
      "0: 480x640 11 cabels, 223.5ms\n",
      "Speed: 2.5ms preprocess, 223.5ms inference, 24.1ms postprocess per image at shape (1, 3, 480, 640)\n",
      "\n"
     ]
    },
    {
     "name": "stdout",
     "output_type": "stream",
     "text": [
      "Confidence ---> 0.67\n",
      "Class name --> cable\n",
      "Confidence ---> 0.66\n",
      "Class name --> cable\n",
      "Confidence ---> 0.61\n",
      "Class name --> cable\n",
      "Confidence ---> 0.57\n",
      "Class name --> cable\n",
      "Confidence ---> 0.51\n",
      "Class name --> cable\n",
      "Confidence ---> 0.51\n",
      "Class name --> cable\n",
      "Confidence ---> 0.51\n",
      "Class name --> cable\n",
      "Confidence ---> 0.43\n",
      "Class name --> cable\n",
      "Confidence ---> 0.37\n",
      "Class name --> cable\n",
      "Confidence ---> 0.29\n",
      "Class name --> cable\n",
      "Confidence ---> 0.26\n",
      "Class name --> cable\n"
     ]
    },
    {
     "name": "stderr",
     "output_type": "stream",
     "text": [
      "0: 480x640 8 cabels, 216.9ms\n",
      "Speed: 4.8ms preprocess, 216.9ms inference, 14.8ms postprocess per image at shape (1, 3, 480, 640)\n",
      "\n"
     ]
    },
    {
     "name": "stdout",
     "output_type": "stream",
     "text": [
      "Confidence ---> 0.75\n",
      "Class name --> cable\n",
      "Confidence ---> 0.72\n",
      "Class name --> cable\n",
      "Confidence ---> 0.59\n",
      "Class name --> cable\n",
      "Confidence ---> 0.36\n",
      "Class name --> cable\n",
      "Confidence ---> 0.33\n",
      "Class name --> cable\n",
      "Confidence ---> 0.32\n",
      "Class name --> cable\n",
      "Confidence ---> 0.29\n",
      "Class name --> cable\n",
      "Confidence ---> 0.26\n",
      "Class name --> cable\n"
     ]
    },
    {
     "name": "stderr",
     "output_type": "stream",
     "text": [
      "0: 480x640 8 cabels, 212.6ms\n",
      "Speed: 1.6ms preprocess, 212.6ms inference, 20.2ms postprocess per image at shape (1, 3, 480, 640)\n",
      "\n"
     ]
    },
    {
     "name": "stdout",
     "output_type": "stream",
     "text": [
      "Confidence ---> 0.79\n",
      "Class name --> cable\n",
      "Confidence ---> 0.67\n",
      "Class name --> cable\n",
      "Confidence ---> 0.66\n",
      "Class name --> cable\n",
      "Confidence ---> 0.51\n",
      "Class name --> cable\n",
      "Confidence ---> 0.47\n",
      "Class name --> cable\n",
      "Confidence ---> 0.38\n",
      "Class name --> cable\n",
      "Confidence ---> 0.28\n",
      "Class name --> cable\n",
      "Confidence ---> 0.26\n",
      "Class name --> cable\n"
     ]
    },
    {
     "name": "stderr",
     "output_type": "stream",
     "text": [
      "0: 480x640 10 cabels, 260.6ms\n",
      "Speed: 4.2ms preprocess, 260.6ms inference, 18.7ms postprocess per image at shape (1, 3, 480, 640)\n",
      "\n"
     ]
    },
    {
     "name": "stdout",
     "output_type": "stream",
     "text": [
      "Confidence ---> 0.75\n",
      "Class name --> cable\n",
      "Confidence ---> 0.72\n",
      "Class name --> cable\n",
      "Confidence ---> 0.57\n",
      "Class name --> cable\n",
      "Confidence ---> 0.53\n",
      "Class name --> cable\n",
      "Confidence ---> 0.45\n",
      "Class name --> cable\n",
      "Confidence ---> 0.45\n",
      "Class name --> cable\n",
      "Confidence ---> 0.37\n",
      "Class name --> cable\n",
      "Confidence ---> 0.29\n",
      "Class name --> cable\n",
      "Confidence ---> 0.27\n",
      "Class name --> cable\n",
      "Confidence ---> 0.26\n",
      "Class name --> cable\n"
     ]
    },
    {
     "name": "stderr",
     "output_type": "stream",
     "text": [
      "0: 480x640 7 cabels, 222.8ms\n",
      "Speed: 2.8ms preprocess, 222.8ms inference, 16.0ms postprocess per image at shape (1, 3, 480, 640)\n",
      "\n"
     ]
    },
    {
     "name": "stdout",
     "output_type": "stream",
     "text": [
      "Confidence ---> 0.75\n",
      "Class name --> cable\n",
      "Confidence ---> 0.71\n",
      "Class name --> cable\n",
      "Confidence ---> 0.54\n",
      "Class name --> cable\n",
      "Confidence ---> 0.37\n",
      "Class name --> cable\n",
      "Confidence ---> 0.28\n",
      "Class name --> cable\n",
      "Confidence ---> 0.26\n",
      "Class name --> cable\n",
      "Confidence ---> 0.26\n",
      "Class name --> cable\n"
     ]
    },
    {
     "name": "stderr",
     "output_type": "stream",
     "text": [
      "0: 480x640 12 cabels, 209.5ms\n",
      "Speed: 5.0ms preprocess, 209.5ms inference, 65.7ms postprocess per image at shape (1, 3, 480, 640)\n",
      "\n"
     ]
    },
    {
     "name": "stdout",
     "output_type": "stream",
     "text": [
      "Confidence ---> 0.69\n",
      "Class name --> cable\n",
      "Confidence ---> 0.67\n",
      "Class name --> cable\n",
      "Confidence ---> 0.63\n",
      "Class name --> cable\n",
      "Confidence ---> 0.61\n",
      "Class name --> cable\n",
      "Confidence ---> 0.59\n",
      "Class name --> cable\n",
      "Confidence ---> 0.51\n",
      "Class name --> cable\n",
      "Confidence ---> 0.44\n",
      "Class name --> cable\n",
      "Confidence ---> 0.41\n",
      "Class name --> cable\n",
      "Confidence ---> 0.35\n",
      "Class name --> cable\n",
      "Confidence ---> 0.28\n",
      "Class name --> cable\n",
      "Confidence ---> 0.26\n",
      "Class name --> cable\n",
      "Confidence ---> 0.26\n",
      "Class name --> cable\n"
     ]
    },
    {
     "name": "stderr",
     "output_type": "stream",
     "text": [
      "0: 480x640 7 cabels, 207.5ms\n",
      "Speed: 3.6ms preprocess, 207.5ms inference, 18.3ms postprocess per image at shape (1, 3, 480, 640)\n",
      "\n"
     ]
    },
    {
     "name": "stdout",
     "output_type": "stream",
     "text": [
      "Confidence ---> 0.76\n",
      "Class name --> cable\n",
      "Confidence ---> 0.66\n",
      "Class name --> cable\n",
      "Confidence ---> 0.45\n",
      "Class name --> cable\n",
      "Confidence ---> 0.39\n",
      "Class name --> cable\n",
      "Confidence ---> 0.39\n",
      "Class name --> cable\n",
      "Confidence ---> 0.34\n",
      "Class name --> cable\n",
      "Confidence ---> 0.26\n",
      "Class name --> cable\n"
     ]
    },
    {
     "name": "stderr",
     "output_type": "stream",
     "text": [
      "0: 480x640 7 cabels, 237.9ms\n",
      "Speed: 2.5ms preprocess, 237.9ms inference, 15.2ms postprocess per image at shape (1, 3, 480, 640)\n",
      "\n"
     ]
    },
    {
     "name": "stdout",
     "output_type": "stream",
     "text": [
      "Confidence ---> 0.74\n",
      "Class name --> cable\n",
      "Confidence ---> 0.56\n",
      "Class name --> cable\n",
      "Confidence ---> 0.54\n",
      "Class name --> cable\n",
      "Confidence ---> 0.52\n",
      "Class name --> cable\n",
      "Confidence ---> 0.43\n",
      "Class name --> cable\n",
      "Confidence ---> 0.29\n",
      "Class name --> cable\n",
      "Confidence ---> 0.27\n",
      "Class name --> cable\n"
     ]
    },
    {
     "name": "stderr",
     "output_type": "stream",
     "text": [
      "0: 480x640 10 cabels, 218.1ms\n",
      "Speed: 0.0ms preprocess, 218.1ms inference, 22.2ms postprocess per image at shape (1, 3, 480, 640)\n",
      "\n"
     ]
    },
    {
     "name": "stdout",
     "output_type": "stream",
     "text": [
      "Confidence ---> 0.75\n",
      "Class name --> cable\n",
      "Confidence ---> 0.67\n",
      "Class name --> cable\n",
      "Confidence ---> 0.65\n",
      "Class name --> cable\n",
      "Confidence ---> 0.58\n",
      "Class name --> cable\n",
      "Confidence ---> 0.46\n",
      "Class name --> cable\n",
      "Confidence ---> 0.43\n",
      "Class name --> cable\n",
      "Confidence ---> 0.42\n",
      "Class name --> cable\n",
      "Confidence ---> 0.34\n",
      "Class name --> cable\n",
      "Confidence ---> 0.3\n",
      "Class name --> cable\n",
      "Confidence ---> 0.27\n",
      "Class name --> cable\n"
     ]
    },
    {
     "name": "stderr",
     "output_type": "stream",
     "text": [
      "0: 480x640 9 cabels, 214.5ms\n",
      "Speed: 1.5ms preprocess, 214.5ms inference, 19.7ms postprocess per image at shape (1, 3, 480, 640)\n",
      "\n"
     ]
    },
    {
     "name": "stdout",
     "output_type": "stream",
     "text": [
      "Confidence ---> 0.74\n",
      "Class name --> cable\n",
      "Confidence ---> 0.68\n",
      "Class name --> cable\n",
      "Confidence ---> 0.47\n",
      "Class name --> cable\n",
      "Confidence ---> 0.43\n",
      "Class name --> cable\n",
      "Confidence ---> 0.42\n",
      "Class name --> cable\n",
      "Confidence ---> 0.37\n",
      "Class name --> cable\n",
      "Confidence ---> 0.35\n",
      "Class name --> cable\n",
      "Confidence ---> 0.32\n",
      "Class name --> cable\n",
      "Confidence ---> 0.3\n",
      "Class name --> cable\n"
     ]
    },
    {
     "name": "stderr",
     "output_type": "stream",
     "text": [
      "0: 480x640 6 cabels, 197.2ms\n",
      "Speed: 1.0ms preprocess, 197.2ms inference, 17.6ms postprocess per image at shape (1, 3, 480, 640)\n",
      "\n"
     ]
    },
    {
     "name": "stdout",
     "output_type": "stream",
     "text": [
      "Confidence ---> 0.68\n",
      "Class name --> cable\n",
      "Confidence ---> 0.65\n",
      "Class name --> cable\n",
      "Confidence ---> 0.61\n",
      "Class name --> cable\n",
      "Confidence ---> 0.47\n",
      "Class name --> cable\n",
      "Confidence ---> 0.42\n",
      "Class name --> cable\n",
      "Confidence ---> 0.4\n",
      "Class name --> cable\n"
     ]
    },
    {
     "name": "stderr",
     "output_type": "stream",
     "text": [
      "0: 480x640 9 cabels, 211.3ms\n",
      "Speed: 1.7ms preprocess, 211.3ms inference, 15.2ms postprocess per image at shape (1, 3, 480, 640)\n",
      "\n"
     ]
    },
    {
     "name": "stdout",
     "output_type": "stream",
     "text": [
      "Confidence ---> 0.73\n",
      "Class name --> cable\n",
      "Confidence ---> 0.55\n",
      "Class name --> cable\n",
      "Confidence ---> 0.55\n",
      "Class name --> cable\n",
      "Confidence ---> 0.53\n",
      "Class name --> cable\n",
      "Confidence ---> 0.44\n",
      "Class name --> cable\n",
      "Confidence ---> 0.43\n",
      "Class name --> cable\n",
      "Confidence ---> 0.43\n",
      "Class name --> cable\n",
      "Confidence ---> 0.35\n",
      "Class name --> cable\n",
      "Confidence ---> 0.32\n",
      "Class name --> cable\n"
     ]
    },
    {
     "name": "stderr",
     "output_type": "stream",
     "text": [
      "0: 480x640 3 cabels, 213.4ms\n",
      "Speed: 1.0ms preprocess, 213.4ms inference, 10.0ms postprocess per image at shape (1, 3, 480, 640)\n",
      "\n"
     ]
    },
    {
     "name": "stdout",
     "output_type": "stream",
     "text": [
      "Confidence ---> 0.57\n",
      "Class name --> cable\n",
      "Confidence ---> 0.5\n",
      "Class name --> cable\n",
      "Confidence ---> 0.43\n",
      "Class name --> cable\n"
     ]
    },
    {
     "name": "stderr",
     "output_type": "stream",
     "text": [
      "0: 480x640 (no detections), 278.3ms\n",
      "Speed: 7.8ms preprocess, 278.3ms inference, 1.0ms postprocess per image at shape (1, 3, 480, 640)\n",
      "\n",
      "0: 480x640 (no detections), 200.5ms\n",
      "Speed: 10.5ms preprocess, 200.5ms inference, 2.0ms postprocess per image at shape (1, 3, 480, 640)\n",
      "\n",
      "0: 480x640 (no detections), 197.0ms\n",
      "Speed: 0.0ms preprocess, 197.0ms inference, 2.1ms postprocess per image at shape (1, 3, 480, 640)\n",
      "\n",
      "0: 480x640 1 cabel, 193.3ms\n",
      "Speed: 2.2ms preprocess, 193.3ms inference, 3.5ms postprocess per image at shape (1, 3, 480, 640)\n",
      "\n"
     ]
    },
    {
     "name": "stdout",
     "output_type": "stream",
     "text": [
      "Confidence ---> 0.27\n",
      "Class name --> cable\n"
     ]
    },
    {
     "name": "stderr",
     "output_type": "stream",
     "text": [
      "0: 480x640 (no detections), 180.3ms\n",
      "Speed: 4.1ms preprocess, 180.3ms inference, 0.0ms postprocess per image at shape (1, 3, 480, 640)\n",
      "\n",
      "0: 480x640 (no detections), 200.7ms\n",
      "Speed: 1.0ms preprocess, 200.7ms inference, 0.0ms postprocess per image at shape (1, 3, 480, 640)\n",
      "\n",
      "0: 480x640 (no detections), 193.4ms\n",
      "Speed: 0.0ms preprocess, 193.4ms inference, 2.3ms postprocess per image at shape (1, 3, 480, 640)\n",
      "\n",
      "0: 480x640 (no detections), 190.6ms\n",
      "Speed: 2.6ms preprocess, 190.6ms inference, 0.5ms postprocess per image at shape (1, 3, 480, 640)\n",
      "\n",
      "0: 480x640 (no detections), 188.2ms\n",
      "Speed: 3.4ms preprocess, 188.2ms inference, 0.0ms postprocess per image at shape (1, 3, 480, 640)\n",
      "\n",
      "0: 480x640 (no detections), 163.1ms\n",
      "Speed: 3.8ms preprocess, 163.1ms inference, 0.0ms postprocess per image at shape (1, 3, 480, 640)\n",
      "\n",
      "0: 480x640 (no detections), 170.9ms\n",
      "Speed: 2.8ms preprocess, 170.9ms inference, 0.0ms postprocess per image at shape (1, 3, 480, 640)\n",
      "\n",
      "0: 480x640 (no detections), 196.0ms\n",
      "Speed: 0.0ms preprocess, 196.0ms inference, 0.5ms postprocess per image at shape (1, 3, 480, 640)\n",
      "\n",
      "0: 480x640 (no detections), 173.0ms\n",
      "Speed: 3.0ms preprocess, 173.0ms inference, 0.0ms postprocess per image at shape (1, 3, 480, 640)\n",
      "\n",
      "0: 480x640 (no detections), 182.6ms\n",
      "Speed: 2.1ms preprocess, 182.6ms inference, 0.0ms postprocess per image at shape (1, 3, 480, 640)\n",
      "\n",
      "0: 480x640 (no detections), 203.7ms\n",
      "Speed: 1.6ms preprocess, 203.7ms inference, 1.0ms postprocess per image at shape (1, 3, 480, 640)\n",
      "\n",
      "0: 480x640 (no detections), 190.6ms\n",
      "Speed: 2.1ms preprocess, 190.6ms inference, 2.6ms postprocess per image at shape (1, 3, 480, 640)\n",
      "\n",
      "0: 480x640 (no detections), 159.2ms\n",
      "Speed: 0.0ms preprocess, 159.2ms inference, 0.0ms postprocess per image at shape (1, 3, 480, 640)\n",
      "\n",
      "0: 480x640 (no detections), 175.6ms\n",
      "Speed: 2.7ms preprocess, 175.6ms inference, 0.0ms postprocess per image at shape (1, 3, 480, 640)\n",
      "\n",
      "0: 480x640 (no detections), 165.5ms\n",
      "Speed: 4.5ms preprocess, 165.5ms inference, 0.0ms postprocess per image at shape (1, 3, 480, 640)\n",
      "\n",
      "0: 480x640 (no detections), 188.6ms\n",
      "Speed: 0.0ms preprocess, 188.6ms inference, 0.0ms postprocess per image at shape (1, 3, 480, 640)\n",
      "\n",
      "0: 480x640 (no detections), 175.1ms\n",
      "Speed: 0.0ms preprocess, 175.1ms inference, 0.0ms postprocess per image at shape (1, 3, 480, 640)\n",
      "\n",
      "0: 480x640 (no detections), 187.3ms\n",
      "Speed: 0.0ms preprocess, 187.3ms inference, 0.0ms postprocess per image at shape (1, 3, 480, 640)\n",
      "\n",
      "0: 480x640 (no detections), 183.2ms\n",
      "Speed: 3.3ms preprocess, 183.2ms inference, 0.0ms postprocess per image at shape (1, 3, 480, 640)\n",
      "\n",
      "0: 480x640 (no detections), 188.8ms\n",
      "Speed: 2.3ms preprocess, 188.8ms inference, 0.0ms postprocess per image at shape (1, 3, 480, 640)\n",
      "\n",
      "0: 480x640 (no detections), 185.6ms\n",
      "Speed: 0.0ms preprocess, 185.6ms inference, 0.0ms postprocess per image at shape (1, 3, 480, 640)\n",
      "\n",
      "0: 480x640 (no detections), 215.4ms\n",
      "Speed: 0.0ms preprocess, 215.4ms inference, 0.0ms postprocess per image at shape (1, 3, 480, 640)\n",
      "\n",
      "0: 480x640 (no detections), 161.2ms\n",
      "Speed: 0.0ms preprocess, 161.2ms inference, 0.0ms postprocess per image at shape (1, 3, 480, 640)\n",
      "\n",
      "0: 480x640 (no detections), 188.7ms\n",
      "Speed: 0.0ms preprocess, 188.7ms inference, 1.0ms postprocess per image at shape (1, 3, 480, 640)\n",
      "\n",
      "0: 480x640 (no detections), 180.0ms\n",
      "Speed: 0.0ms preprocess, 180.0ms inference, 0.0ms postprocess per image at shape (1, 3, 480, 640)\n",
      "\n",
      "0: 480x640 (no detections), 171.5ms\n",
      "Speed: 0.0ms preprocess, 171.5ms inference, 0.0ms postprocess per image at shape (1, 3, 480, 640)\n",
      "\n",
      "0: 480x640 (no detections), 181.9ms\n",
      "Speed: 3.0ms preprocess, 181.9ms inference, 0.0ms postprocess per image at shape (1, 3, 480, 640)\n",
      "\n",
      "0: 480x640 (no detections), 173.5ms\n",
      "Speed: 0.0ms preprocess, 173.5ms inference, 0.0ms postprocess per image at shape (1, 3, 480, 640)\n",
      "\n",
      "0: 480x640 (no detections), 181.5ms\n",
      "Speed: 0.0ms preprocess, 181.5ms inference, 0.0ms postprocess per image at shape (1, 3, 480, 640)\n",
      "\n",
      "0: 480x640 (no detections), 166.7ms\n",
      "Speed: 3.6ms preprocess, 166.7ms inference, 0.0ms postprocess per image at shape (1, 3, 480, 640)\n",
      "\n",
      "0: 480x640 1 cabel, 168.4ms\n",
      "Speed: 3.1ms preprocess, 168.4ms inference, 0.0ms postprocess per image at shape (1, 3, 480, 640)\n",
      "\n"
     ]
    },
    {
     "name": "stdout",
     "output_type": "stream",
     "text": [
      "Confidence ---> 0.3\n",
      "Class name --> cable\n"
     ]
    },
    {
     "name": "stderr",
     "output_type": "stream",
     "text": [
      "0: 480x640 (no detections), 177.5ms\n",
      "Speed: 0.0ms preprocess, 177.5ms inference, 0.0ms postprocess per image at shape (1, 3, 480, 640)\n",
      "\n",
      "0: 480x640 (no detections), 182.2ms\n",
      "Speed: 2.2ms preprocess, 182.2ms inference, 0.0ms postprocess per image at shape (1, 3, 480, 640)\n",
      "\n",
      "0: 480x640 (no detections), 192.3ms\n",
      "Speed: 0.0ms preprocess, 192.3ms inference, 0.0ms postprocess per image at shape (1, 3, 480, 640)\n",
      "\n",
      "0: 480x640 1 cabel, 182.0ms\n",
      "Speed: 0.0ms preprocess, 182.0ms inference, 0.0ms postprocess per image at shape (1, 3, 480, 640)\n",
      "\n",
      "0: 480x640 1 cabel, 162.1ms\n"
     ]
    },
    {
     "name": "stdout",
     "output_type": "stream",
     "text": [
      "Confidence ---> 0.28\n",
      "Class name --> cable\n",
      "Confidence ---> 0.31\n",
      "Class name --> cable\n"
     ]
    },
    {
     "name": "stderr",
     "output_type": "stream",
     "text": [
      "Speed: 2.8ms preprocess, 162.1ms inference, 14.4ms postprocess per image at shape (1, 3, 480, 640)\n",
      "\n",
      "0: 480x640 (no detections), 194.4ms\n",
      "Speed: 0.5ms preprocess, 194.4ms inference, 0.0ms postprocess per image at shape (1, 3, 480, 640)\n",
      "\n",
      "0: 480x640 2 cabels, 176.8ms\n",
      "Speed: 0.0ms preprocess, 176.8ms inference, 7.8ms postprocess per image at shape (1, 3, 480, 640)\n",
      "\n"
     ]
    },
    {
     "name": "stdout",
     "output_type": "stream",
     "text": [
      "Confidence ---> 0.28\n",
      "Class name --> cable\n",
      "Confidence ---> 0.26\n",
      "Class name --> cable\n"
     ]
    },
    {
     "name": "stderr",
     "output_type": "stream",
     "text": [
      "0: 480x640 1 cabel, 183.1ms\n",
      "Speed: 4.3ms preprocess, 183.1ms inference, 0.0ms postprocess per image at shape (1, 3, 480, 640)\n",
      "\n"
     ]
    },
    {
     "name": "stdout",
     "output_type": "stream",
     "text": [
      "Confidence ---> 0.31\n",
      "Class name --> cable\n"
     ]
    },
    {
     "name": "stderr",
     "output_type": "stream",
     "text": [
      "0: 480x640 1 cabel, 197.3ms\n",
      "Speed: 0.0ms preprocess, 197.3ms inference, 2.1ms postprocess per image at shape (1, 3, 480, 640)\n",
      "\n"
     ]
    },
    {
     "name": "stdout",
     "output_type": "stream",
     "text": [
      "Confidence ---> 0.34\n",
      "Class name --> cable\n"
     ]
    },
    {
     "name": "stderr",
     "output_type": "stream",
     "text": [
      "0: 480x640 1 cabel, 262.5ms\n",
      "Speed: 2.2ms preprocess, 262.5ms inference, 7.7ms postprocess per image at shape (1, 3, 480, 640)\n",
      "\n",
      "0: 480x640 1 cabel, 179.2ms\n"
     ]
    },
    {
     "name": "stdout",
     "output_type": "stream",
     "text": [
      "Confidence ---> 0.29\n",
      "Class name --> cable\n",
      "Confidence ---> 0.42\n",
      "Class name --> cable\n"
     ]
    },
    {
     "name": "stderr",
     "output_type": "stream",
     "text": [
      "Speed: 3.5ms preprocess, 179.2ms inference, 4.7ms postprocess per image at shape (1, 3, 480, 640)\n",
      "\n",
      "0: 480x640 1 cabel, 180.5ms\n",
      "Speed: 3.1ms preprocess, 180.5ms inference, 0.0ms postprocess per image at shape (1, 3, 480, 640)\n",
      "\n"
     ]
    },
    {
     "name": "stdout",
     "output_type": "stream",
     "text": [
      "Confidence ---> 0.31\n",
      "Class name --> cable\n",
      "Confidence ---> 0.3\n",
      "Class name --> cable\n"
     ]
    },
    {
     "name": "stderr",
     "output_type": "stream",
     "text": [
      "0: 480x640 1 cabel, 185.0ms\n",
      "Speed: 2.6ms preprocess, 185.0ms inference, 0.0ms postprocess per image at shape (1, 3, 480, 640)\n",
      "\n",
      "0: 480x640 1 cabel, 201.9ms\n",
      "Speed: 0.0ms preprocess, 201.9ms inference, 7.8ms postprocess per image at shape (1, 3, 480, 640)\n",
      "\n",
      "0: 480x640 1 cabel, 183.1ms\n"
     ]
    },
    {
     "name": "stdout",
     "output_type": "stream",
     "text": [
      "Confidence ---> 0.39\n",
      "Class name --> cable\n",
      "Confidence ---> 0.36\n",
      "Class name --> cable\n"
     ]
    },
    {
     "name": "stderr",
     "output_type": "stream",
     "text": [
      "Speed: 0.0ms preprocess, 183.1ms inference, 2.1ms postprocess per image at shape (1, 3, 480, 640)\n",
      "\n",
      "0: 480x640 1 cabel, 197.7ms\n",
      "Speed: 0.0ms preprocess, 197.7ms inference, 8.1ms postprocess per image at shape (1, 3, 480, 640)\n",
      "\n",
      "0: 480x640 1 cabel, 186.2ms\n"
     ]
    },
    {
     "name": "stdout",
     "output_type": "stream",
     "text": [
      "Confidence ---> 0.4\n",
      "Class name --> cable\n",
      "Confidence ---> 0.31\n",
      "Class name --> cable\n"
     ]
    },
    {
     "name": "stderr",
     "output_type": "stream",
     "text": [
      "Speed: 0.0ms preprocess, 186.2ms inference, 10.3ms postprocess per image at shape (1, 3, 480, 640)\n",
      "\n",
      "0: 480x640 1 cabel, 190.6ms\n",
      "Speed: 0.0ms preprocess, 190.6ms inference, 9.8ms postprocess per image at shape (1, 3, 480, 640)\n",
      "\n",
      "0: 480x640 1 cabel, 182.7ms\n"
     ]
    },
    {
     "name": "stdout",
     "output_type": "stream",
     "text": [
      "Confidence ---> 0.37\n",
      "Class name --> cable\n",
      "Confidence ---> 0.32\n",
      "Class name --> cable\n"
     ]
    },
    {
     "name": "stderr",
     "output_type": "stream",
     "text": [
      "Speed: 2.1ms preprocess, 182.7ms inference, 0.0ms postprocess per image at shape (1, 3, 480, 640)\n",
      "\n",
      "0: 480x640 1 cabel, 194.6ms\n",
      "Speed: 0.0ms preprocess, 194.6ms inference, 0.0ms postprocess per image at shape (1, 3, 480, 640)\n",
      "\n",
      "0: 480x640 1 cabel, 176.2ms\n"
     ]
    },
    {
     "name": "stdout",
     "output_type": "stream",
     "text": [
      "Confidence ---> 0.31\n",
      "Class name --> cable\n",
      "Confidence ---> 0.35\n",
      "Class name --> cable\n"
     ]
    },
    {
     "name": "stderr",
     "output_type": "stream",
     "text": [
      "Speed: 0.0ms preprocess, 176.2ms inference, 0.0ms postprocess per image at shape (1, 3, 480, 640)\n",
      "\n",
      "0: 480x640 1 cabel, 192.5ms\n",
      "Speed: 5.3ms preprocess, 192.5ms inference, 0.0ms postprocess per image at shape (1, 3, 480, 640)\n",
      "\n"
     ]
    },
    {
     "name": "stdout",
     "output_type": "stream",
     "text": [
      "Confidence ---> 0.43\n",
      "Class name --> cable\n"
     ]
    },
    {
     "name": "stderr",
     "output_type": "stream",
     "text": [
      "0: 480x640 1 cabel, 218.8ms\n",
      "Speed: 0.0ms preprocess, 218.8ms inference, 12.4ms postprocess per image at shape (1, 3, 480, 640)\n",
      "\n"
     ]
    },
    {
     "name": "stdout",
     "output_type": "stream",
     "text": [
      "Confidence ---> 0.31\n",
      "Class name --> cable\n"
     ]
    },
    {
     "name": "stderr",
     "output_type": "stream",
     "text": [
      "0: 480x640 (no detections), 187.1ms\n",
      "Speed: 2.7ms preprocess, 187.1ms inference, 0.0ms postprocess per image at shape (1, 3, 480, 640)\n",
      "\n",
      "0: 480x640 1 cabel, 189.2ms\n",
      "Speed: 0.0ms preprocess, 189.2ms inference, 10.5ms postprocess per image at shape (1, 3, 480, 640)\n",
      "\n"
     ]
    },
    {
     "name": "stdout",
     "output_type": "stream",
     "text": [
      "Confidence ---> 0.31\n",
      "Class name --> cable\n",
      "Confidence ---> 0.34\n",
      "Class name --> cable\n"
     ]
    },
    {
     "name": "stderr",
     "output_type": "stream",
     "text": [
      "0: 480x640 1 cabel, 177.0ms\n",
      "Speed: 0.0ms preprocess, 177.0ms inference, 0.0ms postprocess per image at shape (1, 3, 480, 640)\n",
      "\n",
      "0: 480x640 (no detections), 207.8ms\n",
      "Speed: 2.9ms preprocess, 207.8ms inference, 0.0ms postprocess per image at shape (1, 3, 480, 640)\n",
      "\n",
      "0: 480x640 1 cabel, 179.2ms\n",
      "Speed: 5.2ms preprocess, 179.2ms inference, 0.0ms postprocess per image at shape (1, 3, 480, 640)\n",
      "\n",
      "0: 480x640 (no detections), 168.5ms\n"
     ]
    },
    {
     "name": "stdout",
     "output_type": "stream",
     "text": [
      "Confidence ---> 0.26\n",
      "Class name --> cable\n"
     ]
    },
    {
     "name": "stderr",
     "output_type": "stream",
     "text": [
      "Speed: 0.0ms preprocess, 168.5ms inference, 0.0ms postprocess per image at shape (1, 3, 480, 640)\n",
      "\n",
      "0: 480x640 1 cabel, 188.3ms\n",
      "Speed: 0.0ms preprocess, 188.3ms inference, 0.0ms postprocess per image at shape (1, 3, 480, 640)\n",
      "\n"
     ]
    },
    {
     "name": "stdout",
     "output_type": "stream",
     "text": [
      "Confidence ---> 0.31\n",
      "Class name --> cable\n"
     ]
    },
    {
     "name": "stderr",
     "output_type": "stream",
     "text": [
      "0: 480x640 (no detections), 165.2ms\n",
      "Speed: 0.0ms preprocess, 165.2ms inference, 0.0ms postprocess per image at shape (1, 3, 480, 640)\n",
      "\n",
      "0: 480x640 (no detections), 194.6ms\n",
      "Speed: 0.0ms preprocess, 194.6ms inference, 0.0ms postprocess per image at shape (1, 3, 480, 640)\n",
      "\n",
      "0: 480x640 (no detections), 170.7ms\n",
      "Speed: 3.5ms preprocess, 170.7ms inference, 0.0ms postprocess per image at shape (1, 3, 480, 640)\n",
      "\n",
      "0: 480x640 (no detections), 176.3ms\n",
      "Speed: 4.4ms preprocess, 176.3ms inference, 0.0ms postprocess per image at shape (1, 3, 480, 640)\n",
      "\n",
      "0: 480x640 (no detections), 191.9ms\n",
      "Speed: 0.0ms preprocess, 191.9ms inference, 0.0ms postprocess per image at shape (1, 3, 480, 640)\n",
      "\n",
      "0: 480x640 1 cabel, 186.4ms\n",
      "Speed: 0.0ms preprocess, 186.4ms inference, 0.0ms postprocess per image at shape (1, 3, 480, 640)\n",
      "\n",
      "0: 480x640 (no detections), 185.0ms\n"
     ]
    },
    {
     "name": "stdout",
     "output_type": "stream",
     "text": [
      "Confidence ---> 0.3\n",
      "Class name --> cable\n"
     ]
    },
    {
     "name": "stderr",
     "output_type": "stream",
     "text": [
      "Speed: 0.0ms preprocess, 185.0ms inference, 0.0ms postprocess per image at shape (1, 3, 480, 640)\n",
      "\n",
      "0: 480x640 (no detections), 235.0ms\n",
      "Speed: 1.7ms preprocess, 235.0ms inference, 0.0ms postprocess per image at shape (1, 3, 480, 640)\n",
      "\n",
      "0: 480x640 1 cabel, 189.7ms\n",
      "Speed: 2.1ms preprocess, 189.7ms inference, 0.0ms postprocess per image at shape (1, 3, 480, 640)\n",
      "\n",
      "0: 480x640 (no detections), 181.6ms\n"
     ]
    },
    {
     "name": "stdout",
     "output_type": "stream",
     "text": [
      "Confidence ---> 0.28\n",
      "Class name --> cable\n"
     ]
    },
    {
     "name": "stderr",
     "output_type": "stream",
     "text": [
      "Speed: 0.0ms preprocess, 181.6ms inference, 0.0ms postprocess per image at shape (1, 3, 480, 640)\n",
      "\n",
      "0: 480x640 1 cabel, 192.0ms\n",
      "Speed: 2.5ms preprocess, 192.0ms inference, 0.0ms postprocess per image at shape (1, 3, 480, 640)\n",
      "\n",
      "0: 480x640 1 cabel, 166.4ms\n",
      "Speed: 0.0ms preprocess, 166.4ms inference, 0.0ms postprocess per image at shape (1, 3, 480, 640)\n"
     ]
    },
    {
     "name": "stdout",
     "output_type": "stream",
     "text": [
      "Confidence ---> 0.32\n",
      "Class name --> cable\n",
      "Confidence ---> 0.29\n",
      "Class name --> cable\n"
     ]
    },
    {
     "name": "stderr",
     "output_type": "stream",
     "text": [
      "\n",
      "0: 480x640 2 cabels, 184.7ms\n",
      "Speed: 2.9ms preprocess, 184.7ms inference, 8.1ms postprocess per image at shape (1, 3, 480, 640)\n",
      "\n"
     ]
    },
    {
     "name": "stdout",
     "output_type": "stream",
     "text": [
      "Confidence ---> 0.51\n",
      "Class name --> cable\n",
      "Confidence ---> 0.35\n",
      "Class name --> cable\n"
     ]
    },
    {
     "name": "stderr",
     "output_type": "stream",
     "text": [
      "0: 480x640 2 cabels, 196.0ms\n",
      "Speed: 2.0ms preprocess, 196.0ms inference, 6.5ms postprocess per image at shape (1, 3, 480, 640)\n",
      "\n"
     ]
    },
    {
     "name": "stdout",
     "output_type": "stream",
     "text": [
      "Confidence ---> 0.39\n",
      "Class name --> cable\n",
      "Confidence ---> 0.3\n",
      "Class name --> cable\n"
     ]
    },
    {
     "name": "stderr",
     "output_type": "stream",
     "text": [
      "0: 480x640 2 cabels, 204.2ms\n",
      "Speed: 1.3ms preprocess, 204.2ms inference, 10.6ms postprocess per image at shape (1, 3, 480, 640)\n",
      "\n"
     ]
    },
    {
     "name": "stdout",
     "output_type": "stream",
     "text": [
      "Confidence ---> 0.33\n",
      "Class name --> cable\n",
      "Confidence ---> 0.32\n",
      "Class name --> cable\n"
     ]
    },
    {
     "name": "stderr",
     "output_type": "stream",
     "text": [
      "0: 480x640 1 cabel, 206.4ms\n",
      "Speed: 3.9ms preprocess, 206.4ms inference, 4.1ms postprocess per image at shape (1, 3, 480, 640)\n",
      "\n"
     ]
    },
    {
     "name": "stdout",
     "output_type": "stream",
     "text": [
      "Confidence ---> 0.31\n",
      "Class name --> cable\n"
     ]
    },
    {
     "name": "stderr",
     "output_type": "stream",
     "text": [
      "0: 480x640 (no detections), 197.0ms\n",
      "Speed: 2.0ms preprocess, 197.0ms inference, 0.1ms postprocess per image at shape (1, 3, 480, 640)\n",
      "\n",
      "0: 480x640 2 cabels, 198.8ms\n",
      "Speed: 3.6ms preprocess, 198.8ms inference, 11.6ms postprocess per image at shape (1, 3, 480, 640)\n",
      "\n"
     ]
    },
    {
     "name": "stdout",
     "output_type": "stream",
     "text": [
      "Confidence ---> 0.32\n",
      "Class name --> cable\n",
      "Confidence ---> 0.26\n",
      "Class name --> cable\n"
     ]
    },
    {
     "name": "stderr",
     "output_type": "stream",
     "text": [
      "0: 480x640 2 cabels, 195.2ms\n",
      "Speed: 0.0ms preprocess, 195.2ms inference, 1.0ms postprocess per image at shape (1, 3, 480, 640)\n",
      "\n"
     ]
    },
    {
     "name": "stdout",
     "output_type": "stream",
     "text": [
      "Confidence ---> 0.36\n",
      "Class name --> cable\n",
      "Confidence ---> 0.26\n",
      "Class name --> cable\n"
     ]
    },
    {
     "name": "stderr",
     "output_type": "stream",
     "text": [
      "0: 480x640 (no detections), 243.6ms\n",
      "Speed: 3.8ms preprocess, 243.6ms inference, 0.0ms postprocess per image at shape (1, 3, 480, 640)\n",
      "\n",
      "0: 480x640 (no detections), 192.9ms\n",
      "Speed: 1.0ms preprocess, 192.9ms inference, 0.0ms postprocess per image at shape (1, 3, 480, 640)\n",
      "\n",
      "0: 480x640 1 cabel, 175.4ms\n",
      "Speed: 0.0ms preprocess, 175.4ms inference, 0.0ms postprocess per image at shape (1, 3, 480, 640)\n",
      "\n",
      "0: 480x640 1 cabel, 164.9ms\n"
     ]
    },
    {
     "name": "stdout",
     "output_type": "stream",
     "text": [
      "Confidence ---> 0.68\n",
      "Class name --> cable\n",
      "Confidence ---> 0.54\n",
      "Class name --> cable\n"
     ]
    },
    {
     "name": "stderr",
     "output_type": "stream",
     "text": [
      "Speed: 0.0ms preprocess, 164.9ms inference, 15.8ms postprocess per image at shape (1, 3, 480, 640)\n",
      "\n",
      "0: 480x640 1 cabel, 199.8ms\n",
      "Speed: 0.0ms preprocess, 199.8ms inference, 8.5ms postprocess per image at shape (1, 3, 480, 640)\n",
      "\n",
      "0: 480x640 (no detections), 176.4ms\n",
      "Speed: 0.0ms preprocess, 176.4ms inference, 0.0ms postprocess per image at shape (1, 3, 480, 640)\n"
     ]
    },
    {
     "name": "stdout",
     "output_type": "stream",
     "text": [
      "Confidence ---> 0.44\n",
      "Class name --> cable\n"
     ]
    },
    {
     "name": "stderr",
     "output_type": "stream",
     "text": [
      "\n",
      "0: 480x640 (no detections), 184.4ms\n",
      "Speed: 2.2ms preprocess, 184.4ms inference, 0.0ms postprocess per image at shape (1, 3, 480, 640)\n",
      "\n",
      "0: 480x640 (no detections), 164.1ms\n",
      "Speed: 2.8ms preprocess, 164.1ms inference, 0.0ms postprocess per image at shape (1, 3, 480, 640)\n",
      "\n",
      "0: 480x640 (no detections), 189.6ms\n",
      "Speed: 38.7ms preprocess, 189.6ms inference, 0.0ms postprocess per image at shape (1, 3, 480, 640)\n",
      "\n",
      "0: 480x640 1 cabel, 176.3ms\n",
      "Speed: 4.1ms preprocess, 176.3ms inference, 0.0ms postprocess per image at shape (1, 3, 480, 640)\n",
      "\n"
     ]
    },
    {
     "name": "stdout",
     "output_type": "stream",
     "text": [
      "Confidence ---> 0.29\n",
      "Class name --> cable\n"
     ]
    },
    {
     "name": "stderr",
     "output_type": "stream",
     "text": [
      "0: 480x640 2 cabels, 168.7ms\n",
      "Speed: 2.6ms preprocess, 168.7ms inference, 16.3ms postprocess per image at shape (1, 3, 480, 640)\n",
      "\n"
     ]
    },
    {
     "name": "stdout",
     "output_type": "stream",
     "text": [
      "Confidence ---> 0.37\n",
      "Class name --> cable\n",
      "Confidence ---> 0.35\n",
      "Class name --> cable\n"
     ]
    },
    {
     "name": "stderr",
     "output_type": "stream",
     "text": [
      "0: 480x640 (no detections), 191.4ms\n",
      "Speed: 0.0ms preprocess, 191.4ms inference, 0.0ms postprocess per image at shape (1, 3, 480, 640)\n",
      "\n",
      "0: 480x640 1 cabel, 199.4ms\n",
      "Speed: 1.4ms preprocess, 199.4ms inference, 1.8ms postprocess per image at shape (1, 3, 480, 640)\n",
      "\n",
      "0: 480x640 (no detections), 187.2ms\n"
     ]
    },
    {
     "name": "stdout",
     "output_type": "stream",
     "text": [
      "Confidence ---> 0.26\n",
      "Class name --> cable\n"
     ]
    },
    {
     "name": "stderr",
     "output_type": "stream",
     "text": [
      "Speed: 7.8ms preprocess, 187.2ms inference, 0.0ms postprocess per image at shape (1, 3, 480, 640)\n",
      "\n",
      "0: 480x640 1 cabel, 200.4ms\n",
      "Speed: 0.0ms preprocess, 200.4ms inference, 0.0ms postprocess per image at shape (1, 3, 480, 640)\n",
      "\n",
      "0: 480x640 (no detections), 182.1ms\n"
     ]
    },
    {
     "name": "stdout",
     "output_type": "stream",
     "text": [
      "Confidence ---> 0.35\n",
      "Class name --> cable\n"
     ]
    },
    {
     "name": "stderr",
     "output_type": "stream",
     "text": [
      "Speed: 1.9ms preprocess, 182.1ms inference, 0.0ms postprocess per image at shape (1, 3, 480, 640)\n",
      "\n",
      "0: 480x640 1 cabel, 183.3ms\n",
      "Speed: 2.1ms preprocess, 183.3ms inference, 9.1ms postprocess per image at shape (1, 3, 480, 640)\n",
      "\n",
      "0: 480x640 1 cabel, 170.8ms\n"
     ]
    },
    {
     "name": "stdout",
     "output_type": "stream",
     "text": [
      "Confidence ---> 0.26\n",
      "Class name --> cable\n",
      "Confidence ---> 0.5\n",
      "Class name --> cable\n"
     ]
    },
    {
     "name": "stderr",
     "output_type": "stream",
     "text": [
      "Speed: 4.1ms preprocess, 170.8ms inference, 0.0ms postprocess per image at shape (1, 3, 480, 640)\n",
      "\n",
      "0: 480x640 (no detections), 184.3ms\n",
      "Speed: 0.0ms preprocess, 184.3ms inference, 0.0ms postprocess per image at shape (1, 3, 480, 640)\n",
      "\n",
      "0: 480x640 1 cabel, 179.5ms\n",
      "Speed: 0.0ms preprocess, 179.5ms inference, 0.0ms postprocess per image at shape (1, 3, 480, 640)\n",
      "\n",
      "0: 480x640 (no detections), 182.4ms\n"
     ]
    },
    {
     "name": "stdout",
     "output_type": "stream",
     "text": [
      "Confidence ---> 0.39\n",
      "Class name --> cable\n"
     ]
    },
    {
     "name": "stderr",
     "output_type": "stream",
     "text": [
      "Speed: 0.0ms preprocess, 182.4ms inference, 0.0ms postprocess per image at shape (1, 3, 480, 640)\n",
      "\n",
      "0: 480x640 (no detections), 200.8ms\n",
      "Speed: 0.0ms preprocess, 200.8ms inference, 0.0ms postprocess per image at shape (1, 3, 480, 640)\n",
      "\n",
      "0: 480x640 2 cabels, 223.5ms\n",
      "Speed: 0.0ms preprocess, 223.5ms inference, 9.9ms postprocess per image at shape (1, 3, 480, 640)\n",
      "\n"
     ]
    },
    {
     "name": "stdout",
     "output_type": "stream",
     "text": [
      "Confidence ---> 0.43\n",
      "Class name --> cable\n",
      "Confidence ---> 0.27\n",
      "Class name --> cable\n",
      "Confidence ---> 0.73\n",
      "Class name --> cable\n",
      "Confidence ---> 0.5\n",
      "Class name --> cable\n",
      "Confidence ---> 0.3\n",
      "Class name --> cable\n"
     ]
    },
    {
     "name": "stderr",
     "output_type": "stream",
     "text": [
      "0: 480x640 3 cabels, 183.0ms\n",
      "Speed: 5.3ms preprocess, 183.0ms inference, 5.8ms postprocess per image at shape (1, 3, 480, 640)\n",
      "\n",
      "0: 480x640 1 cabel, 187.6ms\n",
      "Speed: 0.0ms preprocess, 187.6ms inference, 0.0ms postprocess per image at shape (1, 3, 480, 640)\n",
      "\n",
      "0: 480x640 4 cabels, 184.8ms\n"
     ]
    },
    {
     "name": "stdout",
     "output_type": "stream",
     "text": [
      "Confidence ---> 0.26\n",
      "Class name --> cable\n",
      "Confidence ---> 0.48\n",
      "Class name --> cable\n",
      "Confidence ---> 0.42\n",
      "Class name --> cable\n",
      "Confidence ---> 0.38\n",
      "Class name --> cable\n",
      "Confidence ---> 0.28\n",
      "Class name --> cable\n"
     ]
    },
    {
     "name": "stderr",
     "output_type": "stream",
     "text": [
      "Speed: 0.0ms preprocess, 184.8ms inference, 9.1ms postprocess per image at shape (1, 3, 480, 640)\n",
      "\n",
      "0: 480x640 2 cabels, 201.7ms\n",
      "Speed: 0.0ms preprocess, 201.7ms inference, 10.4ms postprocess per image at shape (1, 3, 480, 640)\n",
      "\n",
      "0: 480x640 3 cabels, 183.8ms\n"
     ]
    },
    {
     "name": "stdout",
     "output_type": "stream",
     "text": [
      "Confidence ---> 0.33\n",
      "Class name --> cable\n",
      "Confidence ---> 0.32\n",
      "Class name --> cable\n",
      "Confidence ---> 0.47\n",
      "Class name --> cable\n",
      "Confidence ---> 0.37\n",
      "Class name --> cable\n",
      "Confidence ---> 0.36\n",
      "Class name --> cable\n"
     ]
    },
    {
     "name": "stderr",
     "output_type": "stream",
     "text": [
      "Speed: 0.0ms preprocess, 183.8ms inference, 10.2ms postprocess per image at shape (1, 3, 480, 640)\n",
      "\n",
      "0: 480x640 3 cabels, 209.0ms\n",
      "Speed: 4.5ms preprocess, 209.0ms inference, 2.1ms postprocess per image at shape (1, 3, 480, 640)\n",
      "\n",
      "0: 480x640 1 cabel, 176.2ms\n"
     ]
    },
    {
     "name": "stdout",
     "output_type": "stream",
     "text": [
      "Confidence ---> 0.44\n",
      "Class name --> cable\n",
      "Confidence ---> 0.38\n",
      "Class name --> cable\n",
      "Confidence ---> 0.33\n",
      "Class name --> cable\n",
      "Confidence ---> 0.35\n",
      "Class name --> cable\n"
     ]
    },
    {
     "name": "stderr",
     "output_type": "stream",
     "text": [
      "Speed: 0.0ms preprocess, 176.2ms inference, 0.0ms postprocess per image at shape (1, 3, 480, 640)\n",
      "\n",
      "0: 480x640 1 cabel, 194.8ms\n",
      "Speed: 0.5ms preprocess, 194.8ms inference, 0.0ms postprocess per image at shape (1, 3, 480, 640)\n",
      "\n"
     ]
    },
    {
     "name": "stdout",
     "output_type": "stream",
     "text": [
      "Confidence ---> 0.42\n",
      "Class name --> cable\n",
      "Confidence ---> 0.36\n",
      "Class name --> cable\n"
     ]
    },
    {
     "name": "stderr",
     "output_type": "stream",
     "text": [
      "0: 480x640 1 cabel, 165.5ms\n",
      "Speed: 0.5ms preprocess, 165.5ms inference, 0.0ms postprocess per image at shape (1, 3, 480, 640)\n",
      "\n",
      "0: 480x640 1 cabel, 187.1ms\n",
      "Speed: 5.9ms preprocess, 187.1ms inference, 0.0ms postprocess per image at shape (1, 3, 480, 640)\n",
      "\n"
     ]
    },
    {
     "name": "stdout",
     "output_type": "stream",
     "text": [
      "Confidence ---> 0.35\n",
      "Class name --> cable\n"
     ]
    },
    {
     "name": "stderr",
     "output_type": "stream",
     "text": [
      "0: 480x640 4 cabels, 193.2ms\n",
      "Speed: 0.0ms preprocess, 193.2ms inference, 8.6ms postprocess per image at shape (1, 3, 480, 640)\n",
      "\n"
     ]
    },
    {
     "name": "stdout",
     "output_type": "stream",
     "text": [
      "Confidence ---> 0.4\n",
      "Class name --> cable\n",
      "Confidence ---> 0.36\n",
      "Class name --> cable\n",
      "Confidence ---> 0.33\n",
      "Class name --> cable\n",
      "Confidence ---> 0.28\n",
      "Class name --> cable\n"
     ]
    },
    {
     "name": "stderr",
     "output_type": "stream",
     "text": [
      "0: 480x640 3 cabels, 195.2ms\n",
      "Speed: 1.1ms preprocess, 195.2ms inference, 17.6ms postprocess per image at shape (1, 3, 480, 640)\n",
      "\n"
     ]
    },
    {
     "name": "stdout",
     "output_type": "stream",
     "text": [
      "Confidence ---> 0.53\n",
      "Class name --> cable\n",
      "Confidence ---> 0.46\n",
      "Class name --> cable\n",
      "Confidence ---> 0.34\n",
      "Class name --> cable\n"
     ]
    },
    {
     "name": "stderr",
     "output_type": "stream",
     "text": [
      "0: 480x640 1 cabel, 251.2ms\n",
      "Speed: 2.4ms preprocess, 251.2ms inference, 8.9ms postprocess per image at shape (1, 3, 480, 640)\n",
      "\n",
      "0: 480x640 1 cabel, 180.2ms\n"
     ]
    },
    {
     "name": "stdout",
     "output_type": "stream",
     "text": [
      "Confidence ---> 0.48\n",
      "Class name --> cable\n",
      "Confidence ---> 0.27\n",
      "Class name --> cable\n"
     ]
    },
    {
     "name": "stderr",
     "output_type": "stream",
     "text": [
      "Speed: 2.6ms preprocess, 180.2ms inference, 0.0ms postprocess per image at shape (1, 3, 480, 640)\n",
      "\n",
      "0: 480x640 (no detections), 181.6ms\n",
      "Speed: 2.3ms preprocess, 181.6ms inference, 0.5ms postprocess per image at shape (1, 3, 480, 640)\n",
      "\n",
      "0: 480x640 1 cabel, 175.4ms\n",
      "Speed: 0.0ms preprocess, 175.4ms inference, 0.0ms postprocess per image at shape (1, 3, 480, 640)\n",
      "\n"
     ]
    },
    {
     "name": "stdout",
     "output_type": "stream",
     "text": [
      "Confidence ---> 0.28\n",
      "Class name --> cable\n"
     ]
    },
    {
     "name": "stderr",
     "output_type": "stream",
     "text": [
      "0: 480x640 1 cabel, 183.5ms\n",
      "Speed: 0.0ms preprocess, 183.5ms inference, 16.6ms postprocess per image at shape (1, 3, 480, 640)\n",
      "\n",
      "0: 480x640 1 cabel, 200.4ms\n"
     ]
    },
    {
     "name": "stdout",
     "output_type": "stream",
     "text": [
      "Confidence ---> 0.28\n",
      "Class name --> cable\n",
      "Confidence ---> 0.34\n",
      "Class name --> cable\n"
     ]
    },
    {
     "name": "stderr",
     "output_type": "stream",
     "text": [
      "Speed: 0.0ms preprocess, 200.4ms inference, 0.0ms postprocess per image at shape (1, 3, 480, 640)\n",
      "\n",
      "0: 480x640 (no detections), 196.9ms\n",
      "Speed: 0.0ms preprocess, 196.9ms inference, 0.0ms postprocess per image at shape (1, 3, 480, 640)\n",
      "\n",
      "0: 480x640 2 cabels, 166.9ms\n",
      "Speed: 0.0ms preprocess, 166.9ms inference, 8.1ms postprocess per image at shape (1, 3, 480, 640)\n",
      "\n",
      "0: 480x640 2 cabels, 181.3ms\n"
     ]
    },
    {
     "name": "stdout",
     "output_type": "stream",
     "text": [
      "Confidence ---> 0.36\n",
      "Class name --> cable\n",
      "Confidence ---> 0.31\n",
      "Class name --> cable\n",
      "Confidence ---> 0.3\n",
      "Class name --> cable\n",
      "Confidence ---> 0.26\n",
      "Class name --> cable\n"
     ]
    },
    {
     "name": "stderr",
     "output_type": "stream",
     "text": [
      "Speed: 0.0ms preprocess, 181.3ms inference, 3.4ms postprocess per image at shape (1, 3, 480, 640)\n",
      "\n",
      "0: 480x640 1 cabel, 193.1ms\n",
      "Speed: 0.0ms preprocess, 193.1ms inference, 8.5ms postprocess per image at shape (1, 3, 480, 640)\n"
     ]
    },
    {
     "name": "stdout",
     "output_type": "stream",
     "text": [
      "Confidence ---> 0.29\n",
      "Class name --> cable\n"
     ]
    }
   ],
   "source": [
    "from ultralytics import YOLO\n",
    "import cv2\n",
    "import math \n",
    "# start webcam\n",
    "cap = cv2.VideoCapture(0)\n",
    "cap.set(3, 640)\n",
    "cap.set(4, 480)\n",
    "\n",
    "# model\n",
    "model = YOLO(\"best.pt\")\n",
    "\n",
    "# object classes\n",
    "classNames = [\"cable\"]\n",
    "\n",
    "\n",
    "while True:\n",
    "    success, img = cap.read()\n",
    "    results = model(img, stream=True)\n",
    "\n",
    "    # coordinates\n",
    "    for r in results:\n",
    "        boxes = r.boxes\n",
    "\n",
    "        for box in boxes:\n",
    "            # bounding box\n",
    "            x1, y1, x2, y2 = box.xyxy[0]\n",
    "            x1, y1, x2, y2 = int(x1), int(y1), int(x2), int(y2)  # convert to int values\n",
    "\n",
    "            # put box in cam\n",
    "            cv2.rectangle(img, (x1, y1), (x2, y2), (255, 0, 255), 3)\n",
    "\n",
    "            # confidence\n",
    "            confidence = math.ceil((box.conf[0] * 100)) / 100\n",
    "            print(\"Confidence --->\", confidence)\n",
    "\n",
    "            # class name\n",
    "            cls = int(box.cls[0])\n",
    "            if 0 <= cls < len(classNames):\n",
    "                print(\"Class name -->\", classNames[cls])\n",
    "                \n",
    "                # object details\n",
    "                org = [x1, y1]\n",
    "                font = cv2.FONT_HERSHEY_SIMPLEX\n",
    "                fontScale = 1\n",
    "                color = (255, 0, 0)\n",
    "                thickness = 2\n",
    "\n",
    "                cv2.putText(img, classNames[cls], org, font, fontScale, color, thickness)\n",
    "            else:\n",
    "                print(\"Invalid class index:\", cls)\n",
    "\n",
    "    cv2.imshow('Webcam', img)\n",
    "    if cv2.waitKey(1) == ord('q'):\n",
    "        break\n",
    "\n",
    "cap.release()\n",
    "cv2.destroyAllWindows()"
   ]
  }
 ],
 "metadata": {
  "kernelspec": {
   "display_name": "Python 3",
   "language": "python",
   "name": "python3"
  },
  "language_info": {
   "codemirror_mode": {
    "name": "ipython",
    "version": 3
   },
   "file_extension": ".py",
   "mimetype": "text/x-python",
   "name": "python",
   "nbconvert_exporter": "python",
   "pygments_lexer": "ipython3",
   "version": "3.11.4"
  }
 },
 "nbformat": 4,
 "nbformat_minor": 2
}
