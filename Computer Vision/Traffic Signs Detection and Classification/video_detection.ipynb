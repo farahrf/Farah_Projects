{
 "cells": [
  {
   "cell_type": "code",
   "execution_count": 1,
   "metadata": {},
   "outputs": [
    {
     "name": "stderr",
     "output_type": "stream",
     "text": [
      "Downloading: \"https://github.com/ultralytics/yolov5/zipball/master\" to C:\\Users\\Farah Alarbid/.cache\\torch\\hub\\master.zip\n",
      "YOLOv5  2023-6-21 Python-3.10.9 torch-2.0.1+cpu CPU\n",
      "\n",
      "Fusing layers... \n",
      "Model summary: 157 layers, 7029004 parameters, 0 gradients, 15.8 GFLOPs\n",
      "Adding AutoShape... \n"
     ]
    }
   ],
   "source": [
    "import cv2 \n",
    "from PIL import Image\n",
    "from IPython.display import display\n",
    "import torch\n",
    "#load model\n",
    "model_path=\"C:/Users/Farah Alarbid/Downloads/Compressed/JordanianTrafficSigns/yolov5/runs/train/exp2/weights/best.pt\"\n",
    "model = torch.hub.load('ultralytics/yolov5', 'custom', path=model_path, force_reload=True)"
   ]
  },
  {
   "cell_type": "code",
   "execution_count": 5,
   "metadata": {},
   "outputs": [],
   "source": [
    "from math import ceil\n",
    "\n",
    "cap = cv2.VideoCapture('video4.mp4') # 0\n",
    "# Define the text properties\n",
    "font = cv2.FONT_HERSHEY_SIMPLEX\n",
    "font_scale = 1.5\n",
    "font_color = (255, 0, 0)  # Blue color\n",
    "thickness = 2\n",
    "position = (50, 50)\n",
    "\n",
    "while True:\n",
    "    _, img = cap.read()\n",
    "    img = cv2.resize(img, (1280, 720))\n",
    "    results = model(img)\n",
    "    boxes = results.xyxy[0].tolist()\n",
    "\n",
    "    #label exctraction from results\n",
    "    info=str(results)\n",
    "    splitted=info.split()\n",
    "    if (splitted[4]=='No' or splitted[4]==\"Pedestrain\" or splitted[4]=='Give' or splitted[4]=='Pass'):\n",
    "        label=splitted[4]+' '+splitted[5]\n",
    "    else:\n",
    "        label=splitted[4]\n",
    "\n",
    "    if len(boxes) > 0:\n",
    "        x = ceil(boxes[0][0])\n",
    "        y = ceil(boxes[0][1])\n",
    "        w = ceil(boxes[0][2])\n",
    "        h = ceil(boxes[0][3])\n",
    "        cv2.rectangle(img, (x, y), (w, h), (255, 0, 0), 2)\n",
    "        cv2.putText(img, label, position, font, font_scale, font_color, thickness)\n",
    "\n",
    "    cv2.imshow('img', img)\n",
    "    if cv2.waitKey(1) == 27:  # Break the loop when the 'Esc' key is pressed\n",
    "        break\n",
    "\n",
    "cap.release()\n",
    "cv2.destroyAllWindows()"
   ]
  },
  {
   "cell_type": "code",
   "execution_count": null,
   "metadata": {},
   "outputs": [],
   "source": []
  }
 ],
 "metadata": {
  "kernelspec": {
   "display_name": "Python 3",
   "language": "python",
   "name": "python3"
  },
  "language_info": {
   "codemirror_mode": {
    "name": "ipython",
    "version": 3
   },
   "file_extension": ".py",
   "mimetype": "text/x-python",
   "name": "python",
   "nbconvert_exporter": "python",
   "pygments_lexer": "ipython3",
   "version": "3.10.9"
  },
  "orig_nbformat": 4
 },
 "nbformat": 4,
 "nbformat_minor": 2
}
